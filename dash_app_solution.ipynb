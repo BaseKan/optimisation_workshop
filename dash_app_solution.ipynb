{
  "nbformat": 4,
  "nbformat_minor": 0,
  "metadata": {
    "colab": {
      "name": "dash_app.ipynb",
      "provenance": [],
      "authorship_tag": "ABX9TyOh/miO1eLM2AA2c8xDqAPJ",
      "include_colab_link": true
    },
    "kernelspec": {
      "name": "python3",
      "display_name": "Python 3"
    },
    "language_info": {
      "name": "python"
    }
  },
  "cells": [
    {
      "cell_type": "markdown",
      "metadata": {
        "id": "view-in-github",
        "colab_type": "text"
      },
      "source": [
        "<a href=\"https://colab.research.google.com/github/BaseKan/optimisation_workshop/blob/main/dash_app_solution.ipynb\" target=\"_parent\"><img src=\"https://colab.research.google.com/assets/colab-badge.svg\" alt=\"Open In Colab\"/></a>"
      ]
    },
    {
      "cell_type": "markdown",
      "metadata": {
        "id": "q7-wgv1l1GeZ"
      },
      "source": [
        "# Setup"
      ]
    },
    {
      "cell_type": "code",
      "metadata": {
        "id": "PyHVdhTD3JPe"
      },
      "source": [
        "!curl -L -c cookies.txt 'https://docs.google.com/uc?export=download&id=1jqIT0Oimj1sXUfNj071u7l4OSU93Fc_y' | sed -rn 's/.*confirm=([0-9A-Za-z_]+).*/\\1/p' > confirm.txt    \n",
        "!curl -L -b cookies.txt -o 'app.zip' 'https://docs.google.com/uc?export=download&id=1jqIT0Oimj1sXUfNj071u7l4OSU93Fc_y&confirm='$(<confirm.txt)\n",
        "!unzip app.zip\n",
        "!rm -f confirm.txt cookies.txt app.zip"
      ],
      "execution_count": null,
      "outputs": []
    },
    {
      "cell_type": "code",
      "metadata": {
        "id": "d10RTEPMiY2K"
      },
      "source": [
        "!curl -L -c cookies.txt 'https://docs.google.com/uc?export=download&id=1PQWIANcav-KpiO2Ju8wIKfeB8Gpwizqs' | sed -rn 's/.*confirm=([0-9A-Za-z_]+).*/\\1/p' > confirm.txt    \n",
        "!curl -L -b cookies.txt -o 'data.zip' 'https://docs.google.com/uc?export=download&id=1PQWIANcav-KpiO2Ju8wIKfeB8Gpwizqs&confirm='$(<confirm.txt)\n",
        "!unzip data.zip\n",
        "!rm -f confirm.txt cookies.txt data.zip"
      ],
      "execution_count": null,
      "outputs": []
    },
    {
      "cell_type": "code",
      "metadata": {
        "id": "6XSYtVWb4Wns"
      },
      "source": [
        "!pip install jupyter-dash\n",
        "!pip install dash-bootstrap-components"
      ],
      "execution_count": null,
      "outputs": []
    },
    {
      "cell_type": "markdown",
      "metadata": {
        "id": "zsFs7mUsMQkX"
      },
      "source": [
        "# EnergieNL App"
      ]
    },
    {
      "cell_type": "code",
      "metadata": {
        "id": "JbcEOu4p0o0w"
      },
      "source": [
        "import pandas as pd\n",
        "import os\n",
        "import numpy as np\n",
        "\n",
        "def load_data_from_file(datapath, filename):\n",
        "    path = os.path.join(datapath,filename)\n",
        "    return pd.read_csv(path).assign(jaar =  filename.split('_')[2][:4],\n",
        "                                                         dso = filename.split('_')[0])\n",
        "\n",
        "def load_timeseries_data(basepath='data', type = 'Electricity'):\n",
        "    datapath = os.path.join(basepath,type)\n",
        "    files = os.listdir(datapath)\n",
        "    files = [filename for filename in files if int(filename.split('_')[2][:4])>= 2017]\n",
        "    dsos = ['liander','enexis','stedin']\n",
        "    files = [filename for filename in files if any(dso in filename for dso in dsos)]\n",
        "    df = pd.concat([load_data_from_file(datapath, file) for file in files])\n",
        "    return df\n",
        "\n",
        "def calculate_top_ten(df):\n",
        "    df = df.assign(Verbruik = df['annual_consume']).filter(['Verbruik','city'])\n",
        "    df = (\n",
        "        df.filter(['city','Verbruik']).\n",
        "            groupby(['city'])\n",
        "            .agg(np.sum)\n",
        "            .sort_values('Verbruik',ascending=False)\n",
        "            .reset_index()\n",
        "            .iloc[:10,:]\n",
        "    )\n",
        "    df.columns = ['Stad', 'Jaarverbruik (MWh)']\n",
        "    return df\n",
        "\n",
        "def calculate_timeseries(df_elec, df_gas, cities):\n",
        "    df_elec = (\n",
        "        df_elec.query(f'city in {cities}')\n",
        "            .filter(['city','jaar','annual_consume','num_connections'])\n",
        "            .groupby(['city','jaar'])\n",
        "            .agg(np.sum)\n",
        "    )\n",
        "    df_elec.columns = ['E','num_connections']\n",
        "    df_gas = (\n",
        "        df_gas.query(f'city in {cities}')\n",
        "            .filter(['city','jaar', 'annual_consume'])\n",
        "            .groupby(['city', 'jaar'])\n",
        "            .agg(np.sum)\n",
        "    )\n",
        "    df_gas.columns = ['G']\n",
        "    df = df_gas.join(df_elec).reset_index()\n",
        "    df = (\n",
        "        df.assign(Gemiddeld_verbruik = (df['E']*3.6 + df['G']*35.17)/df['num_connections'])\n",
        "        .filter(['city','jaar','Gemiddeld_verbruik'])\n",
        "    )\n",
        "    df.columns = ['Stad','Jaar','Gemiddeld_verbruik']\n",
        "    return df"
      ],
      "execution_count": null,
      "outputs": []
    },
    {
      "cell_type": "code",
      "metadata": {
        "id": "Wuy_QVhy1SmT"
      },
      "source": [
        "from jupyter_dash import JupyterDash\n",
        "import dash_core_components as dcc\n",
        "import dash_bootstrap_components as dbc\n",
        "import dash_html_components as html\n",
        "from dash.dependencies import Input, Output, State\n",
        "\n",
        "import plotly.express as px\n",
        "\n",
        "import page_jaarverbruik\n",
        "import page_tijdreeks\n",
        "import time\n",
        "\n",
        "external_stylesheets = [\"https://bootswatch.com/4/flatly/bootstrap.css\"]\n",
        "\n",
        "app = JupyterDash(__name__, external_stylesheets=external_stylesheets)\n",
        "\n",
        "overhead_bar = dbc.NavbarSimple(\n",
        "    children = [dbc.NavItem(dbc.NavLink(\"Stedelijk Jaarverbruik\", href='/jaarverbruik', active=\"exact\")),\n",
        "                dbc.NavItem(dbc.NavLink(\"Verbruik over de jaren\", href='/tijdreeks', active=\"exact\"))],\n",
        "    brand='EnergieNL v0.1.0',\n",
        "    color='primary',\n",
        "    dark=True\n",
        ")\n",
        "\n",
        "content = html.Div(id='page-content', children=[])\n",
        "\n",
        "app.layout = html.Div([\n",
        "    dcc.Location(id='url'),\n",
        "    overhead_bar,\n",
        "    content\n",
        "])\n",
        "\n",
        "@app.callback(Output('page-content','children'),\n",
        "              [Input('url','pathname')])\n",
        "\n",
        "def render_page_content(pathname):\n",
        "    if pathname == \"/\" or pathname == '/jaarverbruik':\n",
        "        return page_jaarverbruik.content\n",
        "\n",
        "    elif pathname == '/tijdreeks':\n",
        "        return page_tijdreeks.content\n",
        "\n",
        "    else:\n",
        "        return dbc.Jumbotron(\n",
        "        [\n",
        "            html.H1(\"404: Not found\", className=\"text-danger\"),\n",
        "            html.Hr(),\n",
        "            html.P(f\"The pathname {pathname} was not recognised...\"),\n",
        "        ]\n",
        "    )\n",
        "\n",
        "@app.callback(Output(\"dso-table\", \"data\"),\n",
        "              Output('calc-box1', 'children'),\n",
        "              Input(\"submit-table-data\", 'n_clicks'),\n",
        "              State(\"year-box\", \"value\"),\n",
        "              State(\"dso-box\", \"value\"))\n",
        "\n",
        "def update_dso_table(n_clicks, year, dso):\n",
        "    start = time.time()\n",
        "    df = load_data_from_file(datapath='data/Electricity',filename=dso+'_electricity_'+str(year)+'.csv')\n",
        "    df = calculate_top_ten(df=df)\n",
        "    end = time.time()\n",
        "    rekentijd_str = str(round(end-start,3))+' seconden'\n",
        "    return df.to_dict('records'), rekentijd_str\n",
        "\n",
        "@app.callback(Output(\"timeseries-figure\", \"figure\"),\n",
        "              Output('calc-box2', 'children'),\n",
        "              Input(\"submit-figure-data\", 'n_clicks'),\n",
        "              State(\"city-box\", \"value\"))\n",
        "\n",
        "def update_timeseries_figure(n_clicks, cities):\n",
        "    start = time.time()\n",
        "    df_elec = load_timeseries_data()\n",
        "    df_gas = load_timeseries_data(type='Gas')\n",
        "    df = calculate_timeseries(df_elec=df_elec,df_gas=df_gas, cities=cities)\n",
        "    fig = px.line(df.sort_values('Jaar'), x='Jaar', y='Gemiddeld_verbruik', color='Stad')\n",
        "    end = time.time()\n",
        "    rekentijd_str = str(round(end-start,3))+' seconden'\n",
        "    return fig, rekentijd_str\n",
        "\n",
        "\n",
        "\n",
        "app.run_server(mode='external', debug=True)\n"
      ],
      "execution_count": null,
      "outputs": []
    }
  ]
}