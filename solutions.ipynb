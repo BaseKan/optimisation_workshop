{
  "nbformat": 4,
  "nbformat_minor": 5,
  "metadata": {
    "kernelspec": {
      "display_name": "Python 3",
      "language": "python",
      "name": "python3"
    },
    "language_info": {
      "codemirror_mode": {
        "name": "ipython",
        "version": 3
      },
      "file_extension": ".py",
      "mimetype": "text/x-python",
      "name": "python",
      "nbconvert_exporter": "python",
      "pygments_lexer": "ipython3",
      "version": "3.8.7"
    },
    "colab": {
      "name": "solutions.ipynb",
      "provenance": []
    }
  },
  "cells": [
    {
      "cell_type": "markdown",
      "metadata": {
        "id": "helpful-formula"
      },
      "source": [
        "# Setup"
      ],
      "id": "helpful-formula"
    },
    {
      "cell_type": "code",
      "metadata": {
        "colab": {
          "base_uri": "https://localhost:8080/"
        },
        "id": "friendly-production",
        "outputId": "131d87a8-d621-47fe-fdc8-1297b7219e76"
      },
      "source": [
        "import os\n",
        "import pandas as pd\n",
        "import csv\n",
        "import sys\n",
        "import numpy as np\n",
        "from PIL import Image, ImageColor\n",
        "import asyncio\n",
        "from matplotlib.pyplot import imshow\n",
        "csv.field_size_limit(sys.maxsize)"
      ],
      "id": "friendly-production",
      "execution_count": 1,
      "outputs": [
        {
          "output_type": "execute_result",
          "data": {
            "text/plain": [
              "131072"
            ]
          },
          "metadata": {
            "tags": []
          },
          "execution_count": 1
        }
      ]
    },
    {
      "cell_type": "code",
      "metadata": {
        "id": "2JsWcVCdttEy",
        "outputId": "0713bfe6-94e7-40b7-c335-38a86d644d26",
        "colab": {
          "base_uri": "https://localhost:8080/"
        }
      },
      "source": [
        "!pip install memory_profiler"
      ],
      "id": "2JsWcVCdttEy",
      "execution_count": 2,
      "outputs": [
        {
          "output_type": "stream",
          "text": [
            "Collecting memory_profiler\n",
            "  Downloading https://files.pythonhosted.org/packages/8f/fd/d92b3295657f8837e0177e7b48b32d6651436f0293af42b76d134c3bb489/memory_profiler-0.58.0.tar.gz\n",
            "Requirement already satisfied: psutil in /usr/local/lib/python3.7/dist-packages (from memory_profiler) (5.4.8)\n",
            "Building wheels for collected packages: memory-profiler\n",
            "  Building wheel for memory-profiler (setup.py) ... \u001b[?25l\u001b[?25hdone\n",
            "  Created wheel for memory-profiler: filename=memory_profiler-0.58.0-cp37-none-any.whl size=30180 sha256=9078be640f6dcbae96e0ca85c1637e9ed7317add354075a64fb1f9020d8eac7c\n",
            "  Stored in directory: /root/.cache/pip/wheels/02/e4/0b/aaab481fc5dd2a4ea59e78bc7231bb6aae7635ca7ee79f8ae5\n",
            "Successfully built memory-profiler\n",
            "Installing collected packages: memory-profiler\n",
            "Successfully installed memory-profiler-0.58.0\n"
          ],
          "name": "stdout"
        }
      ]
    },
    {
      "cell_type": "code",
      "metadata": {
        "id": "asian-toyota"
      },
      "source": [
        "import memory_profiler\n",
        "import time\n",
        "\n",
        "def time_mem_decorator(func):                                                                                            \n",
        "    def out(*args, **kwargs):                                                                                            \n",
        "        m1 = memory_profiler.memory_usage()\n",
        "        t1 = time.time()\n",
        "        \n",
        "        result = func(*args, **kwargs)\n",
        "        \n",
        "        t2 = time.time()\n",
        "        m2 = memory_profiler.memory_usage()\n",
        "        time_diff = t2 - t1\n",
        "        mem_diff = m2[0] - m1[0]\n",
        "        print(f\"It took {time_diff} Secs and {mem_diff} Mb to execute this function.\")\n",
        "        return(result)\n",
        "    return out  "
      ],
      "id": "asian-toyota",
      "execution_count": 3,
      "outputs": []
    },
    {
      "cell_type": "markdown",
      "metadata": {
        "id": "decreased-multiple"
      },
      "source": [
        "# Vectorisatie"
      ],
      "id": "decreased-multiple"
    },
    {
      "cell_type": "code",
      "metadata": {
        "id": "guided-regular"
      },
      "source": [
        "def complicated_calculation(n):\n",
        "    a = 10 + n\n",
        "    a = a**2 % 7 + 1\n",
        "    return np.random.randint(0,100)-a"
      ],
      "id": "guided-regular",
      "execution_count": 10,
      "outputs": []
    },
    {
      "cell_type": "code",
      "metadata": {
        "id": "protective-single"
      },
      "source": [
        "@time_mem_decorator\n",
        "def get_results_fast():\n",
        "    return np.vectorize(complicated_calculation)(np.arange(0,100000))"
      ],
      "id": "protective-single",
      "execution_count": 13,
      "outputs": []
    },
    {
      "cell_type": "code",
      "metadata": {
        "colab": {
          "base_uri": "https://localhost:8080/"
        },
        "id": "latter-planner",
        "outputId": "e974bab3-2cf4-4fe3-e580-4a7b0fc28c64"
      },
      "source": [
        "get_results_fast()"
      ],
      "id": "latter-planner",
      "execution_count": 14,
      "outputs": [
        {
          "output_type": "stream",
          "text": [
            "It took 0.3885159492492676 Secs and 3.546875 Mb to execute this function.\n"
          ],
          "name": "stdout"
        },
        {
          "output_type": "execute_result",
          "data": {
            "text/plain": [
              "array([41, 30, 13, ..., 30, 44, 45])"
            ]
          },
          "metadata": {
            "tags": []
          },
          "execution_count": 14
        }
      ]
    },
    {
      "cell_type": "markdown",
      "metadata": {
        "id": "improving-profit"
      },
      "source": [
        "# Generators"
      ],
      "id": "improving-profit"
    },
    {
      "cell_type": "code",
      "metadata": {
        "id": "vYbMhgM4VmBD",
        "outputId": "f4e6f2ab-3b8d-4cba-d1e5-1a7aeea7da5b",
        "colab": {
          "base_uri": "https://localhost:8080/"
        }
      },
      "source": [
        "!curl -L -c cookies.txt 'https://docs.google.com/uc?export=download&id=1DhyJdebnB6zwV5Jce1TgTO8PwfNtwn7P' | sed -rn 's/.*confirm=([0-9A-Za-z_]+).*/\\1/p' > confirm.txt\n",
        "!curl -L -b cookies.txt -o 'en-books-dataset.zip' 'https://docs.google.com/uc?export=download&id=1DhyJdebnB6zwV5Jce1TgTO8PwfNtwn7P&confirm='$(<confirm.txt)\n",
        "!unzip en-books-dataset.zip\n",
        "!rm -f confirm.txt cookies.txt en-books-dataset.zip"
      ],
      "id": "vYbMhgM4VmBD",
      "execution_count": 4,
      "outputs": [
        {
          "output_type": "stream",
          "text": [
            "  % Total    % Received % Xferd  Average Speed   Time    Time     Time  Current\n",
            "                                 Dload  Upload   Total   Spent    Left  Speed\n",
            "100  3284    0  3284    0     0  11728      0 --:--:-- --:--:-- --:--:-- 11728\n",
            "  % Total    % Received % Xferd  Average Speed   Time    Time     Time  Current\n",
            "                                 Dload  Upload   Total   Spent    Left  Speed\n",
            "100   408    0   408    0     0   2385      0 --:--:-- --:--:-- --:--:--  2372\n",
            "  0     0    0     0    0     0      0      0 --:--:-- --:--:-- --:--:--     0\n",
            "  0     0    0     0    0     0      0      0 --:--:-- --:--:-- --:--:--     0\n",
            "100  481M    0  481M    0     0  35.5M      0 --:--:--  0:00:13 --:--:-- 51.2M\n",
            "Archive:  en-books-dataset.zip\n",
            "  inflating: en-books-dataset.csv    \n"
          ],
          "name": "stdout"
        }
      ]
    },
    {
      "cell_type": "code",
      "metadata": {
        "id": "hungry-orbit"
      },
      "source": [
        "def fast_csv_reader(filename):\n",
        "    with open(filename, 'r') as csv_file:\n",
        "        for row in csv.reader(csv_file):\n",
        "            yield row"
      ],
      "id": "hungry-orbit",
      "execution_count": 9,
      "outputs": []
    },
    {
      "cell_type": "code",
      "metadata": {
        "colab": {
          "base_uri": "https://localhost:8080/"
        },
        "id": "dominant-ozone",
        "outputId": "23b97928-48e0-4567-df11-67e1dca65516"
      },
      "source": [
        "print(next(iter(fast_csv_reader('en-books-dataset.csv'))))"
      ],
      "id": "dominant-ozone",
      "execution_count": 6,
      "outputs": [
        {
          "output_type": "stream",
          "text": [
            "['title', 'url', 'abstract', 'body_text', 'body_html']\n"
          ],
          "name": "stdout"
        }
      ]
    },
    {
      "cell_type": "code",
      "metadata": {
        "id": "atlantic-definition"
      },
      "source": [
        "@time_mem_decorator\n",
        "def fast_row_count(filename):\n",
        "    rows = 0\n",
        "    for row in fast_csv_reader(filename):\n",
        "        rows += 1\n",
        "    # -1 because the reader includes the headers.\n",
        "    return f\"There are {rows - 1} rows in the csv file.\""
      ],
      "id": "atlantic-definition",
      "execution_count": 10,
      "outputs": []
    },
    {
      "cell_type": "code",
      "metadata": {
        "colab": {
          "base_uri": "https://localhost:8080/",
          "height": 52
        },
        "id": "spoken-oxygen",
        "outputId": "84a9a49c-54c7-49d2-d6ed-8f710b0206c6"
      },
      "source": [
        "fast_row_count('en-books-dataset.csv')"
      ],
      "id": "spoken-oxygen",
      "execution_count": 11,
      "outputs": [
        {
          "output_type": "stream",
          "text": [
            "It took 47.35005974769592 Secs and 39.2421875 Mb to execute this function.\n"
          ],
          "name": "stdout"
        },
        {
          "output_type": "execute_result",
          "data": {
            "application/vnd.google.colaboratory.intrinsic+json": {
              "type": "string"
            },
            "text/plain": [
              "'There are 82258 rows in the csv file.'"
            ]
          },
          "metadata": {
            "tags": []
          },
          "execution_count": 11
        }
      ]
    },
    {
      "cell_type": "markdown",
      "metadata": {
        "id": "romance-virginia"
      },
      "source": [
        "# Slimme queries"
      ],
      "id": "romance-virginia"
    },
    {
      "cell_type": "code",
      "metadata": {
        "id": "rQyLOUjC1fqI"
      },
      "source": [
        "# data inladen hier"
      ],
      "id": "rQyLOUjC1fqI",
      "execution_count": 15,
      "outputs": []
    },
    {
      "cell_type": "code",
      "metadata": {
        "id": "formed-chambers"
      },
      "source": [
        "@time_mem_decorator\n",
        "def calculate_average_prices_for_best_wines_per_region(wine_datasets = load_wine_datasets()):\n",
        "    wine_meta = wine_datasets[0]\n",
        "    wine_metrics = wine_datasets[1]\n",
        "    wine_metrics = wine_metrics[wine_metrics.points >= 90]\n",
        "    wines = wine_meta.join(wine_metrics)\n",
        "    return wines[['region_1','price']].groupby('region_1').agg('mean')"
      ],
      "id": "formed-chambers",
      "execution_count": null,
      "outputs": []
    },
    {
      "cell_type": "code",
      "metadata": {
        "id": "ajix75g91mU9"
      },
      "source": [
        "calculate_average_prices_for_best_wines_per_region()"
      ],
      "id": "ajix75g91mU9",
      "execution_count": null,
      "outputs": []
    }
  ]
}