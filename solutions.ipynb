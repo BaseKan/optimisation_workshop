{
 "cells": [
  {
   "cell_type": "markdown",
   "id": "helpful-formula",
   "metadata": {},
   "source": [
    "# Setup"
   ]
  },
  {
   "cell_type": "code",
   "execution_count": 1,
   "id": "friendly-production",
   "metadata": {},
   "outputs": [
    {
     "data": {
      "text/plain": [
       "131072"
      ]
     },
     "execution_count": 1,
     "metadata": {},
     "output_type": "execute_result"
    }
   ],
   "source": [
    "import os\n",
    "import pandas as pd\n",
    "import csv\n",
    "import sys\n",
    "import numpy as np\n",
    "from PIL import Image, ImageColor\n",
    "import asyncio\n",
    "from matplotlib.pyplot import imshow\n",
    "csv.field_size_limit(sys.maxsize)"
   ]
  },
  {
   "cell_type": "code",
   "execution_count": 2,
   "id": "asian-toyota",
   "metadata": {},
   "outputs": [],
   "source": [
    "import memory_profiler\n",
    "import time\n",
    "\n",
    "def time_mem_decorator(func):                                                                                            \n",
    "    def out(*args, **kwargs):                                                                                            \n",
    "        m1 = memory_profiler.memory_usage()\n",
    "        t1 = time.time()\n",
    "        \n",
    "        result = func(*args, **kwargs)\n",
    "        \n",
    "        t2 = time.time()\n",
    "        m2 = memory_profiler.memory_usage()\n",
    "        time_diff = t2 - t1\n",
    "        mem_diff = m2[0] - m1[0]\n",
    "        print(f\"It took {time_diff} Secs and {mem_diff} Mb to execute this function.\")\n",
    "        return(result)\n",
    "    return out  "
   ]
  },
  {
   "cell_type": "markdown",
   "id": "decreased-multiple",
   "metadata": {},
   "source": [
    "# Vectorisatie"
   ]
  },
  {
   "cell_type": "code",
   "execution_count": 14,
   "id": "super-victorian",
   "metadata": {},
   "outputs": [],
   "source": [
    "def complicated_calculation(n):\n",
    "    a = 10\n",
    "    for i in range(10000):\n",
    "        a = a**2 % 7 + 1\n",
    "    return np.random.randint(0,100)-a"
   ]
  },
  {
   "cell_type": "code",
   "execution_count": 15,
   "id": "protective-single",
   "metadata": {},
   "outputs": [],
   "source": [
    "@time_mem_decorator\n",
    "def get_results_fast():\n",
    "    return np.vectorize(complicated_calculation)(np.arange(0,1000))"
   ]
  },
  {
   "cell_type": "code",
   "execution_count": 16,
   "id": "featured-heather",
   "metadata": {},
   "outputs": [
    {
     "name": "stdout",
     "output_type": "stream",
     "text": [
      "It took 3.819258689880371 Secs and 0.03125 Mb to execute this function.\n"
     ]
    },
    {
     "data": {
      "text/plain": [
       "array([86, 75, 74, 87, 46, 87, 95,  4, 20, 15, 15, 40, 60,  8, 95, 55, 39,\n",
       "       70, 18, 65, 36, 91,  8, 27, 63, 37, 41,  5, 76,  4, 24, 68, 10, 10,\n",
       "       57,  1, 59, 20, 51, 11, 60,  2, 68, 60, 29, 61, 36,  6, 64, 91, 34,\n",
       "       36,  4, 89, 20, 56, 15, 39, 27, 66, 25, 31, 10, 47, 37, 22, 46, 17,\n",
       "       89, 36, 80, 17, 77, 59, 32, 95, 86, 25, 54, 60, 89, 23, 90, 16, -2,\n",
       "       77, 37, 61, 89, 71, 52, 82, 94, 35, 53, 95, 31, 41, 59, 62, 27, -1,\n",
       "       77,  2, 78, 63, 28, 78, -1, 61,  1, 45, 14, 86, 38, 54, 45, -3, 44,\n",
       "       46, 92, 84, 29, 85, 36, 30, 40,  5, 54,  9, 26, 87, 62, 51,  7, 92,\n",
       "       71, 72, 75, 15, 70, 59, 91, 78, 17, 29, 79, 64, 83, 80, 62, 34, 85,\n",
       "       53,  3, 72, 94, 85, 12, 75, 86, 60, 71,  8, 50,  3,  1, 82, 64,  5,\n",
       "       25,  5, 54, 84, 50, 53, 68,  6, 93, 15, 21, 63, 89, 56, 93, 96, 32,\n",
       "       37, 61, 79, 48, 95, 62, 87, 78, 12, 93, 91, 40, 64, 29, 56, 40, 35,\n",
       "       16,  3, 51, 55, 28,  7, 67, 24, 39, 48, 21, 71, 15, 30, 65, 52, 27,\n",
       "        2, 42, 10, 68, 45, 19, 71, 82, 70, 62, 29, 54, 74, 28, 38, 58,  0,\n",
       "       68, 12, 95, 12, 49,  2, 82, 93, 57, 59, 94, 33, 64, 75, 83, 20, 25,\n",
       "       -1, 50, 10, 48, 14, 85, 62, 66, 59, 82, 30, 27, 51, 68, 72, 26, 60,\n",
       "       92, 18, 14, 34, 22, 67,  0, 80, 14, 82, 93, 91, 71,  0, 36, 34, 79,\n",
       "       46, 92, 15, 92, 69, 69, 95,  1,  7, 69, 85, 31, 59, 38, 70, 86, 78,\n",
       "        3,  4,  8, 11, 96, 55, 91, 53, 89, 64, 92, 36, 80, 67, 10, 42, 36,\n",
       "       93, 74, 16, 52, 85, 55, 36, 92, 11, 40,  3, 64, 72, 59, 38, 59, 64,\n",
       "       70, 64, 38, 35, 49, 60, 52,  6, 35, 13,  5, 26, 10, 79, 95, 94, 39,\n",
       "       15, 42, 51, 27, 17, 38, -2, 35, 42, 61, 64, 57, 90,  7,  2,  4,  4,\n",
       "       68, 79, 62, 78, 95, -3, 24, 90, 45, 31, 65, 31, 57, 54, 45, 75, 13,\n",
       "       15, 48, 27,  3, 64, 13, 33, 72, 71, 14, 82, 24, 11, 69, 75, 22, 63,\n",
       "       76, 17, 16, 14, 58, 83, 67,  4,  7, 59, 13, 88, 51, 52, 26, 15, 55,\n",
       "       41, 21, 31, 24, 25, 25, 28, 16,  7, 40, 60, 11,  8, 23, 60, 17, 44,\n",
       "       20, 30, 56, 18, -1, 89, 87, 27, 62, 54,  6, 23, 47, 91, 28, 47, 79,\n",
       "       47, 80, 68, 21, 40, 67,  5, 47, 62,  1, 88, 37, 81, -2,  1, 12, -2,\n",
       "       55, 91, -2, 71, -3,  1, 63, 35, 55, 71, 48, 57, 53, 83, 33, 34, 21,\n",
       "       59, -1, 10, 72, 30, 25, 53, 88, -2, 52, 33, 85, 42, 56, -3, 39, 37,\n",
       "       94, 25, 72, 27, 76,  7, 29, 79, 27, 40, 41, 66, 25, 14, 45, 10, 73,\n",
       "       -1, 65, 27, 91, 49, 52, 53, 51, 52, 30,  4,  6, 13, 63,  1, 34, 34,\n",
       "       41,  4, 86, 94, 11, -2, 35, -3, 82, 45, 20, 80, 24, 59, 78, 23, 52,\n",
       "       57,  1, 15, 65, 33, 33, 50,  3, 53, 56, 36, 71, 41, 59, 53, 44, 44,\n",
       "       23, 52, 11, 57, 32, 96,  2, 51,  0, 48, 63, 19, 27, 70, 64, 83, 37,\n",
       "       66, 51, 77, 63,  6, 55, 28, 75, -1, 75, 56, 90, 21, 67, 81, 39, 56,\n",
       "        4, 82, 42, 31, 93, 26, 24, 64, 11, 41, 70, 89, 91,  9, 13, 50, -2,\n",
       "       39, 65, 95, 59, 54, 85, 54, 49, 96, 37,  4, 78, -3,  0,  9, 89, 89,\n",
       "       75,  1,  9, 36, 24, 96, 77, 18, 24, 83, 53, 38, 91, 46, 47, 30, 59,\n",
       "       31, 26, 51, 81, 39, 89, 91, 96, 39, 67, 82, -2, 88, 76, 76, 73, 54,\n",
       "       80, 24, -1, 65, 40, -3, 84, 50, 69, 80, 47, 78, 26, 44, 74, 21,  6,\n",
       "       50, 15, 13, 14, 46, 47, 26, 64, 27,  2, 62, 93, 70,  6, 13, 72, 16,\n",
       "       73, 70, 86, 73, -2, 76, 54, 43, 39, 89,  0,  1, 68, 77, 22, 83, 53,\n",
       "       18, 24, 72, 61, 78,  4, 73, 51, 12, 34,  0, 33, 32, 31, 39, 81, 13,\n",
       "       85, 68, 75, 52, 64, 20, 81,  6, 78, 27, 29, -2, 76, 82, 18, 41, 34,\n",
       "        2, 42, 38, 70, 78, 74,  6, 64, 31, 58, 44, 38,  2, 15, 77, 77, 17,\n",
       "       78, 83, 17, 33, 87, 21, 51, 93, 93, 36, 49, 50, 53, 39, 49, 10, 59,\n",
       "       -3, 94, 40, 94,  1, 60, 15, 43,  1, 86, 22, 14, 88, 82, -2, 24,  1,\n",
       "       67,  5, 49, 18, 89, 64, 63, 43,  0, 53, -1,  1, 72,  0, 94,  3, 13,\n",
       "       21, 28, 77, 46, 50, 55,  4, 43, -3, 51, 48, 10, 52, 62, 89, 26, 93,\n",
       "       16,  7, 91, 75, 64, 75, 29, 44, 84, 68, 82, 77, 24, 51, -1, 33, 66,\n",
       "       85, 78, 62, 76, 88, 24, 70, 41, 86, 66, 27, 69, 67, 44, 37, 50, 39,\n",
       "       40, 93, 60, 82, 32, 92, 78, 26, 17, 17, 77, 76, 88,  8, 31, 43, 17,\n",
       "       62, 32, 20, 51, 88, 72,  6, 19, 54, 44, 78,  3, 87,  0, 48, 66, 81,\n",
       "       32, 66, -1, 86, 53, 78, 52, 85, 13, 67, 81, 44, 43, 14, 92, 25, 30,\n",
       "       -3, 31, 78, 31, 50, 44, 45, 85,  3, 28,  2, 27, 83, 41, 74, 42, 25,\n",
       "       34, 63, 56, 75, 31, 80, 63, 14, 82,  1, 40, 73, 62, 85, 17, 82, 18,\n",
       "       46, 62,  0, 10, 63, 51,  0, 20, 47, 64, 16, 36, 21, 57, 34, 22, 64,\n",
       "       50, 33, 37, 95, 28, 49, 88, 30, 35, 65, 73, 79, 25, 93])"
      ]
     },
     "execution_count": 16,
     "metadata": {},
     "output_type": "execute_result"
    }
   ],
   "source": [
    "get_results_fast()"
   ]
  },
  {
   "cell_type": "markdown",
   "id": "improving-profit",
   "metadata": {},
   "source": [
    "# Generators"
   ]
  },
  {
   "cell_type": "code",
   "execution_count": 11,
   "id": "hungry-orbit",
   "metadata": {},
   "outputs": [],
   "source": [
    "def fast_csv_reader(filename):\n",
    "    with open(filename, 'r') as csv_file:\n",
    "        for row in csv.reader(csv_file):\n",
    "            yield row"
   ]
  },
  {
   "cell_type": "code",
   "execution_count": 12,
   "id": "dominant-ozone",
   "metadata": {},
   "outputs": [
    {
     "name": "stdout",
     "output_type": "stream",
     "text": [
      "['title', 'url', 'abstract', 'body_text', 'body_html']\n"
     ]
    }
   ],
   "source": [
    "print(next(iter(fast_csv_reader('en-books-dataset.csv'))))"
   ]
  },
  {
   "cell_type": "code",
   "execution_count": null,
   "id": "atlantic-definition",
   "metadata": {},
   "outputs": [],
   "source": [
    "@time_mem_decorator\n",
    "def fast_row_count(filename):\n",
    "    rows = 0\n",
    "    for row in fast_csv_reader(filename):\n",
    "        rows += 1\n",
    "    # -1 because the reader includes the headers.\n",
    "    return f\"There are {rows - 1} rows in the csv file.\""
   ]
  },
  {
   "cell_type": "code",
   "execution_count": null,
   "id": "spoken-oxygen",
   "metadata": {},
   "outputs": [],
   "source": [
    "fast_row_count('en-books-dataset.csv')"
   ]
  },
  {
   "cell_type": "markdown",
   "id": "romance-virginia",
   "metadata": {},
   "source": [
    "# Slimme queries"
   ]
  },
  {
   "cell_type": "code",
   "execution_count": null,
   "id": "formed-chambers",
   "metadata": {},
   "outputs": [],
   "source": []
  }
 ],
 "metadata": {
  "kernelspec": {
   "display_name": "Python 3",
   "language": "python",
   "name": "python3"
  },
  "language_info": {
   "codemirror_mode": {
    "name": "ipython",
    "version": 3
   },
   "file_extension": ".py",
   "mimetype": "text/x-python",
   "name": "python",
   "nbconvert_exporter": "python",
   "pygments_lexer": "ipython3",
   "version": "3.8.7"
  }
 },
 "nbformat": 4,
 "nbformat_minor": 5
}
