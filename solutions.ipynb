{
 "cells": [
  {
   "cell_type": "markdown",
   "id": "helpful-formula",
   "metadata": {},
   "source": [
    "# Setup"
   ]
  },
  {
   "cell_type": "code",
   "execution_count": null,
   "id": "friendly-production",
   "metadata": {},
   "outputs": [],
   "source": [
    "import os\n",
    "import pandas as pd\n",
    "import csv\n",
    "import sys\n",
    "import numpy as np\n",
    "from PIL import Image, ImageColor\n",
    "import asyncio\n",
    "from matplotlib.pyplot import imshow\n",
    "csv.field_size_limit(sys.maxsize)"
   ]
  },
  {
   "cell_type": "code",
   "execution_count": null,
   "id": "asian-toyota",
   "metadata": {},
   "outputs": [],
   "source": [
    "import memory_profiler\n",
    "import time\n",
    "\n",
    "def time_mem_decorator(func):                                                                                            \n",
    "    def out(*args, **kwargs):                                                                                            \n",
    "        m1 = memory_profiler.memory_usage()\n",
    "        t1 = time.time()\n",
    "        \n",
    "        result = func(*args, **kwargs)\n",
    "        \n",
    "        t2 = time.time()\n",
    "        m2 = memory_profiler.memory_usage()\n",
    "        time_diff = t2 - t1\n",
    "        mem_diff = m2[0] - m1[0]\n",
    "        print(f\"It took {time_diff} Secs and {mem_diff} Mb to execute this function.\")\n",
    "        return(result)\n",
    "    return out  "
   ]
  },
  {
   "cell_type": "markdown",
   "id": "decreased-multiple",
   "metadata": {},
   "source": [
    "# Vectorisatie"
   ]
  },
  {
   "cell_type": "code",
   "execution_count": null,
   "id": "guided-regular",
   "metadata": {},
   "outputs": [],
   "source": [
    "def complicated_calculation(n):\n",
    "    a = 10\n",
    "    for i in range(10000):\n",
    "        a = a**2 % 7 + 1\n",
    "    return np.random.randint(0,100)-a"
   ]
  },
  {
   "cell_type": "code",
   "execution_count": null,
   "id": "protective-single",
   "metadata": {},
   "outputs": [],
   "source": [
    "@time_mem_decorator\n",
    "def get_results_fast():\n",
    "    return np.vectorize(complicated_calculation)(np.arange(0,1000))"
   ]
  },
  {
   "cell_type": "code",
   "execution_count": null,
   "id": "latter-planner",
   "metadata": {},
   "outputs": [],
   "source": [
    "get_results_fast()"
   ]
  },
  {
   "cell_type": "markdown",
   "id": "improving-profit",
   "metadata": {},
   "source": [
    "# Generators"
   ]
  },
  {
   "cell_type": "code",
   "execution_count": null,
   "id": "hungry-orbit",
   "metadata": {},
   "outputs": [],
   "source": [
    "def fast_csv_reader(filename):\n",
    "    with open(filename, 'r') as csv_file:\n",
    "        for row in csv.reader(csv_file):\n",
    "            yield row"
   ]
  },
  {
   "cell_type": "code",
   "execution_count": null,
   "id": "dominant-ozone",
   "metadata": {},
   "outputs": [],
   "source": [
    "print(next(iter(fast_csv_reader('en-books-dataset.csv'))))"
   ]
  },
  {
   "cell_type": "code",
   "execution_count": null,
   "id": "atlantic-definition",
   "metadata": {},
   "outputs": [],
   "source": [
    "@time_mem_decorator\n",
    "def fast_row_count(filename):\n",
    "    rows = 0\n",
    "    for row in fast_csv_reader(filename):\n",
    "        rows += 1\n",
    "    # -1 because the reader includes the headers.\n",
    "    return f\"There are {rows - 1} rows in the csv file.\""
   ]
  },
  {
   "cell_type": "code",
   "execution_count": null,
   "id": "spoken-oxygen",
   "metadata": {},
   "outputs": [],
   "source": [
    "fast_row_count('en-books-dataset.csv')"
   ]
  },
  {
   "cell_type": "markdown",
   "id": "romance-virginia",
   "metadata": {},
   "source": [
    "# Slimme queries"
   ]
  },
  {
   "cell_type": "code",
   "execution_count": null,
   "id": "formed-chambers",
   "metadata": {},
   "outputs": [],
   "source": []
  }
 ],
 "metadata": {
  "kernelspec": {
   "display_name": "Python 3",
   "language": "python",
   "name": "python3"
  },
  "language_info": {
   "codemirror_mode": {
    "name": "ipython",
    "version": 3
   },
   "file_extension": ".py",
   "mimetype": "text/x-python",
   "name": "python",
   "nbconvert_exporter": "python",
   "pygments_lexer": "ipython3",
   "version": "3.8.7"
  }
 },
 "nbformat": 4,
 "nbformat_minor": 5
}
