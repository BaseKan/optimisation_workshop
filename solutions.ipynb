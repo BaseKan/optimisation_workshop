{
  "nbformat": 4,
  "nbformat_minor": 5,
  "metadata": {
    "kernelspec": {
      "display_name": "Python 3",
      "language": "python",
      "name": "python3"
    },
    "language_info": {
      "codemirror_mode": {
        "name": "ipython",
        "version": 3
      },
      "file_extension": ".py",
      "mimetype": "text/x-python",
      "name": "python",
      "nbconvert_exporter": "python",
      "pygments_lexer": "ipython3",
      "version": "3.8.7"
    },
    "colab": {
      "name": "solutions.ipynb",
      "provenance": []
    }
  },
  "cells": [
    {
      "cell_type": "markdown",
      "metadata": {
        "id": "helpful-formula"
      },
      "source": [
        "# Setup"
      ],
      "id": "helpful-formula"
    },
    {
      "cell_type": "code",
      "metadata": {
        "id": "friendly-production"
      },
      "source": [
        "import os\n",
        "import pandas as pd\n",
        "import csv\n",
        "import sys\n",
        "import numpy as np\n",
        "from PIL import Image, ImageColor\n",
        "import asyncio\n",
        "from matplotlib.pyplot import imshow\n",
        "csv.field_size_limit(sys.maxsize)"
      ],
      "id": "friendly-production",
      "execution_count": null,
      "outputs": []
    },
    {
      "cell_type": "code",
      "metadata": {
        "id": "asian-toyota"
      },
      "source": [
        "import memory_profiler\n",
        "import time\n",
        "\n",
        "def time_mem_decorator(func):                                                                                            \n",
        "    def out(*args, **kwargs):                                                                                            \n",
        "        m1 = memory_profiler.memory_usage()\n",
        "        t1 = time.time()\n",
        "        \n",
        "        result = func(*args, **kwargs)\n",
        "        \n",
        "        t2 = time.time()\n",
        "        m2 = memory_profiler.memory_usage()\n",
        "        time_diff = t2 - t1\n",
        "        mem_diff = m2[0] - m1[0]\n",
        "        print(f\"It took {time_diff} Secs and {mem_diff} Mb to execute this function.\")\n",
        "        return(result)\n",
        "    return out  "
      ],
      "id": "asian-toyota",
      "execution_count": null,
      "outputs": []
    },
    {
      "cell_type": "markdown",
      "metadata": {
        "id": "decreased-multiple"
      },
      "source": [
        "# Vectorisatie"
      ],
      "id": "decreased-multiple"
    },
    {
      "cell_type": "code",
      "metadata": {
        "id": "guided-regular"
      },
      "source": [
        "def complicated_calculation(n):\n",
        "    a = 10 + n\n",
        "    for i in range(10000):\n",
        "        a = a**2 % 7 + 1\n",
        "    return np.random.randint(0,100)-a"
      ],
      "id": "guided-regular",
      "execution_count": null,
      "outputs": []
    },
    {
      "cell_type": "code",
      "metadata": {
        "id": "protective-single"
      },
      "source": [
        "@time_mem_decorator\n",
        "def get_results_fast():\n",
        "    return np.vectorize(complicated_calculation)(np.arange(0,1000))"
      ],
      "id": "protective-single",
      "execution_count": null,
      "outputs": []
    },
    {
      "cell_type": "code",
      "metadata": {
        "id": "latter-planner"
      },
      "source": [
        "get_results_fast()"
      ],
      "id": "latter-planner",
      "execution_count": null,
      "outputs": []
    },
    {
      "cell_type": "markdown",
      "metadata": {
        "id": "improving-profit"
      },
      "source": [
        "# Generators"
      ],
      "id": "improving-profit"
    },
    {
      "cell_type": "code",
      "metadata": {
        "id": "hungry-orbit"
      },
      "source": [
        "def fast_csv_reader(filename):\n",
        "    with open(filename, 'r') as csv_file:\n",
        "        for row in csv.reader(csv_file):\n",
        "            yield row"
      ],
      "id": "hungry-orbit",
      "execution_count": null,
      "outputs": []
    },
    {
      "cell_type": "code",
      "metadata": {
        "id": "dominant-ozone"
      },
      "source": [
        "print(next(iter(fast_csv_reader('en-books-dataset.csv'))))"
      ],
      "id": "dominant-ozone",
      "execution_count": null,
      "outputs": []
    },
    {
      "cell_type": "code",
      "metadata": {
        "id": "atlantic-definition"
      },
      "source": [
        "@time_mem_decorator\n",
        "def fast_row_count(filename):\n",
        "    rows = 0\n",
        "    for row in fast_csv_reader(filename):\n",
        "        rows += 1\n",
        "    # -1 because the reader includes the headers.\n",
        "    return f\"There are {rows - 1} rows in the csv file.\""
      ],
      "id": "atlantic-definition",
      "execution_count": null,
      "outputs": []
    },
    {
      "cell_type": "code",
      "metadata": {
        "id": "spoken-oxygen"
      },
      "source": [
        "fast_row_count('en-books-dataset.csv')"
      ],
      "id": "spoken-oxygen",
      "execution_count": null,
      "outputs": []
    },
    {
      "cell_type": "markdown",
      "metadata": {
        "id": "romance-virginia"
      },
      "source": [
        "# Slimme queries"
      ],
      "id": "romance-virginia"
    },
    {
      "cell_type": "code",
      "metadata": {
        "id": "formed-chambers"
      },
      "source": [
        ""
      ],
      "id": "formed-chambers",
      "execution_count": null,
      "outputs": []
    }
  ]
}