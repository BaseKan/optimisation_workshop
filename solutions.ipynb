{
  "nbformat": 4,
  "nbformat_minor": 5,
  "metadata": {
    "kernelspec": {
      "display_name": "Python 3",
      "language": "python",
      "name": "python3"
    },
    "language_info": {
      "codemirror_mode": {
        "name": "ipython",
        "version": 3
      },
      "file_extension": ".py",
      "mimetype": "text/x-python",
      "name": "python",
      "nbconvert_exporter": "python",
      "pygments_lexer": "ipython3",
      "version": "3.8.7"
    },
    "colab": {
      "name": "solutions.ipynb",
      "provenance": [],
      "include_colab_link": true
    }
  },
  "cells": [
    {
      "cell_type": "markdown",
      "metadata": {
        "id": "view-in-github",
        "colab_type": "text"
      },
      "source": [
        "<a href=\"https://colab.research.google.com/github/BaseKan/optimisation_workshop/blob/main/solutions.ipynb\" target=\"_parent\"><img src=\"https://colab.research.google.com/assets/colab-badge.svg\" alt=\"Open In Colab\"/></a>"
      ]
    },
    {
      "cell_type": "markdown",
      "metadata": {
        "id": "helpful-formula"
      },
      "source": [
        "# Setup"
      ],
      "id": "helpful-formula"
    },
    {
      "cell_type": "code",
      "metadata": {
        "colab": {
          "base_uri": "https://localhost:8080/"
        },
        "id": "friendly-production",
        "outputId": "131d87a8-d621-47fe-fdc8-1297b7219e76"
      },
      "source": [
        "import os\n",
        "import pandas as pd\n",
        "import csv\n",
        "import sys\n",
        "import numpy as np\n",
        "from PIL import Image, ImageColor\n",
        "import asyncio\n",
        "from matplotlib.pyplot import imshow\n",
        "csv.field_size_limit(sys.maxsize)"
      ],
      "id": "friendly-production",
      "execution_count": null,
      "outputs": [
        {
          "output_type": "execute_result",
          "data": {
            "text/plain": [
              "131072"
            ]
          },
          "metadata": {
            "tags": []
          },
          "execution_count": 1
        }
      ]
    },
    {
      "cell_type": "code",
      "metadata": {
        "colab": {
          "base_uri": "https://localhost:8080/"
        },
        "id": "2JsWcVCdttEy",
        "outputId": "0713bfe6-94e7-40b7-c335-38a86d644d26"
      },
      "source": [
        "!pip install memory_profiler"
      ],
      "id": "2JsWcVCdttEy",
      "execution_count": null,
      "outputs": [
        {
          "output_type": "stream",
          "text": [
            "Collecting memory_profiler\n",
            "  Downloading https://files.pythonhosted.org/packages/8f/fd/d92b3295657f8837e0177e7b48b32d6651436f0293af42b76d134c3bb489/memory_profiler-0.58.0.tar.gz\n",
            "Requirement already satisfied: psutil in /usr/local/lib/python3.7/dist-packages (from memory_profiler) (5.4.8)\n",
            "Building wheels for collected packages: memory-profiler\n",
            "  Building wheel for memory-profiler (setup.py) ... \u001b[?25l\u001b[?25hdone\n",
            "  Created wheel for memory-profiler: filename=memory_profiler-0.58.0-cp37-none-any.whl size=30180 sha256=9078be640f6dcbae96e0ca85c1637e9ed7317add354075a64fb1f9020d8eac7c\n",
            "  Stored in directory: /root/.cache/pip/wheels/02/e4/0b/aaab481fc5dd2a4ea59e78bc7231bb6aae7635ca7ee79f8ae5\n",
            "Successfully built memory-profiler\n",
            "Installing collected packages: memory-profiler\n",
            "Successfully installed memory-profiler-0.58.0\n"
          ],
          "name": "stdout"
        }
      ]
    },
    {
      "cell_type": "code",
      "metadata": {
        "id": "asian-toyota"
      },
      "source": [
        "import memory_profiler\n",
        "import time\n",
        "\n",
        "def time_mem_decorator(func):                                                                                            \n",
        "    def out(*args, **kwargs):                                                                                            \n",
        "        m1 = memory_profiler.memory_usage()\n",
        "        t1 = time.time()\n",
        "        \n",
        "        result = func(*args, **kwargs)\n",
        "        \n",
        "        t2 = time.time()\n",
        "        m2 = memory_profiler.memory_usage()\n",
        "        time_diff = t2 - t1\n",
        "        mem_diff = m2[0] - m1[0]\n",
        "        print(f\"It took {time_diff} Secs and {mem_diff} Mb to execute this function.\")\n",
        "        return(result)\n",
        "    return out  "
      ],
      "id": "asian-toyota",
      "execution_count": null,
      "outputs": []
    },
    {
      "cell_type": "markdown",
      "metadata": {
        "id": "decreased-multiple"
      },
      "source": [
        "# Vectorisatie"
      ],
      "id": "decreased-multiple"
    },
    {
      "cell_type": "code",
      "metadata": {
        "id": "sX41qTRrqCU4"
      },
      "source": [
        "@time_mem_decorator\n",
        "def get_results_fast(x,y):\n",
        "  return np.vectorize(complicated_calculation)(x,y)"
      ],
      "id": "sX41qTRrqCU4",
      "execution_count": null,
      "outputs": []
    },
    {
      "cell_type": "code",
      "metadata": {
        "id": "vCBAg3K0p_2N"
      },
      "source": [
        "x = np.random.randn(int(1e6))\n",
        "y = np.random.randn(int(1e6))"
      ],
      "id": "vCBAg3K0p_2N",
      "execution_count": null,
      "outputs": []
    },
    {
      "cell_type": "code",
      "metadata": {
        "id": "fvvV2xovqLiQ",
        "colab": {
          "base_uri": "https://localhost:8080/"
        },
        "outputId": "9f11668c-f5bb-4c64-f04f-b9c3430bef0f"
      },
      "source": [
        "res_fast = get_results_fast(x, y)"
      ],
      "id": "fvvV2xovqLiQ",
      "execution_count": null,
      "outputs": [
        {
          "output_type": "stream",
          "text": [
            "It took 7.43865966796875e-05 Secs and 0.0 Mb to execute this function.\n"
          ],
          "name": "stdout"
        }
      ]
    },
    {
      "cell_type": "markdown",
      "metadata": {
        "id": "improving-profit"
      },
      "source": [
        "# Generators"
      ],
      "id": "improving-profit"
    },
    {
      "cell_type": "code",
      "metadata": {
        "colab": {
          "base_uri": "https://localhost:8080/"
        },
        "id": "vYbMhgM4VmBD",
        "outputId": "f4e6f2ab-3b8d-4cba-d1e5-1a7aeea7da5b"
      },
      "source": [
        "!curl -L -c cookies.txt 'https://docs.google.com/uc?export=download&id=1DhyJdebnB6zwV5Jce1TgTO8PwfNtwn7P' | sed -rn 's/.*confirm=([0-9A-Za-z_]+).*/\\1/p' > confirm.txt\n",
        "!curl -L -b cookies.txt -o 'en-books-dataset.zip' 'https://docs.google.com/uc?export=download&id=1DhyJdebnB6zwV5Jce1TgTO8PwfNtwn7P&confirm='$(<confirm.txt)\n",
        "!unzip en-books-dataset.zip\n",
        "!rm -f confirm.txt cookies.txt en-books-dataset.zip"
      ],
      "id": "vYbMhgM4VmBD",
      "execution_count": null,
      "outputs": [
        {
          "output_type": "stream",
          "text": [
            "  % Total    % Received % Xferd  Average Speed   Time    Time     Time  Current\n",
            "                                 Dload  Upload   Total   Spent    Left  Speed\n",
            "100  3284    0  3284    0     0  11728      0 --:--:-- --:--:-- --:--:-- 11728\n",
            "  % Total    % Received % Xferd  Average Speed   Time    Time     Time  Current\n",
            "                                 Dload  Upload   Total   Spent    Left  Speed\n",
            "100   408    0   408    0     0   2385      0 --:--:-- --:--:-- --:--:--  2372\n",
            "  0     0    0     0    0     0      0      0 --:--:-- --:--:-- --:--:--     0\n",
            "  0     0    0     0    0     0      0      0 --:--:-- --:--:-- --:--:--     0\n",
            "100  481M    0  481M    0     0  35.5M      0 --:--:--  0:00:13 --:--:-- 51.2M\n",
            "Archive:  en-books-dataset.zip\n",
            "  inflating: en-books-dataset.csv    \n"
          ],
          "name": "stdout"
        }
      ]
    },
    {
      "cell_type": "code",
      "metadata": {
        "id": "hungry-orbit"
      },
      "source": [
        "def fast_csv_reader(filename):\n",
        "    with open(filename, 'r') as csv_file:\n",
        "        for row in csv.reader(csv_file):\n",
        "            yield row"
      ],
      "id": "hungry-orbit",
      "execution_count": null,
      "outputs": []
    },
    {
      "cell_type": "code",
      "metadata": {
        "colab": {
          "base_uri": "https://localhost:8080/"
        },
        "id": "dominant-ozone",
        "outputId": "23b97928-48e0-4567-df11-67e1dca65516"
      },
      "source": [
        "print(next(iter(fast_csv_reader('en-books-dataset.csv'))))"
      ],
      "id": "dominant-ozone",
      "execution_count": null,
      "outputs": [
        {
          "output_type": "stream",
          "text": [
            "['title', 'url', 'abstract', 'body_text', 'body_html']\n"
          ],
          "name": "stdout"
        }
      ]
    },
    {
      "cell_type": "code",
      "metadata": {
        "id": "atlantic-definition"
      },
      "source": [
        "@time_mem_decorator\n",
        "def fast_row_count(filename):\n",
        "    rows = 0\n",
        "    for row in fast_csv_reader(filename):\n",
        "        rows += 1\n",
        "    # -1 because the reader includes the headers.\n",
        "    return f\"There are {rows - 1} rows in the csv file.\""
      ],
      "id": "atlantic-definition",
      "execution_count": null,
      "outputs": []
    },
    {
      "cell_type": "code",
      "metadata": {
        "colab": {
          "base_uri": "https://localhost:8080/",
          "height": 52
        },
        "id": "spoken-oxygen",
        "outputId": "84a9a49c-54c7-49d2-d6ed-8f710b0206c6"
      },
      "source": [
        "fast_row_count('en-books-dataset.csv')"
      ],
      "id": "spoken-oxygen",
      "execution_count": null,
      "outputs": [
        {
          "output_type": "stream",
          "text": [
            "It took 47.35005974769592 Secs and 39.2421875 Mb to execute this function.\n"
          ],
          "name": "stdout"
        },
        {
          "output_type": "execute_result",
          "data": {
            "application/vnd.google.colaboratory.intrinsic+json": {
              "type": "string"
            },
            "text/plain": [
              "'There are 82258 rows in the csv file.'"
            ]
          },
          "metadata": {
            "tags": []
          },
          "execution_count": 11
        }
      ]
    },
    {
      "cell_type": "markdown",
      "metadata": {
        "id": "romance-virginia"
      },
      "source": [
        "# Slimme queries"
      ],
      "id": "romance-virginia"
    },
    {
      "cell_type": "code",
      "metadata": {
        "colab": {
          "base_uri": "https://localhost:8080/"
        },
        "id": "rQyLOUjC1fqI",
        "outputId": "3da7727f-db2c-4e42-f1b3-b30c78019485"
      },
      "source": [
        "!curl -L -c cookies.txt 'https://docs.google.com/uc?export=download&id=1s08G81pKwd_K0SjMva4tJ0rdvjAdLpzL' | sed -rn 's/.*confirm=([0-9A-Za-z_]+).*/\\1/p' > confirm.txt    \n",
        "!curl -L -b cookies.txt -o 'csv-data.zip' 'https://docs.google.com/uc?export=download&id=1s08G81pKwd_K0SjMva4tJ0rdvjAdLpzL&confirm='$(<confirm.txt)\n",
        "!unzip csv-data.zip\n",
        "!rm -f confirm.txt cookies.txt csv-data.zip"
      ],
      "id": "rQyLOUjC1fqI",
      "execution_count": null,
      "outputs": [
        {
          "output_type": "stream",
          "text": [
            "  % Total    % Received % Xferd  Average Speed   Time    Time     Time  Current\n",
            "                                 Dload  Upload   Total   Spent    Left  Speed\n",
            "100  3284    0  3284    0     0  17751      0 --:--:-- --:--:-- --:--:-- 17751\n",
            "  % Total    % Received % Xferd  Average Speed   Time    Time     Time  Current\n",
            "                                 Dload  Upload   Total   Spent    Left  Speed\n",
            "100   408    0   408    0     0   1658      0 --:--:-- --:--:-- --:--:--  1658\n",
            "  0     0    0     0    0     0      0      0 --:--:-- --:--:-- --:--:--     0\n",
            "  0     0    0     0    0     0      0      0 --:--:-- --:--:-- --:--:--     0\n",
            "100 32.5M    0 32.5M    0     0  11.4M      0 --:--:--  0:00:02 --:--:-- 17.8M\n",
            "Archive:  csv-data.zip\n",
            "  inflating: wine_metrics.csv        \n",
            "  inflating: netflix_titles.csv      \n",
            "  inflating: wine_meta.csv           \n",
            "  inflating: wine_magazine.csv       \n"
          ],
          "name": "stdout"
        }
      ]
    },
    {
      "cell_type": "code",
      "metadata": {
        "id": "kslT-jRYhzZq"
      },
      "source": [
        "def load_wine_datasets():\n",
        "    return (\n",
        "        pd.read_csv('wine_meta.csv',index_col=0),\n",
        "        pd.read_csv('wine_metrics.csv', index_col=0),\n",
        "    )"
      ],
      "id": "kslT-jRYhzZq",
      "execution_count": null,
      "outputs": []
    },
    {
      "cell_type": "code",
      "metadata": {
        "colab": {
          "base_uri": "https://localhost:8080/"
        },
        "id": "formed-chambers",
        "outputId": "b2cfe807-772d-4539-caa5-4c188dbb8e9b"
      },
      "source": [
        "@time_mem_decorator\n",
        "def calculate_average_prices_for_best_wines_per_region(wine_datasets = load_wine_datasets()):\n",
        "    wine_meta = wine_datasets[0]\n",
        "    wine_metrics = wine_datasets[1]\n",
        "    wine_metrics = wine_metrics[wine_metrics.points >= 90]\n",
        "    wines = wine_meta.join(wine_metrics)\n",
        "    return wines[['region_1','price']].groupby('region_1').agg('mean')"
      ],
      "id": "formed-chambers",
      "execution_count": null,
      "outputs": [
        {
          "output_type": "stream",
          "text": [
            "/usr/local/lib/python3.7/dist-packages/IPython/core/interactiveshell.py:2822: DtypeWarning: Columns (6) have mixed types.Specify dtype option on import or set low_memory=False.\n",
            "  if self.run_code(code, result):\n"
          ],
          "name": "stderr"
        }
      ]
    },
    {
      "cell_type": "code",
      "metadata": {
        "colab": {
          "base_uri": "https://localhost:8080/",
          "height": 467
        },
        "id": "ajix75g91mU9",
        "outputId": "d619b332-d091-4977-df0b-75e91859b3e6"
      },
      "source": [
        "calculate_average_prices_for_best_wines_per_region()"
      ],
      "id": "ajix75g91mU9",
      "execution_count": null,
      "outputs": [
        {
          "output_type": "stream",
          "text": [
            "It took 0.06484222412109375 Secs and 0.0078125 Mb to execute this function.\n"
          ],
          "name": "stdout"
        },
        {
          "output_type": "execute_result",
          "data": {
            "text/html": [
              "<div>\n",
              "<style scoped>\n",
              "    .dataframe tbody tr th:only-of-type {\n",
              "        vertical-align: middle;\n",
              "    }\n",
              "\n",
              "    .dataframe tbody tr th {\n",
              "        vertical-align: top;\n",
              "    }\n",
              "\n",
              "    .dataframe thead th {\n",
              "        text-align: right;\n",
              "    }\n",
              "</style>\n",
              "<table border=\"1\" class=\"dataframe\">\n",
              "  <thead>\n",
              "    <tr style=\"text-align: right;\">\n",
              "      <th></th>\n",
              "      <th>price</th>\n",
              "    </tr>\n",
              "    <tr>\n",
              "      <th>region_1</th>\n",
              "      <th></th>\n",
              "    </tr>\n",
              "  </thead>\n",
              "  <tbody>\n",
              "    <tr>\n",
              "      <th>Abruzzo</th>\n",
              "      <td>29.285714</td>\n",
              "    </tr>\n",
              "    <tr>\n",
              "      <th>Adelaida District</th>\n",
              "      <td>53.750000</td>\n",
              "    </tr>\n",
              "    <tr>\n",
              "      <th>Adelaide</th>\n",
              "      <td>27.888889</td>\n",
              "    </tr>\n",
              "    <tr>\n",
              "      <th>Adelaide Hills</th>\n",
              "      <td>25.743590</td>\n",
              "    </tr>\n",
              "    <tr>\n",
              "      <th>Adelaide Plains</th>\n",
              "      <td>NaN</td>\n",
              "    </tr>\n",
              "    <tr>\n",
              "      <th>...</th>\n",
              "      <td>...</td>\n",
              "    </tr>\n",
              "    <tr>\n",
              "      <th>Yolo County</th>\n",
              "      <td>20.666667</td>\n",
              "    </tr>\n",
              "    <tr>\n",
              "      <th>York Mountain</th>\n",
              "      <td>51.666667</td>\n",
              "    </tr>\n",
              "    <tr>\n",
              "      <th>Yorkville Highlands</th>\n",
              "      <td>49.200000</td>\n",
              "    </tr>\n",
              "    <tr>\n",
              "      <th>Yountville</th>\n",
              "      <td>62.020000</td>\n",
              "    </tr>\n",
              "    <tr>\n",
              "      <th>Zonda Valley</th>\n",
              "      <td>NaN</td>\n",
              "    </tr>\n",
              "  </tbody>\n",
              "</table>\n",
              "<p>1236 rows × 1 columns</p>\n",
              "</div>"
            ],
            "text/plain": [
              "                         price\n",
              "region_1                      \n",
              "Abruzzo              29.285714\n",
              "Adelaida District    53.750000\n",
              "Adelaide             27.888889\n",
              "Adelaide Hills       25.743590\n",
              "Adelaide Plains            NaN\n",
              "...                        ...\n",
              "Yolo County          20.666667\n",
              "York Mountain        51.666667\n",
              "Yorkville Highlands  49.200000\n",
              "Yountville           62.020000\n",
              "Zonda Valley               NaN\n",
              "\n",
              "[1236 rows x 1 columns]"
            ]
          },
          "metadata": {
            "tags": []
          },
          "execution_count": 17
        }
      ]
    }
  ]
}