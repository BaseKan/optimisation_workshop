{
  "nbformat": 4,
  "nbformat_minor": 5,
  "metadata": {
    "kernelspec": {
      "display_name": "Python 3",
      "language": "python",
      "name": "python3"
    },
    "language_info": {
      "codemirror_mode": {
        "name": "ipython",
        "version": 3
      },
      "file_extension": ".py",
      "mimetype": "text/x-python",
      "name": "python",
      "nbconvert_exporter": "python",
      "pygments_lexer": "ipython3",
      "version": "3.8.7"
    },
    "colab": {
      "name": "solutions.ipynb",
      "provenance": []
    }
  },
  "cells": [
    {
      "cell_type": "markdown",
      "metadata": {
        "id": "helpful-formula"
      },
      "source": [
        "# Setup"
      ],
      "id": "helpful-formula"
    },
    {
      "cell_type": "code",
      "metadata": {
        "colab": {
          "base_uri": "https://localhost:8080/"
        },
        "id": "friendly-production",
        "outputId": "44653238-c33a-4da8-9512-3d0f19f28fdd"
      },
      "source": [
        "import os\n",
        "import pandas as pd\n",
        "import csv\n",
        "import sys\n",
        "import numpy as np\n",
        "from PIL import Image, ImageColor\n",
        "import asyncio\n",
        "from matplotlib.pyplot import imshow\n",
        "csv.field_size_limit(sys.maxsize)"
      ],
      "id": "friendly-production",
      "execution_count": 2,
      "outputs": [
        {
          "output_type": "execute_result",
          "data": {
            "text/plain": [
              "131072"
            ]
          },
          "metadata": {
            "tags": []
          },
          "execution_count": 2
        }
      ]
    },
    {
      "cell_type": "code",
      "metadata": {
        "colab": {
          "base_uri": "https://localhost:8080/"
        },
        "id": "2JsWcVCdttEy",
        "outputId": "77fe490e-f1a1-474f-bf40-20d17a72da2b"
      },
      "source": [
        "!pip install memory_profiler"
      ],
      "id": "2JsWcVCdttEy",
      "execution_count": 6,
      "outputs": [
        {
          "output_type": "stream",
          "text": [
            "Collecting memory_profiler\n",
            "  Downloading https://files.pythonhosted.org/packages/8f/fd/d92b3295657f8837e0177e7b48b32d6651436f0293af42b76d134c3bb489/memory_profiler-0.58.0.tar.gz\n",
            "Requirement already satisfied: psutil in /usr/local/lib/python3.7/dist-packages (from memory_profiler) (5.4.8)\n",
            "Building wheels for collected packages: memory-profiler\n",
            "  Building wheel for memory-profiler (setup.py) ... \u001b[?25l\u001b[?25hdone\n",
            "  Created wheel for memory-profiler: filename=memory_profiler-0.58.0-cp37-none-any.whl size=30180 sha256=f7b117d2e4cee67fa0c6237b963df9326763accf2e7487bf8b1f795a89ffa76f\n",
            "  Stored in directory: /root/.cache/pip/wheels/02/e4/0b/aaab481fc5dd2a4ea59e78bc7231bb6aae7635ca7ee79f8ae5\n",
            "Successfully built memory-profiler\n",
            "Installing collected packages: memory-profiler\n",
            "Successfully installed memory-profiler-0.58.0\n"
          ],
          "name": "stdout"
        }
      ]
    },
    {
      "cell_type": "code",
      "metadata": {
        "id": "asian-toyota"
      },
      "source": [
        "import memory_profiler\n",
        "import time\n",
        "\n",
        "def time_mem_decorator(func):                                                                                            \n",
        "    def out(*args, **kwargs):                                                                                            \n",
        "        m1 = memory_profiler.memory_usage()\n",
        "        t1 = time.time()\n",
        "        \n",
        "        result = func(*args, **kwargs)\n",
        "        \n",
        "        t2 = time.time()\n",
        "        m2 = memory_profiler.memory_usage()\n",
        "        time_diff = t2 - t1\n",
        "        mem_diff = m2[0] - m1[0]\n",
        "        print(f\"It took {time_diff} Secs and {mem_diff} Mb to execute this function.\")\n",
        "        return(result)\n",
        "    return out  "
      ],
      "id": "asian-toyota",
      "execution_count": 7,
      "outputs": []
    },
    {
      "cell_type": "markdown",
      "metadata": {
        "id": "decreased-multiple"
      },
      "source": [
        "# Vectorisatie"
      ],
      "id": "decreased-multiple"
    },
    {
      "cell_type": "code",
      "metadata": {
        "id": "sX41qTRrqCU4"
      },
      "source": [
        "@time_mem_decorator\n",
        "def get_results_fast(x,y):\n",
        "  return np.vectorize(complicated_calculation)(x,y)"
      ],
      "id": "sX41qTRrqCU4",
      "execution_count": null,
      "outputs": []
    },
    {
      "cell_type": "code",
      "metadata": {
        "id": "vCBAg3K0p_2N"
      },
      "source": [
        "x = np.random.randn(int(1e6))\n",
        "y = np.random.randn(int(1e6))"
      ],
      "id": "vCBAg3K0p_2N",
      "execution_count": null,
      "outputs": []
    },
    {
      "cell_type": "code",
      "metadata": {
        "id": "fvvV2xovqLiQ",
        "colab": {
          "base_uri": "https://localhost:8080/"
        },
        "outputId": "9f11668c-f5bb-4c64-f04f-b9c3430bef0f"
      },
      "source": [
        "res_fast = get_results_fast(x, y)"
      ],
      "id": "fvvV2xovqLiQ",
      "execution_count": null,
      "outputs": [
        {
          "output_type": "stream",
          "text": [
            "It took 7.43865966796875e-05 Secs and 0.0 Mb to execute this function.\n"
          ],
          "name": "stdout"
        }
      ]
    },
    {
      "cell_type": "markdown",
      "metadata": {
        "id": "improving-profit"
      },
      "source": [
        "# Generators"
      ],
      "id": "improving-profit"
    },
    {
      "cell_type": "code",
      "metadata": {
        "colab": {
          "base_uri": "https://localhost:8080/"
        },
        "id": "vYbMhgM4VmBD",
        "outputId": "f4e6f2ab-3b8d-4cba-d1e5-1a7aeea7da5b"
      },
      "source": [
        "!curl -L -c cookies.txt 'https://docs.google.com/uc?export=download&id=1DhyJdebnB6zwV5Jce1TgTO8PwfNtwn7P' | sed -rn 's/.*confirm=([0-9A-Za-z_]+).*/\\1/p' > confirm.txt\n",
        "!curl -L -b cookies.txt -o 'en-books-dataset.zip' 'https://docs.google.com/uc?export=download&id=1DhyJdebnB6zwV5Jce1TgTO8PwfNtwn7P&confirm='$(<confirm.txt)\n",
        "!unzip en-books-dataset.zip\n",
        "!rm -f confirm.txt cookies.txt en-books-dataset.zip"
      ],
      "id": "vYbMhgM4VmBD",
      "execution_count": null,
      "outputs": [
        {
          "output_type": "stream",
          "text": [
            "  % Total    % Received % Xferd  Average Speed   Time    Time     Time  Current\n",
            "                                 Dload  Upload   Total   Spent    Left  Speed\n",
            "100  3284    0  3284    0     0  11728      0 --:--:-- --:--:-- --:--:-- 11728\n",
            "  % Total    % Received % Xferd  Average Speed   Time    Time     Time  Current\n",
            "                                 Dload  Upload   Total   Spent    Left  Speed\n",
            "100   408    0   408    0     0   2385      0 --:--:-- --:--:-- --:--:--  2372\n",
            "  0     0    0     0    0     0      0      0 --:--:-- --:--:-- --:--:--     0\n",
            "  0     0    0     0    0     0      0      0 --:--:-- --:--:-- --:--:--     0\n",
            "100  481M    0  481M    0     0  35.5M      0 --:--:--  0:00:13 --:--:-- 51.2M\n",
            "Archive:  en-books-dataset.zip\n",
            "  inflating: en-books-dataset.csv    \n"
          ],
          "name": "stdout"
        }
      ]
    },
    {
      "cell_type": "code",
      "metadata": {
        "id": "hungry-orbit"
      },
      "source": [
        "def fast_csv_reader(filename):\n",
        "    with open(filename, 'r') as csv_file:\n",
        "        for row in csv.reader(csv_file):\n",
        "            yield row"
      ],
      "id": "hungry-orbit",
      "execution_count": null,
      "outputs": []
    },
    {
      "cell_type": "code",
      "metadata": {
        "colab": {
          "base_uri": "https://localhost:8080/"
        },
        "id": "dominant-ozone",
        "outputId": "23b97928-48e0-4567-df11-67e1dca65516"
      },
      "source": [
        "print(next(iter(fast_csv_reader('en-books-dataset.csv'))))"
      ],
      "id": "dominant-ozone",
      "execution_count": null,
      "outputs": [
        {
          "output_type": "stream",
          "text": [
            "['title', 'url', 'abstract', 'body_text', 'body_html']\n"
          ],
          "name": "stdout"
        }
      ]
    },
    {
      "cell_type": "code",
      "metadata": {
        "id": "atlantic-definition"
      },
      "source": [
        "@time_mem_decorator\n",
        "def fast_row_count(filename):\n",
        "    rows = 0\n",
        "    for row in fast_csv_reader(filename):\n",
        "        rows += 1\n",
        "    # -1 because the reader includes the headers.\n",
        "    return f\"There are {rows - 1} rows in the csv file.\""
      ],
      "id": "atlantic-definition",
      "execution_count": null,
      "outputs": []
    },
    {
      "cell_type": "code",
      "metadata": {
        "colab": {
          "base_uri": "https://localhost:8080/",
          "height": 52
        },
        "id": "spoken-oxygen",
        "outputId": "84a9a49c-54c7-49d2-d6ed-8f710b0206c6"
      },
      "source": [
        "fast_row_count('en-books-dataset.csv')"
      ],
      "id": "spoken-oxygen",
      "execution_count": null,
      "outputs": [
        {
          "output_type": "stream",
          "text": [
            "It took 47.35005974769592 Secs and 39.2421875 Mb to execute this function.\n"
          ],
          "name": "stdout"
        },
        {
          "output_type": "execute_result",
          "data": {
            "application/vnd.google.colaboratory.intrinsic+json": {
              "type": "string"
            },
            "text/plain": [
              "'There are 82258 rows in the csv file.'"
            ]
          },
          "metadata": {
            "tags": []
          },
          "execution_count": 11
        }
      ]
    },
    {
      "cell_type": "markdown",
      "metadata": {
        "id": "romance-virginia"
      },
      "source": [
        "# Slimme queries"
      ],
      "id": "romance-virginia"
    },
    {
      "cell_type": "code",
      "metadata": {
        "colab": {
          "base_uri": "https://localhost:8080/"
        },
        "id": "rQyLOUjC1fqI",
        "outputId": "6dba004f-9332-455d-9516-b76302c7802e"
      },
      "source": [
        "!curl -L -c cookies.txt 'https://docs.google.com/uc?export=download&id=1ZYsnbhj523vgEiwGNNrqhMHQ-YoHhcq6' | sed -rn 's/.*confirm=([0-9A-Za-z_]+).*/\\1/p' > confirm.txt    \n",
        "!curl -L -b cookies.txt -o 'house_sales_UK.zip' 'https://docs.google.com/uc?export=download&id=1ZYsnbhj523vgEiwGNNrqhMHQ-YoHhcq6&confirm='$(<confirm.txt)\n",
        "!unzip house_sales_UK.zip\n",
        "!rm -f confirm.txt cookies.txt house_sales_UK.zip"
      ],
      "id": "rQyLOUjC1fqI",
      "execution_count": 1,
      "outputs": [
        {
          "output_type": "stream",
          "text": [
            "  % Total    % Received % Xferd  Average Speed   Time    Time     Time  Current\n",
            "                                 Dload  Upload   Total   Spent    Left  Speed\n",
            "100  3278    0  3278    0     0  15535      0 --:--:-- --:--:-- --:--:-- 15535\n",
            "  % Total    % Received % Xferd  Average Speed   Time    Time     Time  Current\n",
            "                                 Dload  Upload   Total   Spent    Left  Speed\n",
            "100   408    0   408    0     0   2266      0 --:--:-- --:--:-- --:--:--  2266\n",
            "  0     0    0     0    0     0      0      0 --:--:-- --:--:-- --:--:--     0\n",
            "  0     0    0     0    0     0      0      0 --:--:-- --:--:-- --:--:--     0\n",
            "100  213M    0  213M    0     0  61.8M      0 --:--:--  0:00:03 --:--:-- 85.1M\n",
            "Archive:  house_sales_UK.zip\n",
            "  inflating: sales_locations.csv     \n",
            "  inflating: sales_records.csv       \n"
          ],
          "name": "stdout"
        }
      ]
    },
    {
      "cell_type": "code",
      "metadata": {
        "id": "kslT-jRYhzZq"
      },
      "source": [
        "locations = pd.read_csv('sales_locations.csv',index_col=0)\n",
        "records = pd.read_csv('sales_records.csv',index_col=0)"
      ],
      "id": "kslT-jRYhzZq",
      "execution_count": 3,
      "outputs": []
    },
    {
      "cell_type": "code",
      "metadata": {
        "id": "formed-chambers"
      },
      "source": [
        "@time_mem_decorator\n",
        "def quick_query(locations, records, city='YORK'):\n",
        "    join = locations[locations['Town/City'] == city].join(records)\n",
        "    return join['Price'].mean()"
      ],
      "id": "formed-chambers",
      "execution_count": 8,
      "outputs": []
    },
    {
      "cell_type": "code",
      "metadata": {
        "colab": {
          "base_uri": "https://localhost:8080/"
        },
        "id": "ajix75g91mU9",
        "outputId": "92e2990a-ef04-4dac-a4a8-cfd05d3abc9c"
      },
      "source": [
        "quick_query(locations,records, city='YORK')"
      ],
      "id": "ajix75g91mU9",
      "execution_count": 9,
      "outputs": [
        {
          "output_type": "stream",
          "text": [
            "It took 4.992720127105713 Secs and 0.3046875 Mb to execute this function.\n"
          ],
          "name": "stdout"
        },
        {
          "output_type": "execute_result",
          "data": {
            "text/plain": [
              "253093.69580430503"
            ]
          },
          "metadata": {
            "tags": []
          },
          "execution_count": 9
        }
      ]
    }
  ]
}