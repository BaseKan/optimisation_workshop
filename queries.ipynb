{
  "nbformat": 4,
  "nbformat_minor": 5,
  "metadata": {
    "kernelspec": {
      "display_name": "Python 3",
      "language": "python",
      "name": "python3"
    },
    "language_info": {
      "codemirror_mode": {
        "name": "ipython",
        "version": 3
      },
      "file_extension": ".py",
      "mimetype": "text/x-python",
      "name": "python",
      "nbconvert_exporter": "python",
      "pygments_lexer": "ipython3",
      "version": "3.8.7"
    },
    "colab": {
      "name": "queries.ipynb",
      "provenance": []
    }
  },
  "cells": [
    {
      "cell_type": "markdown",
      "metadata": {
        "id": "accessory-chase"
      },
      "source": [
        "# Setup"
      ],
      "id": "accessory-chase"
    },
    {
      "cell_type": "code",
      "metadata": {
        "id": "improving-charger"
      },
      "source": [
        "import os\n",
        "import pandas as pd\n",
        "import sys\n",
        "import functools\n",
        "import numpy as np"
      ],
      "id": "improving-charger",
      "execution_count": null,
      "outputs": []
    },
    {
      "cell_type": "code",
      "metadata": {
        "id": "ACfsGlab1Ala"
      },
      "source": [
        "!pip install memory_profiler"
      ],
      "id": "ACfsGlab1Ala",
      "execution_count": null,
      "outputs": []
    },
    {
      "cell_type": "code",
      "metadata": {
        "id": "rational-karaoke"
      },
      "source": [
        "import memory_profiler\n",
        "import time\n",
        "\n",
        "def time_mem_decorator(func):                                                                                            \n",
        "    def out(*args, **kwargs):                                                                                            \n",
        "        m1 = memory_profiler.memory_usage()\n",
        "        t1 = time.time()\n",
        "        \n",
        "        result = func(*args, **kwargs)\n",
        "        \n",
        "        t2 = time.time()\n",
        "        m2 = memory_profiler.memory_usage()\n",
        "        time_diff = t2 - t1\n",
        "        mem_diff = m2[0] - m1[0]\n",
        "        print(f\"It took {time_diff} Secs and {mem_diff} Mb to execute this function.\")\n",
        "        return(result)\n",
        "    return out  "
      ],
      "id": "rational-karaoke",
      "execution_count": null,
      "outputs": []
    },
    {
      "cell_type": "code",
      "metadata": {
        "id": "capital-spending"
      },
      "source": [
        "!curl -L -c cookies.txt 'https://docs.google.com/uc?export=download&id=1s08G81pKwd_K0SjMva4tJ0rdvjAdLpzL' | sed -rn 's/.*confirm=([0-9A-Za-z_]+).*/\\1/p' > confirm.txt    \n",
        "!curl -L -b cookies.txt -o 'csv-data.zip' 'https://docs.google.com/uc?export=download&id=1s08G81pKwd_K0SjMva4tJ0rdvjAdLpzL&confirm='$(<confirm.txt)\n",
        "!unzip csv-data.zip\n",
        "!rm -f confirm.txt cookies.txt csv-data.zip"
      ],
      "id": "capital-spending",
      "execution_count": null,
      "outputs": []
    },
    {
      "cell_type": "markdown",
      "metadata": {
        "id": "shaped-brave"
      },
      "source": [
        "# Efficient filteren"
      ],
      "id": "shaped-brave"
    },
    {
      "cell_type": "code",
      "metadata": {
        "id": "personalized-drunk"
      },
      "source": [
        "def load_wine_datasets():\n",
        "    return (\n",
        "        pd.read_csv('wine_meta.csv',index_col=0),\n",
        "        pd.read_csv('wine_metrics.csv', index_col=0),\n",
        "    )"
      ],
      "id": "personalized-drunk",
      "execution_count": null,
      "outputs": []
    },
    {
      "cell_type": "markdown",
      "metadata": {
        "id": "FYzf4c1khNOw"
      },
      "source": [
        "We willen de gemiddelde prijs per regio weten. Hiervoor moeten twee dataframes worden samengevoegd en moet er gefilterd worden."
      ],
      "id": "FYzf4c1khNOw"
    },
    {
      "cell_type": "code",
      "metadata": {
        "id": "everyday-shift"
      },
      "source": [
        "@time_mem_decorator\n",
        "def calculate_average_prices_for_best_wines_per_region(wine_datasets = load_wine_datasets()):\n",
        "    wine_meta = wine_datasets[0]\n",
        "    wine_metrics = wine_datasets[1]\n",
        "    wines = wine_meta.join(wine_metrics)\n",
        "    wines = wines[wines.points >= 90]\n",
        "    return wines[['region_1','price']].groupby('region_1').agg('mean')"
      ],
      "id": "everyday-shift",
      "execution_count": null,
      "outputs": []
    },
    {
      "cell_type": "code",
      "metadata": {
        "id": "ordered-northwest"
      },
      "source": [
        "calculate_average_prices_for_best_wines_per_region()"
      ],
      "id": "ordered-northwest",
      "execution_count": null,
      "outputs": []
    },
    {
      "cell_type": "markdown",
      "metadata": {
        "id": "yaBFkbqziLiM"
      },
      "source": [
        "De volgorde van operaties kan een enorm verschil maken. Probeer de bovenstaande functie sneller te maken."
      ],
      "id": "yaBFkbqziLiM"
    },
    {
      "cell_type": "code",
      "metadata": {
        "id": "electric-front"
      },
      "source": [
        "def calculate_average_prices_for_best_wines_per_region_fast(wine_datasets = load_wine_datasets()):\n",
        "  # YOUR CODE HERE"
      ],
      "id": "electric-front",
      "execution_count": null,
      "outputs": []
    }
  ]
}