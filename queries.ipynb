{
  "nbformat": 4,
  "nbformat_minor": 5,
  "metadata": {
    "kernelspec": {
      "display_name": "Python 3",
      "language": "python",
      "name": "python3"
    },
    "language_info": {
      "codemirror_mode": {
        "name": "ipython",
        "version": 3
      },
      "file_extension": ".py",
      "mimetype": "text/x-python",
      "name": "python",
      "nbconvert_exporter": "python",
      "pygments_lexer": "ipython3",
      "version": "3.8.7"
    },
    "colab": {
      "name": "queries.ipynb",
      "provenance": [],
      "toc_visible": true,
      "include_colab_link": true
    }
  },
  "cells": [
    {
      "cell_type": "markdown",
      "metadata": {
        "id": "view-in-github",
        "colab_type": "text"
      },
      "source": [
        "<a href=\"https://colab.research.google.com/github/BaseKan/optimisation_workshop/blob/main/queries.ipynb\" target=\"_parent\"><img src=\"https://colab.research.google.com/assets/colab-badge.svg\" alt=\"Open In Colab\"/></a>"
      ]
    },
    {
      "cell_type": "markdown",
      "metadata": {
        "id": "accessory-chase"
      },
      "source": [
        "# Setup"
      ],
      "id": "accessory-chase"
    },
    {
      "cell_type": "code",
      "metadata": {
        "id": "improving-charger"
      },
      "source": [
        "import os\n",
        "import pandas as pd\n",
        "import sys\n",
        "import functools\n",
        "import numpy as np"
      ],
      "id": "improving-charger",
      "execution_count": null,
      "outputs": []
    },
    {
      "cell_type": "code",
      "metadata": {
        "id": "ACfsGlab1Ala"
      },
      "source": [
        "!pip install memory_profiler"
      ],
      "id": "ACfsGlab1Ala",
      "execution_count": null,
      "outputs": []
    },
    {
      "cell_type": "code",
      "metadata": {
        "id": "rational-karaoke"
      },
      "source": [
        "import memory_profiler\n",
        "import time\n",
        "\n",
        "def time_mem_decorator(func):                                                                                            \n",
        "    def out(*args, **kwargs):                                                                                            \n",
        "        m1 = memory_profiler.memory_usage()\n",
        "        t1 = time.time()\n",
        "        \n",
        "        result = func(*args, **kwargs)\n",
        "        \n",
        "        t2 = time.time()\n",
        "        m2 = memory_profiler.memory_usage()\n",
        "        time_diff = t2 - t1\n",
        "        mem_diff = m2[0] - m1[0]\n",
        "        print(f\"It took {time_diff} Secs and {mem_diff} Mb to execute this function.\")\n",
        "        return(result)\n",
        "    return out  "
      ],
      "id": "rational-karaoke",
      "execution_count": null,
      "outputs": []
    },
    {
      "cell_type": "code",
      "metadata": {
        "id": "capital-spending"
      },
      "source": [
        "!curl -L -c cookies.txt 'https://docs.google.com/uc?export=download&id=1ZYsnbhj523vgEiwGNNrqhMHQ-YoHhcq6' | sed -rn 's/.*confirm=([0-9A-Za-z_]+).*/\\1/p' > confirm.txt    \n",
        "!curl -L -b cookies.txt -o 'house_sales_UK.zip' 'https://docs.google.com/uc?export=download&id=1ZYsnbhj523vgEiwGNNrqhMHQ-YoHhcq6&confirm='$(<confirm.txt)\n",
        "!unzip house_sales_UK.zip\n",
        "!rm -f confirm.txt cookies.txt house_sales_UK.zip"
      ],
      "id": "capital-spending",
      "execution_count": null,
      "outputs": []
    },
    {
      "cell_type": "markdown",
      "metadata": {
        "id": "shaped-brave"
      },
      "source": [
        "# Efficient filteren"
      ],
      "id": "shaped-brave"
    },
    {
      "cell_type": "code",
      "metadata": {
        "id": "personalized-drunk"
      },
      "source": [
        "locations = pd.read_csv('sales_locations.csv',index_col=0)\n",
        "records = pd.read_csv('sales_records.csv',index_col=0)"
      ],
      "id": "personalized-drunk",
      "execution_count": null,
      "outputs": []
    },
    {
      "cell_type": "markdown",
      "metadata": {
        "id": "FYzf4c1khNOw"
      },
      "source": [
        "We willen de gemiddelde huizenprijs weten voor een gegeven stad. Hiervoor moeten twee dataframes worden samengevoegd en moet er gefilterd worden."
      ],
      "id": "FYzf4c1khNOw"
    },
    {
      "cell_type": "code",
      "metadata": {
        "id": "everyday-shift"
      },
      "source": [
        "def calculate_average_house_price(locations,records):\n",
        "    return (\n",
        "        locations.join(records)\n",
        "            .filter(['Town/City','Price'])\n",
        "        .groupby('Town/City')\n",
        "        .agg('mean')\n",
        "\n",
        "    )"
      ],
      "id": "everyday-shift",
      "execution_count": null,
      "outputs": []
    },
    {
      "cell_type": "code",
      "metadata": {
        "id": "VLRT-GrDy3_4"
      },
      "source": [
        "@time_mem_decorator\n",
        "def slow_query(locations,records, city='YORK'):\n",
        "    avg_prices = calculate_average_house_price(locations,records)\n",
        "    return avg_prices.loc[city]"
      ],
      "id": "VLRT-GrDy3_4",
      "execution_count": null,
      "outputs": []
    },
    {
      "cell_type": "code",
      "metadata": {
        "id": "ordered-northwest"
      },
      "source": [
        "slow_query(locations,records, city='YORK')"
      ],
      "id": "ordered-northwest",
      "execution_count": null,
      "outputs": []
    },
    {
      "cell_type": "markdown",
      "metadata": {
        "id": "yaBFkbqziLiM"
      },
      "source": [
        "De volgorde van operaties kan een enorm verschil maken. Probeer een snellere functie te maken om de gemiddelde huizenprijs voor een stad te berekenen."
      ],
      "id": "yaBFkbqziLiM"
    },
    {
      "cell_type": "code",
      "metadata": {
        "id": "electric-front"
      },
      "source": [
        "@time_mem_decorator\n",
        "def quick_query(locations, records, city='YORK'):\n",
        "  # Jouw code komt hier"
      ],
      "id": "electric-front",
      "execution_count": null,
      "outputs": []
    },
    {
      "cell_type": "code",
      "metadata": {
        "id": "kwmxQyHDzNCZ"
      },
      "source": [
        "quick_query(locations,records, city='YORK')"
      ],
      "id": "kwmxQyHDzNCZ",
      "execution_count": null,
      "outputs": []
    }
  ]
}