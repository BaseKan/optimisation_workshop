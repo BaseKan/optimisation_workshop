{
 "cells": [
  {
   "cell_type": "markdown",
   "id": "accessory-chase",
   "metadata": {},
   "source": [
    "# Setup"
   ]
  },
  {
   "cell_type": "code",
   "execution_count": null,
   "id": "improving-charger",
   "metadata": {},
   "outputs": [],
   "source": [
    "import os\n",
    "import pandas as pd\n",
    "import sys\n",
    "import functools\n",
    "import numpy as np"
   ]
  },
  {
   "cell_type": "code",
   "execution_count": null,
   "id": "rational-karaoke",
   "metadata": {},
   "outputs": [],
   "source": [
    "import memory_profiler\n",
    "import time\n",
    "\n",
    "def time_mem_decorator(func):                                                                                            \n",
    "    def out(*args, **kwargs):                                                                                            \n",
    "        m1 = memory_profiler.memory_usage()\n",
    "        t1 = time.time()\n",
    "        \n",
    "        result = func(*args, **kwargs)\n",
    "        \n",
    "        t2 = time.time()\n",
    "        m2 = memory_profiler.memory_usage()\n",
    "        time_diff = t2 - t1\n",
    "        mem_diff = m2[0] - m1[0]\n",
    "        print(f\"It took {time_diff} Secs and {mem_diff} Mb to execute this function.\")\n",
    "        return(result)\n",
    "    return out  "
   ]
  },
  {
   "cell_type": "code",
   "execution_count": null,
   "id": "capital-spending",
   "metadata": {},
   "outputs": [],
   "source": [
    "!curl -L -c cookies.txt 'https://docs.google.com/uc?export=download&id=1s08G81pKwd_K0SjMva4tJ0rdvjAdLpzL' | gsed -rn 's/.*confirm=([0-9A-Za-z_]+).*/\\1/p' > confirm.txt    \n",
    "!curl -L -b cookies.txt -o 'csv-data.zip' 'https://docs.google.com/uc?export=download&id=1s08G81pKwd_K0SjMva4tJ0rdvjAdLpzL&confirm='$(<confirm.txt)\n",
    "!unzip csv-data.zip\n",
    "!rm -f confirm.txt cookies.txt csv-data.zip"
   ]
  },
  {
   "cell_type": "markdown",
   "id": "shaped-brave",
   "metadata": {},
   "source": [
    "# Example"
   ]
  },
  {
   "cell_type": "code",
   "execution_count": null,
   "id": "personalized-drunk",
   "metadata": {},
   "outputs": [],
   "source": [
    "def load_wine_datasets():\n",
    "    return (\n",
    "        pd.read_csv('wine_meta.csv',index_col=0),\n",
    "        pd.read_csv('wine_metrics.csv', index_col=0),\n",
    "    )"
   ]
  },
  {
   "cell_type": "code",
   "execution_count": null,
   "id": "everyday-shift",
   "metadata": {},
   "outputs": [],
   "source": [
    "@time_mem_decorator\n",
    "def calculate_average_prices_for_best_wines_per_region(wine_datasets = load_wine_datasets()):\n",
    "    wine_meta = wine_datasets[0]\n",
    "    wine_metrics = wine_datasets[1]\n",
    "    wines = wine_meta.join(wine_metrics)\n",
    "    wines = wines[wines.points >= 90]\n",
    "    return wines[['region_1','price']].groupby('region_1').agg('mean')"
   ]
  },
  {
   "cell_type": "code",
   "execution_count": null,
   "id": "ordered-northwest",
   "metadata": {},
   "outputs": [],
   "source": [
    "calculate_average_prices_for_best_wines_per_region()"
   ]
  },
  {
   "cell_type": "code",
   "execution_count": null,
   "id": "electric-front",
   "metadata": {},
   "outputs": [],
   "source": []
  }
 ],
 "metadata": {
  "kernelspec": {
   "display_name": "Python 3",
   "language": "python",
   "name": "python3"
  },
  "language_info": {
   "codemirror_mode": {
    "name": "ipython",
    "version": 3
   },
   "file_extension": ".py",
   "mimetype": "text/x-python",
   "name": "python",
   "nbconvert_exporter": "python",
   "pygments_lexer": "ipython3",
   "version": "3.8.7"
  }
 },
 "nbformat": 4,
 "nbformat_minor": 5
}
