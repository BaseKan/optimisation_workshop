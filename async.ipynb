{
  "nbformat": 4,
  "nbformat_minor": 5,
  "metadata": {
    "kernelspec": {
      "display_name": "Python 3",
      "language": "python",
      "name": "python3"
    },
    "language_info": {
      "codemirror_mode": {
        "name": "ipython",
        "version": 3
      },
      "file_extension": ".py",
      "mimetype": "text/x-python",
      "name": "python",
      "nbconvert_exporter": "python",
      "pygments_lexer": "ipython3",
      "version": "3.8.7"
    },
    "colab": {
      "name": "async.ipynb",
      "provenance": []
    }
  },
  "cells": [
    {
      "cell_type": "markdown",
      "metadata": {
        "id": "industrial-adams"
      },
      "source": [
        "# Setup"
      ],
      "id": "industrial-adams"
    },
    {
      "cell_type": "code",
      "metadata": {
        "id": "clean-beatles"
      },
      "source": [
        "import asyncio\n",
        "import queue"
      ],
      "id": "clean-beatles",
      "execution_count": null,
      "outputs": []
    },
    {
      "cell_type": "code",
      "metadata": {
        "id": "UWBY-uT8YQaQ"
      },
      "source": [
        "!pip install memory_profiler"
      ],
      "id": "UWBY-uT8YQaQ",
      "execution_count": null,
      "outputs": []
    },
    {
      "cell_type": "code",
      "metadata": {
        "id": "paperback-expense"
      },
      "source": [
        "import memory_profiler\n",
        "import time\n",
        "\n",
        "def time_mem_decorator(func):                                                                                            \n",
        "    def out(*args, **kwargs):                                                                                            \n",
        "        m1 = memory_profiler.memory_usage()\n",
        "        t1 = time.time()\n",
        "        \n",
        "        result = func(*args, **kwargs)\n",
        "        \n",
        "        t2 = time.time()\n",
        "        m2 = memory_profiler.memory_usage()\n",
        "        time_diff = t2 - t1\n",
        "        mem_diff = m2[0] - m1[0]\n",
        "        print(f\"It took {time_diff} Secs and {mem_diff} Mb to execute this function.\")\n",
        "        return(result)\n",
        "    return out "
      ],
      "id": "paperback-expense",
      "execution_count": null,
      "outputs": []
    },
    {
      "cell_type": "markdown",
      "metadata": {
        "id": "stylish-mountain"
      },
      "source": [
        "# Wachten op taken"
      ],
      "id": "stylish-mountain"
    },
    {
      "cell_type": "markdown",
      "metadata": {
        "id": "73B56UQVYx8a"
      },
      "source": [
        "We definiëren hier een taak waar op gewacht moet worden, voor er resultaat is. Een praktisch voorbeeld hiervan is het wachten op een response van een server na het laten uitvoeren van een ingewikkelde berekening."
      ],
      "id": "73B56UQVYx8a"
    },
    {
      "cell_type": "code",
      "metadata": {
        "id": "several-palestinian"
      },
      "source": [
        "def calculation(x):\n",
        "    print(f\"Running calculation with x = {x}.\")\n",
        "    time.sleep(x)\n",
        "    print(f\"Task with x = {x} is done.\")"
      ],
      "id": "several-palestinian",
      "execution_count": null,
      "outputs": []
    },
    {
      "cell_type": "markdown",
      "metadata": {
        "id": "2pTkWBLaZKXP"
      },
      "source": [
        "We voeren de taak uit voor een lijst van 5. Als we dit op de normale manier doen (synchronous), moeten we steeds wachten tot de vorige taak klaar is voor we de volgende kunnen aanroepen."
      ],
      "id": "2pTkWBLaZKXP"
    },
    {
      "cell_type": "code",
      "metadata": {
        "id": "minus-folks"
      },
      "source": [
        "@time_mem_decorator\n",
        "def synchronous_work():\n",
        "    task_queue = queue.Queue()\n",
        "    \n",
        "    for t in [2, 5, 10, 4, 6]:\n",
        "        task_queue.put(t)\n",
        "        \n",
        "    while not task_queue.empty():\n",
        "        x = task_queue.get()\n",
        "        calculation(x)\n",
        "    \n"
      ],
      "id": "minus-folks",
      "execution_count": null,
      "outputs": []
    },
    {
      "cell_type": "code",
      "metadata": {
        "scrolled": true,
        "id": "serious-actress"
      },
      "source": [
        "synchronous_work()"
      ],
      "id": "serious-actress",
      "execution_count": null,
      "outputs": []
    },
    {
      "cell_type": "markdown",
      "metadata": {
        "id": "martial-folks"
      },
      "source": [
        "Als er meerdere taken tegelijk kunnen worden uitgevoerd, is het erg inefficiënt om te wachten op resultaat voor we beginnen met het uitvoeren van de volgende taak. Gelukkig kunnen we in Python gebruik maken van de async library!\n",
        "\n",
        "Als we code asynchronous uitvoeren, kunnen we alvast verder gaan met de executie van de code terwijl we wachten op resultaat. Er wordt niet gewacht tot de volgende operatie klaar is. "
      ],
      "id": "martial-folks"
    },
    {
      "cell_type": "code",
      "metadata": {
        "id": "armed-mediterranean"
      },
      "source": [
        "async def async_calculation(x):\n",
        "    print(f\"Running calculation with x = {x}.\")\n",
        "    await asyncio.sleep(x)\n",
        "    print(f\"Task with x = {x} is done.\")"
      ],
      "id": "armed-mediterranean",
      "execution_count": null,
      "outputs": []
    },
    {
      "cell_type": "markdown",
      "metadata": {
        "id": "VXZifDkEayxD"
      },
      "source": [
        "We maken een worker functie aan die de referentie naar een queue als argument krijgt. Deze worker voert nog steeds stap voor stap instructies uit. Het grote verschil is dat de sleep functie niet het programma blokkeert. \n",
        "\n",
        "We optimaliseren de code door meerdere workers aan te maken. Het hoofd programma start beide workers, welke onafhankelijk van elkaar hun taken gaan uitvoeren. Terwijl een worker sleeped, kan een andere worker gewoon zijn eigen taak starten. "
      ],
      "id": "VXZifDkEayxD"
    },
    {
      "cell_type": "code",
      "metadata": {
        "id": "express-liverpool"
      },
      "source": [
        "async def worker(task_queue):\n",
        "    while not task_queue.empty():\n",
        "        x = await task_queue.get()\n",
        "        await async_calculation(x)\n",
        "        task_queue.task_done()"
      ],
      "id": "express-liverpool",
      "execution_count": null,
      "outputs": []
    },
    {
      "cell_type": "code",
      "metadata": {
        "id": "prescribed-march"
      },
      "source": [
        "async def asynchronous_work():\n",
        "    t1 = time.time()\n",
        "    task_queue = asyncio.Queue()\n",
        "    \n",
        "    for t in [2, 5, 10, 4, 6]:\n",
        "        await task_queue.put(t)\n",
        "       \n",
        "    await asyncio.gather(\n",
        "        asyncio.create_task(worker(task_queue)),\n",
        "        asyncio.create_task(worker(task_queue))\n",
        "    )\n",
        "    t2 = time.time()\n",
        "    \n",
        "    print(f\"It took {t2 - t1} Secs to execute this function.\")"
      ],
      "id": "prescribed-march",
      "execution_count": null,
      "outputs": []
    },
    {
      "cell_type": "code",
      "metadata": {
        "id": "EJ9RkilTfm4s"
      },
      "source": [
        "import nest_asyncio\n",
        "nest_asyncio.apply()\n"
      ],
      "id": "EJ9RkilTfm4s",
      "execution_count": null,
      "outputs": []
    },
    {
      "cell_type": "code",
      "metadata": {
        "id": "3kkrhoKneCxn"
      },
      "source": [
        "def main():\n",
        "  loop = asyncio.get_event_loop()\n",
        "  return asyncio.gather(loop.create_task(asynchronous_work()))"
      ],
      "id": "3kkrhoKneCxn",
      "execution_count": null,
      "outputs": []
    },
    {
      "cell_type": "code",
      "metadata": {
        "id": "OB2fqIavfGyb"
      },
      "source": [
        "main()"
      ],
      "id": "OB2fqIavfGyb",
      "execution_count": null,
      "outputs": []
    },
    {
      "cell_type": "code",
      "metadata": {
        "id": "jewish-douglas"
      },
      "source": [
        "event_loop = asyncio.get_event_loop()\n",
        "asyncio.gather(event_loop.create_task(asynchronous_work()))\n"
      ],
      "id": "jewish-douglas",
      "execution_count": null,
      "outputs": []
    },
    {
      "cell_type": "code",
      "metadata": {
        "id": "north-simpson"
      },
      "source": [
        ""
      ],
      "id": "north-simpson",
      "execution_count": null,
      "outputs": []
    }
  ]
}