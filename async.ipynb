{
 "cells": [
  {
   "cell_type": "markdown",
   "id": "industrial-adams",
   "metadata": {},
   "source": [
    "# Setup"
   ]
  },
  {
   "cell_type": "code",
   "execution_count": null,
   "id": "clean-beatles",
   "metadata": {},
   "outputs": [],
   "source": [
    "import asyncio\n",
    "import queue\n"
   ]
  },
  {
   "cell_type": "code",
   "execution_count": null,
   "id": "paperback-expense",
   "metadata": {},
   "outputs": [],
   "source": [
    "import memory_profiler\n",
    "import time\n",
    "\n",
    "def time_mem_decorator(func):                                                                                            \n",
    "    def out(*args, **kwargs):                                                                                            \n",
    "        m1 = memory_profiler.memory_usage()\n",
    "        t1 = time.time()\n",
    "        \n",
    "        result = func(*args, **kwargs)\n",
    "        \n",
    "        t2 = time.time()\n",
    "        m2 = memory_profiler.memory_usage()\n",
    "        time_diff = t2 - t1\n",
    "        mem_diff = m2[0] - m1[0]\n",
    "        print(f\"It took {time_diff} Secs and {mem_diff} Mb to execute this function.\")\n",
    "        return(result)\n",
    "    return out "
   ]
  },
  {
   "cell_type": "markdown",
   "id": "stylish-mountain",
   "metadata": {},
   "source": [
    "# Executing multiple tasks"
   ]
  },
  {
   "cell_type": "code",
   "execution_count": null,
   "id": "several-palestinian",
   "metadata": {},
   "outputs": [],
   "source": [
    "def calculation(x):\n",
    "    print(f\"Running calculation with x = {x}.\")\n",
    "    time.sleep(x)\n",
    "    print(f\"Task with x = {x} is done.\")"
   ]
  },
  {
   "cell_type": "code",
   "execution_count": null,
   "id": "minus-folks",
   "metadata": {},
   "outputs": [],
   "source": [
    "@time_mem_decorator\n",
    "def synchronous_work():\n",
    "    task_queue = queue.Queue()\n",
    "    \n",
    "    for t in [2, 5, 10, 4, 6]:\n",
    "        task_queue.put(t)\n",
    "        \n",
    "    while not task_queue.empty():\n",
    "        x = task_queue.get()\n",
    "        calculation(x)\n",
    "    \n"
   ]
  },
  {
   "cell_type": "code",
   "execution_count": null,
   "id": "serious-actress",
   "metadata": {
    "scrolled": true
   },
   "outputs": [],
   "source": [
    "synchronous_work()"
   ]
  },
  {
   "cell_type": "markdown",
   "id": "martial-folks",
   "metadata": {},
   "source": [
    "If you have multiple workers, tasks don't have to wait for each other."
   ]
  },
  {
   "cell_type": "code",
   "execution_count": null,
   "id": "armed-mediterranean",
   "metadata": {},
   "outputs": [],
   "source": [
    "async def async_calculation(x):\n",
    "    print(f\"Running calculation with x = {x}.\")\n",
    "    await asyncio.sleep(x)\n",
    "    print(f\"Task with x = {x} is done.\")"
   ]
  },
  {
   "cell_type": "code",
   "execution_count": null,
   "id": "express-liverpool",
   "metadata": {},
   "outputs": [],
   "source": [
    "async def worker(task_queue):\n",
    "    while not task_queue.empty():\n",
    "        x = await task_queue.get()\n",
    "        await async_calculation(x)\n",
    "        task_queue.task_done()"
   ]
  },
  {
   "cell_type": "code",
   "execution_count": null,
   "id": "prescribed-march",
   "metadata": {},
   "outputs": [],
   "source": [
    "async def asynchronous_work():\n",
    "    t1 = time.time()\n",
    "    task_queue = asyncio.Queue()\n",
    "    \n",
    "    for t in [2, 5, 10, 4, 6]:\n",
    "        await task_queue.put(t)\n",
    "       \n",
    "    await asyncio.gather(\n",
    "        asyncio.create_task(worker(task_queue)),\n",
    "        asyncio.create_task(worker(task_queue))\n",
    "    )\n",
    "    t2 = time.time()\n",
    "    \n",
    "    print(f\"It took {t2 - t1} Secs to execute this function.\")"
   ]
  },
  {
   "cell_type": "code",
   "execution_count": null,
   "id": "jewish-douglas",
   "metadata": {},
   "outputs": [],
   "source": [
    "event_loop = asyncio.get_event_loop()\n",
    "await event_loop.create_task(asynchronous_work())"
   ]
  },
  {
   "cell_type": "code",
   "execution_count": null,
   "id": "north-simpson",
   "metadata": {},
   "outputs": [],
   "source": []
  }
 ],
 "metadata": {
  "kernelspec": {
   "display_name": "Python 3",
   "language": "python",
   "name": "python3"
  },
  "language_info": {
   "codemirror_mode": {
    "name": "ipython",
    "version": 3
   },
   "file_extension": ".py",
   "mimetype": "text/x-python",
   "name": "python",
   "nbconvert_exporter": "python",
   "pygments_lexer": "ipython3",
   "version": "3.8.7"
  }
 },
 "nbformat": 4,
 "nbformat_minor": 5
}
