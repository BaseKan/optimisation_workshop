{
 "cells": [
  {
   "cell_type": "markdown",
   "id": "personalized-commissioner",
   "metadata": {},
   "source": [
    "# Setup"
   ]
  },
  {
   "cell_type": "code",
   "execution_count": 1,
   "id": "experienced-bulgarian",
   "metadata": {},
   "outputs": [],
   "source": [
    "import asyncio"
   ]
  },
  {
   "cell_type": "code",
   "execution_count": 2,
   "id": "flush-stability",
   "metadata": {},
   "outputs": [],
   "source": [
    "import memory_profiler\n",
    "import time\n",
    "\n",
    "def time_mem_decorator(func):                                                                                            \n",
    "    def out(*args, **kwargs):                                                                                            \n",
    "        m1 = memory_profiler.memory_usage()\n",
    "        t1 = time.time()\n",
    "        \n",
    "        result = func(*args, **kwargs)\n",
    "        \n",
    "        t2 = time.time()\n",
    "        m2 = memory_profiler.memory_usage()\n",
    "        time_diff = t2 - t1\n",
    "        mem_diff = m2[0] - m1[0]\n",
    "        print(f\"It took {time_diff} Secs and {mem_diff} Mb to execute this function.\")\n",
    "        return(result)\n",
    "    return out "
   ]
  },
  {
   "cell_type": "markdown",
   "id": "entire-suffering",
   "metadata": {},
   "source": [
    "# Executing multiple tasks"
   ]
  },
  {
   "cell_type": "code",
   "execution_count": 5,
   "id": "fewer-banking",
   "metadata": {},
   "outputs": [],
   "source": [
    "# TODO: Define some large task"
   ]
  },
  {
   "cell_type": "code",
   "execution_count": 6,
   "id": "logical-biography",
   "metadata": {},
   "outputs": [],
   "source": [
    "# TODO: Define a task with a sleep call"
   ]
  },
  {
   "cell_type": "code",
   "execution_count": 8,
   "id": "included-timing",
   "metadata": {},
   "outputs": [],
   "source": [
    "# TODO: Synchronous Execution"
   ]
  },
  {
   "cell_type": "code",
   "execution_count": 9,
   "id": "homeless-despite",
   "metadata": {},
   "outputs": [],
   "source": [
    "# TODO: Asynchronous Execution"
   ]
  },
  {
   "cell_type": "code",
   "execution_count": null,
   "id": "detailed-valentine",
   "metadata": {},
   "outputs": [],
   "source": []
  }
 ],
 "metadata": {
  "kernelspec": {
   "display_name": "Python 3",
   "language": "python",
   "name": "python3"
  },
  "language_info": {
   "codemirror_mode": {
    "name": "ipython",
    "version": 3
   },
   "file_extension": ".py",
   "mimetype": "text/x-python",
   "name": "python",
   "nbconvert_exporter": "python",
   "pygments_lexer": "ipython3",
   "version": "3.8.7"
  }
 },
 "nbformat": 4,
 "nbformat_minor": 5
}
