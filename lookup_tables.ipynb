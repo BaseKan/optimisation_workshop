{
 "cells": [
  {
   "cell_type": "code",
   "execution_count": null,
   "metadata": {
    "scrolled": true
   },
   "outputs": [],
   "source": [
    "from PIL import Image, ImageColor\n",
    "from matplotlib.pyplot import imshow\n",
    "import numpy as np"
   ]
  },
  {
   "cell_type": "code",
   "execution_count": null,
   "metadata": {},
   "outputs": [],
   "source": [
    "import memory_profiler\n",
    "import time\n",
    "\n",
    "def time_mem_decorator(func):                                                                                            \n",
    "    def out(*args, **kwargs):                                                                                            \n",
    "        m1 = memory_profiler.memory_usage()\n",
    "        t1 = time.time()\n",
    "        \n",
    "        result = func(*args, **kwargs)\n",
    "        \n",
    "        t2 = time.time()\n",
    "        m2 = memory_profiler.memory_usage()\n",
    "        time_diff = t2 - t1\n",
    "        mem_diff = m2[0] - m1[0]\n",
    "        print(f\"It took {time_diff} Secs and {mem_diff} Mb to execute this function.\")\n",
    "        return(result)\n",
    "    return out  "
   ]
  },
  {
   "cell_type": "code",
   "execution_count": null,
   "metadata": {},
   "outputs": [],
   "source": [
    "@time_mem_decorator\n",
    "def draw_circles_naive(pixelmap, centers, radius, color, line_width = 5):\n",
    "    for c in centers:\n",
    "        for i in range(720):\n",
    "            for l in range(line_width):\n",
    "                x = float(c[0]) + float(radius + l) * np.sin(float(i) * np.pi / 360.0)\n",
    "                y = float(c[1]) + float(radius + l) * np.cos(float(i) * np.pi / 360.0)\n",
    "                pixelmap[round(x),round(y)] = ImageColor.getrgb(color)\n",
    "        "
   ]
  },
  {
   "cell_type": "code",
   "execution_count": null,
   "metadata": {},
   "outputs": [],
   "source": [
    "im = Image.new('RGB', (1000,1000), \"white\")\n",
    "pixelmap = im.load()\n",
    "imshow(im)"
   ]
  },
  {
   "cell_type": "code",
   "execution_count": null,
   "metadata": {
    "scrolled": true
   },
   "outputs": [],
   "source": [
    "radius = 50\n",
    "n_circles = 200\n",
    "centers = [(np.random.randint(radius+5, 1000-(radius+5)) ,np.random.randint(radius+5, 1000-(radius+5))) \n",
    "            for i in range(n_circles)]\n",
    "\n",
    "draw_circles_naive(pixelmap, centers, 50, 'red')\n",
    "imshow(im)"
   ]
  },
  {
   "cell_type": "markdown",
   "metadata": {},
   "source": [
    "Move the sine and cosine calculations out of the innermost loop."
   ]
  },
  {
   "cell_type": "code",
   "execution_count": null,
   "metadata": {},
   "outputs": [],
   "source": [
    "@time_mem_decorator\n",
    "def draw_circles_faster(pixelmap, centers, radius, color, line_width = 5):\n",
    "    for c in centers:\n",
    "        for i in range(720):\n",
    "            sin = np.sin(float(i) * np.pi / 360.0)\n",
    "            cos = np.cos(float(i) * np.pi / 360.0)\n",
    "            for l in range(line_width):\n",
    "                x = float(c[0]) + float(radius + l) * sin\n",
    "                y = float(c[1]) + float(radius + l) * cos\n",
    "                pixelmap[round(x),round(y)] = ImageColor.getrgb(color)\n",
    "\n"
   ]
  },
  {
   "cell_type": "code",
   "execution_count": null,
   "metadata": {},
   "outputs": [],
   "source": [
    "im = Image.new('RGB', (1000,1000), \"white\")\n",
    "pixelmap = im.load()\n",
    "imshow(im)"
   ]
  },
  {
   "cell_type": "code",
   "execution_count": null,
   "metadata": {},
   "outputs": [],
   "source": [
    "radius = 50\n",
    "n_circles = 200\n",
    "centers = [(np.random.randint(radius+5, 1000-(radius+5)) ,np.random.randint(radius+5, 1000-(radius+5))) \n",
    "            for i in range(n_circles)]\n",
    "\n",
    "draw_circles_faster(pixelmap, centers, 50, 'red')\n",
    "imshow(im)"
   ]
  },
  {
   "cell_type": "markdown",
   "metadata": {},
   "source": [
    "Even better: Calculate them only once at the start."
   ]
  },
  {
   "cell_type": "code",
   "execution_count": null,
   "metadata": {},
   "outputs": [],
   "source": [
    "@time_mem_decorator\n",
    "def draw_circles_fastest(pixelmap, centers, radius, color, line_width = 5):\n",
    "    sins = [np.sin(float(i) * np.pi / 360.0) for i in range(720)]\n",
    "    coss = [np.cos(float(i) * np.pi / 360.0) for i in range(720)]\n",
    "    for c in centers:\n",
    "        for i in range(720):\n",
    "            for l in range(line_width):\n",
    "                x = float(c[0]) + float(radius + l) * sins[i]\n",
    "                y = float(c[1]) + float(radius + l) * coss[i]\n",
    "                pixelmap[round(x),round(y)] = ImageColor.getrgb(color)"
   ]
  },
  {
   "cell_type": "code",
   "execution_count": null,
   "metadata": {},
   "outputs": [],
   "source": [
    "im = Image.new('RGB', (1000,1000), \"white\")\n",
    "pixelmap = im.load()\n",
    "imshow(im)"
   ]
  },
  {
   "cell_type": "code",
   "execution_count": null,
   "metadata": {},
   "outputs": [],
   "source": [
    "radius = 50\n",
    "n_circles = 200\n",
    "centers = [(np.random.randint(radius+5, 1000-(radius+5)) ,np.random.randint(radius+5, 1000-(radius+5))) \n",
    "            for i in range(n_circles)]\n",
    "\n",
    "draw_circles_fastest(pixelmap, centers, 50, 'red')\n",
    "imshow(im)"
   ]
  }
 ],
 "metadata": {
  "kernelspec": {
   "display_name": "Python 3",
   "language": "python",
   "name": "python3"
  },
  "language_info": {
   "codemirror_mode": {
    "name": "ipython",
    "version": 3
   },
   "file_extension": ".py",
   "mimetype": "text/x-python",
   "name": "python",
   "nbconvert_exporter": "python",
   "pygments_lexer": "ipython3",
   "version": "3.8.7"
  }
 },
 "nbformat": 4,
 "nbformat_minor": 2
}
