{
  "nbformat": 4,
  "nbformat_minor": 0,
  "metadata": {
    "kernelspec": {
      "display_name": "Python 3",
      "language": "python",
      "name": "python3"
    },
    "language_info": {
      "codemirror_mode": {
        "name": "ipython",
        "version": 3
      },
      "file_extension": ".py",
      "mimetype": "text/x-python",
      "name": "python",
      "nbconvert_exporter": "python",
      "pygments_lexer": "ipython3",
      "version": "3.8.7"
    },
    "colab": {
      "name": "lookup_tables.ipynb",
      "provenance": []
    }
  },
  "cells": [
    {
      "cell_type": "markdown",
      "metadata": {
        "id": "ykvcmjLw9wbr"
      },
      "source": [
        "# Setup"
      ]
    },
    {
      "cell_type": "code",
      "metadata": {
        "scrolled": true,
        "id": "ojFKyogg9vTY"
      },
      "source": [
        "from PIL import Image, ImageColor\n",
        "from matplotlib.pyplot import imshow\n",
        "import numpy as np"
      ],
      "execution_count": null,
      "outputs": []
    },
    {
      "cell_type": "code",
      "metadata": {
        "id": "L9c78TugNjZE"
      },
      "source": [
        "!pip install memory_profiler"
      ],
      "execution_count": null,
      "outputs": []
    },
    {
      "cell_type": "code",
      "metadata": {
        "id": "6N6vin6t9vTa"
      },
      "source": [
        "import memory_profiler\n",
        "import time\n",
        "\n",
        "def time_mem_decorator(func):                                                                                            \n",
        "    def out(*args, **kwargs):                                                                                            \n",
        "        m1 = memory_profiler.memory_usage()\n",
        "        t1 = time.time()\n",
        "        \n",
        "        result = func(*args, **kwargs)\n",
        "        \n",
        "        t2 = time.time()\n",
        "        m2 = memory_profiler.memory_usage()\n",
        "        time_diff = t2 - t1\n",
        "        mem_diff = m2[0] - m1[0]\n",
        "        print(f\"It took {time_diff} Secs and {mem_diff} Mb to execute this function.\")\n",
        "        return(result)\n",
        "    return out  "
      ],
      "execution_count": null,
      "outputs": []
    },
    {
      "cell_type": "markdown",
      "metadata": {
        "id": "j-lIcLma9zme"
      },
      "source": [
        "# Cirkels tekenen"
      ]
    },
    {
      "cell_type": "markdown",
      "metadata": {
        "id": "S6DslQTE91mH"
      },
      "source": [
        "Voor dit voorbeeld kijken we naar het handmatig tekenen van cirkels, door te bepalen welke pixels een kleur moeten krijgen gegeven een radius, center en lijn dikte."
      ]
    },
    {
      "cell_type": "code",
      "metadata": {
        "id": "iKJdlpJj9vTb"
      },
      "source": [
        "@time_mem_decorator\n",
        "def draw_circles_naive(pixelmap, centers, radius, color, line_width = 5):\n",
        "    for c in centers:\n",
        "        for i in range(720):\n",
        "            for l in range(line_width):\n",
        "                x = float(c[0]) + float(radius + l) * np.sin(float(i) * np.pi / 360.0)\n",
        "                y = float(c[1]) + float(radius + l) * np.cos(float(i) * np.pi / 360.0)\n",
        "                pixelmap[round(x),round(y)] = ImageColor.getrgb(color)\n",
        "        "
      ],
      "execution_count": null,
      "outputs": []
    },
    {
      "cell_type": "code",
      "metadata": {
        "id": "KRvhS-Rl9vTb"
      },
      "source": [
        "im = Image.new('RGB', (1000,1000), \"white\")\n",
        "pixelmap = im.load()\n",
        "imshow(im)"
      ],
      "execution_count": null,
      "outputs": []
    },
    {
      "cell_type": "code",
      "metadata": {
        "scrolled": true,
        "id": "UV4sCSVI9vTc"
      },
      "source": [
        "radius = 50\n",
        "n_circles = 200\n",
        "centers = [(np.random.randint(radius+5, 1000-(radius+5)) ,np.random.randint(radius+5, 1000-(radius+5))) \n",
        "            for i in range(n_circles)]\n",
        "\n",
        "draw_circles_naive(pixelmap, centers, 50, 'red')\n",
        "imshow(im)"
      ],
      "execution_count": null,
      "outputs": []
    },
    {
      "cell_type": "markdown",
      "metadata": {
        "id": "4V-gCa9E9vTc"
      },
      "source": [
        "De sinus en cosinus operaties zijn hetzelfde voor elke lijn stukje op een bepaald deel van de cirkel, dus deze kunnen uit de binnenste for loop voor een versnelling."
      ]
    },
    {
      "cell_type": "code",
      "metadata": {
        "id": "L86fkq8i9vTc"
      },
      "source": [
        "@time_mem_decorator\n",
        "def draw_circles_faster(pixelmap, centers, radius, color, line_width = 5):\n",
        "    for c in centers:\n",
        "        for i in range(720):\n",
        "            sin = np.sin(float(i) * np.pi / 360.0)\n",
        "            cos = np.cos(float(i) * np.pi / 360.0)\n",
        "            for l in range(line_width):\n",
        "                x = float(c[0]) + float(radius + l) * sin\n",
        "                y = float(c[1]) + float(radius + l) * cos\n",
        "                pixelmap[round(x),round(y)] = ImageColor.getrgb(color)\n",
        "\n"
      ],
      "execution_count": null,
      "outputs": []
    },
    {
      "cell_type": "code",
      "metadata": {
        "id": "WEKVekIR9vTd"
      },
      "source": [
        "im = Image.new('RGB', (1000,1000), \"white\")\n",
        "pixelmap = im.load()\n",
        "imshow(im)"
      ],
      "execution_count": null,
      "outputs": []
    },
    {
      "cell_type": "code",
      "metadata": {
        "id": "icBUe7bD9vTd"
      },
      "source": [
        "radius = 50\n",
        "n_circles = 200\n",
        "centers = [(np.random.randint(radius+5, 1000-(radius+5)) ,np.random.randint(radius+5, 1000-(radius+5))) \n",
        "            for i in range(n_circles)]\n",
        "\n",
        "draw_circles_faster(pixelmap, centers, 50, 'red')\n",
        "imshow(im)"
      ],
      "execution_count": null,
      "outputs": []
    },
    {
      "cell_type": "markdown",
      "metadata": {
        "id": "9AsqgQAk9vTd"
      },
      "source": [
        "Als je meerdere cirkels tekent kan het nog sneller. Dit deel van de formule is voor elke cirkel hetzelfde. Je kunt dus 1 keer alle sinus en cosinus waardes uitrekenen en dit bewaren in een array. Dit uitlezen is sneller dan het uitrekenen!"
      ]
    },
    {
      "cell_type": "code",
      "metadata": {
        "id": "X5iDq6gg9vTe"
      },
      "source": [
        "@time_mem_decorator\n",
        "def draw_circles_fastest(pixelmap, centers, radius, color, line_width = 5):\n",
        "    sins = [np.sin(float(i) * np.pi / 360.0) for i in range(720)]\n",
        "    coss = [np.cos(float(i) * np.pi / 360.0) for i in range(720)]\n",
        "    for c in centers:\n",
        "        for i in range(720):\n",
        "            for l in range(line_width):\n",
        "                x = float(c[0]) + float(radius + l) * sins[i]\n",
        "                y = float(c[1]) + float(radius + l) * coss[i]\n",
        "                pixelmap[round(x),round(y)] = ImageColor.getrgb(color)"
      ],
      "execution_count": null,
      "outputs": []
    },
    {
      "cell_type": "code",
      "metadata": {
        "id": "RWGTJ-U79vTe"
      },
      "source": [
        "im = Image.new('RGB', (1000,1000), \"white\")\n",
        "pixelmap = im.load()\n",
        "imshow(im)"
      ],
      "execution_count": null,
      "outputs": []
    },
    {
      "cell_type": "code",
      "metadata": {
        "id": "Q51AbHC39vTe"
      },
      "source": [
        "radius = 50\n",
        "n_circles = 200\n",
        "centers = [(np.random.randint(radius+5, 1000-(radius+5)) ,np.random.randint(radius+5, 1000-(radius+5))) \n",
        "            for i in range(n_circles)]\n",
        "\n",
        "draw_circles_fastest(pixelmap, centers, 50, 'red')\n",
        "imshow(im)"
      ],
      "execution_count": null,
      "outputs": []
    },
    {
      "cell_type": "code",
      "metadata": {
        "id": "1-IZzi3wNwny"
      },
      "source": [
        ""
      ],
      "execution_count": null,
      "outputs": []
    }
  ]
}