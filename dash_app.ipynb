{
  "nbformat": 4,
  "nbformat_minor": 0,
  "metadata": {
    "colab": {
      "name": "dash_app.ipynb",
      "provenance": [],
      "authorship_tag": "ABX9TyNofHupGP28/YNQsJz7cel3",
      "include_colab_link": true
    },
    "kernelspec": {
      "name": "python3",
      "display_name": "Python 3"
    },
    "language_info": {
      "name": "python"
    }
  },
  "cells": [
    {
      "cell_type": "markdown",
      "metadata": {
        "id": "view-in-github",
        "colab_type": "text"
      },
      "source": [
        "<a href=\"https://colab.research.google.com/github/BaseKan/optimisation_workshop/blob/main/dash_app.ipynb\" target=\"_parent\"><img src=\"https://colab.research.google.com/assets/colab-badge.svg\" alt=\"Open In Colab\"/></a>"
      ]
    },
    {
      "cell_type": "markdown",
      "metadata": {
        "id": "q7-wgv1l1GeZ"
      },
      "source": [
        ""
      ]
    },
    {
      "cell_type": "code",
      "metadata": {
        "id": "PyHVdhTD3JPe"
      },
      "source": [
        "!curl -L -c cookies.txt 'https://docs.google.com/uc?export=download&id=1jqIT0Oimj1sXUfNj071u7l4OSU93Fc_y' | sed -rn 's/.*confirm=([0-9A-Za-z_]+).*/\\1/p' > confirm.txt    \n",
        "!curl -L -b cookies.txt -o 'app.zip' 'https://docs.google.com/uc?export=download&id=1jqIT0Oimj1sXUfNj071u7l4OSU93Fc_y&confirm='$(<confirm.txt)\n",
        "!unzip app.zip\n",
        "!rm -f confirm.txt cookies.txt app.zip"
      ],
      "execution_count": null,
      "outputs": []
    },
    {
      "cell_type": "code",
      "metadata": {
        "id": "d10RTEPMiY2K"
      },
      "source": [
        "!curl -L -c cookies.txt 'https://docs.google.com/uc?export=download&id=1PQWIANcav-KpiO2Ju8wIKfeB8Gpwizqs' | sed -rn 's/.*confirm=([0-9A-Za-z_]+).*/\\1/p' > confirm.txt    \n",
        "!curl -L -b cookies.txt -o 'data.zip' 'https://docs.google.com/uc?export=download&id=1PQWIANcav-KpiO2Ju8wIKfeB8Gpwizqs&confirm='$(<confirm.txt)\n",
        "!unzip data.zip\n",
        "!rm -f confirm.txt cookies.txt data.zip"
      ],
      "execution_count": null,
      "outputs": []
    },
    {
      "cell_type": "code",
      "metadata": {
        "id": "6XSYtVWb4Wns"
      },
      "source": [
        "!pip install jupyter-dash\n",
        "!pip install dash-bootstrap-components"
      ],
      "execution_count": null,
      "outputs": []
    },
    {
      "cell_type": "code",
      "metadata": {
        "id": "JbcEOu4p0o0w"
      },
      "source": [
        "import pandas as pd\n",
        "import os\n",
        "\n",
        "def load_data_from_file(datapath, filename):\n",
        "    path = os.path.join(datapath,filename)\n",
        "    return pd.read_csv(path).assign(jaar =  filename.split('_')[2][:4],\n",
        "                                                         dso = filename.split('_')[0])\n",
        "\n",
        "def load_data(basepath='data', type = 'Electricity'):\n",
        "    datapath = os.path.join(basepath,type)\n",
        "    files = os.listdir(datapath)\n",
        "    files = [filename for filename in files if int(filename.split('_')[2][:4])>= 2017]\n",
        "    # first file\n",
        "    file = files[0]\n",
        "    df = load_data_from_file(datapath,file)\n",
        "\n",
        "    # loop over other files\n",
        "    for file in files[1:]:\n",
        "        temp_df = load_data_from_file(datapath,file)\n",
        "        df = pd.concat([df,temp_df])\n",
        "    return df\n",
        "\n",
        "def calculate_top_ten(df, year, dso):\n",
        "    df['Verbruik'] = [int(vb /1000) for vb in df['annual_consume']]\n",
        "    df = df[df['dso']==dso].filter(['Verbruik','jaar','city'])\n",
        "    df = (\n",
        "        df.groupby(['jaar','city'])\n",
        "            .agg('sum')\n",
        "            .sort_values('Verbruik',ascending=False)\n",
        "            .reset_index()\n",
        "    )\n",
        "    df = df[df['jaar'] == str(year)].iloc[:10,1:]\n",
        "    df.columns = ['Stad', 'Jaarverbruik (MWh)']\n",
        "    return df\n",
        "\n",
        "def calculate_timeseries(df_elec, df_gas, cities):\n",
        "    df_elec = (\n",
        "        df_elec.assign(E = df_elec['annual_consume'])\n",
        "            .set_index(['city','zipcode_from','zipcode_to','jaar'])\n",
        "            .filter(['E','num_connections'])\n",
        "        .drop_duplicates()\n",
        "    )\n",
        "    df_gas = (\n",
        "        df_gas.assign(G = df_gas['annual_consume'])\n",
        "            .set_index(['city','zipcode_from', 'zipcode_to', 'jaar'])\n",
        "            .filter(['G'])\n",
        "        .drop_duplicates()\n",
        "    )\n",
        "    df = df_gas.join(df_elec).reset_index()\n",
        "    df = (\n",
        "        df.assign(Jaar = df['jaar'],\n",
        "        Stad = df['city'],\n",
        "        Verbruik = [(df['E'][i]*3.6 + df['G'][i]*35.17) for i in range(df.shape[0])])\n",
        "            .filter(['Stad','Jaar','Verbruik','num_connections'])\n",
        "            .groupby(['Stad','Jaar'])\n",
        "            .agg('sum')\n",
        "            .reset_index()\n",
        "    )\n",
        "    df['Gemiddeld_verbruik'] = [df['Verbruik'][i]/df['num_connections'][i] for i in range(df.shape[0])]\n",
        "    df = df[[any([stad == Stad for stad in cities]) for Stad in df['Stad']]]\n",
        "    return df\n"
      ],
      "execution_count": null,
      "outputs": []
    },
    {
      "cell_type": "code",
      "metadata": {
        "id": "Wuy_QVhy1SmT"
      },
      "source": [
        "from jupyter_dash import JupyterDash\n",
        "import dash_core_components as dcc\n",
        "import dash_bootstrap_components as dbc\n",
        "import dash_html_components as html\n",
        "from dash.dependencies import Input, Output, State\n",
        "\n",
        "import plotly.express as px\n",
        "\n",
        "import page_jaarverbruik\n",
        "import page_tijdreeks\n",
        "import time\n",
        "\n",
        "external_stylesheets = [\"https://bootswatch.com/4/flatly/bootstrap.css\"]\n",
        "\n",
        "app = JupyterDash(__name__, external_stylesheets=external_stylesheets)\n",
        "\n",
        "overhead_bar = dbc.NavbarSimple(\n",
        "    children = [dbc.NavItem(dbc.NavLink(\"Stedelijk Jaarverbruik\", href='/jaarverbruik', active=\"exact\")),\n",
        "                dbc.NavItem(dbc.NavLink(\"Verbruik over de jaren\", href='/tijdreeks', active=\"exact\"))],\n",
        "    brand='EnergieNL v0.1.0',\n",
        "    color='primary',\n",
        "    dark=True\n",
        ")\n",
        "\n",
        "content = html.Div(id='page-content', children=[])\n",
        "\n",
        "app.layout = html.Div([\n",
        "    dcc.Location(id='url'),\n",
        "    overhead_bar,\n",
        "    content\n",
        "])\n",
        "\n",
        "@app.callback(Output('page-content','children'),\n",
        "              [Input('url','pathname')])\n",
        "\n",
        "def render_page_content(pathname):\n",
        "    if pathname == \"/\" or pathname == '/jaarverbruik':\n",
        "        return page_jaarverbruik.content\n",
        "\n",
        "    elif pathname == '/tijdreeks':\n",
        "        return page_tijdreeks.content\n",
        "\n",
        "    else:\n",
        "        return dbc.Jumbotron(\n",
        "        [\n",
        "            html.H1(\"404: Not found\", className=\"text-danger\"),\n",
        "            html.Hr(),\n",
        "            html.P(f\"The pathname {pathname} was not recognised...\"),\n",
        "        ]\n",
        "    )\n",
        "\n",
        "@app.callback(Output(\"dso-table\", \"data\"),\n",
        "              Output('calc-box1', 'children'),\n",
        "              Input(\"submit-table-data\", 'n_clicks'),\n",
        "              State(\"year-box\", \"value\"),\n",
        "              State(\"dso-box\", \"value\"))\n",
        "\n",
        "def update_dso_table(n_clicks, year, dso):\n",
        "    start = time.time()\n",
        "    df = load_data()\n",
        "    df = calculate_top_ten(df=df,year=year,dso=dso)\n",
        "    end = time.time()\n",
        "    rekentijd_str = str(round(end-start,3))+' seconden'\n",
        "    return df.to_dict('records'), rekentijd_str\n",
        "\n",
        "@app.callback(Output(\"timeseries-figure\", \"figure\"),\n",
        "              Output('calc-box2', 'children'),\n",
        "              Input(\"submit-figure-data\", 'n_clicks'),\n",
        "              State(\"city-box\", \"value\"))\n",
        "\n",
        "def update_timeseries_figure(n_clicks, cities):\n",
        "    start = time.time()\n",
        "    elec = load_data()\n",
        "    gas = load_data(type='Gas')\n",
        "    df = calculate_timeseries(df_elec=elec,df_gas=gas, cities=cities)\n",
        "    fig = px.line(df.sort_values('Jaar'), x='Jaar', y='Gemiddeld_verbruik', color='Stad')\n",
        "    end = time.time()\n",
        "    rekentijd_str = str(round(end-start,3))+' seconden'\n",
        "    return fig, rekentijd_str\n",
        "\n",
        "\n",
        "\n",
        "app.run_server(mode='external', debug=True)\n"
      ],
      "execution_count": null,
      "outputs": []
    }
  ]
}