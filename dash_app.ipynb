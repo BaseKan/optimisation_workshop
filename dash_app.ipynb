{
  "nbformat": 4,
  "nbformat_minor": 0,
  "metadata": {
    "colab": {
      "name": "dash_app.ipynb",
      "provenance": [],
      "authorship_tag": "ABX9TyNZUz91Jb8aeusVdZZCJdpC",
      "include_colab_link": true
    },
    "kernelspec": {
      "name": "python3",
      "display_name": "Python 3"
    },
    "language_info": {
      "name": "python"
    }
  },
  "cells": [
    {
      "cell_type": "markdown",
      "metadata": {
        "id": "view-in-github",
        "colab_type": "text"
      },
      "source": [
        "<a href=\"https://colab.research.google.com/github/BaseKan/optimisation_workshop/blob/main/dash_app.ipynb\" target=\"_parent\"><img src=\"https://colab.research.google.com/assets/colab-badge.svg\" alt=\"Open In Colab\"/></a>"
      ]
    },
    {
      "cell_type": "markdown",
      "metadata": {
        "id": "q7-wgv1l1GeZ"
      },
      "source": [
        ""
      ]
    },
    {
      "cell_type": "code",
      "metadata": {
        "colab": {
          "base_uri": "https://localhost:8080/"
        },
        "id": "PyHVdhTD3JPe",
        "outputId": "68c891f8-3b15-4241-d555-3ecb3c4a8df0"
      },
      "source": [
        "!curl -L -c cookies.txt 'https://docs.google.com/uc?export=download&id=1jqIT0Oimj1sXUfNj071u7l4OSU93Fc_y' | sed -rn 's/.*confirm=([0-9A-Za-z_]+).*/\\1/p' > confirm.txt    \n",
        "!curl -L -b cookies.txt -o 'app.zip' 'https://docs.google.com/uc?export=download&id=1jqIT0Oimj1sXUfNj071u7l4OSU93Fc_y&confirm='$(<confirm.txt)\n",
        "!unzip app.zip\n",
        "!rm -f confirm.txt cookies.txt app.zip"
      ],
      "execution_count": 11,
      "outputs": [
        {
          "output_type": "stream",
          "text": [
            "  % Total    % Received % Xferd  Average Speed   Time    Time     Time  Current\n",
            "                                 Dload  Upload   Total   Spent    Left  Speed\n",
            "100   388    0   388    0     0   1015      0 --:--:-- --:--:-- --:--:--  1013\n",
            "100  3519  100  3519    0     0   5372      0 --:--:-- --:--:-- --:--:--  5372\n",
            "  % Total    % Received % Xferd  Average Speed   Time    Time     Time  Current\n",
            "                                 Dload  Upload   Total   Spent    Left  Speed\n",
            "100   408    0   408    0     0    853      0 --:--:-- --:--:-- --:--:--   853\n",
            "  0     0    0     0    0     0      0      0 --:--:-- --:--:-- --:--:--     0\n",
            "  0     0    0     0    0     0      0      0 --:--:-- --:--:-- --:--:--     0\n",
            "100  3519  100  3519    0     0   3763      0 --:--:-- --:--:-- --:--:--  3763\n",
            "Archive:  app.zip\n",
            "  inflating: custom_components.py    \n",
            "  inflating: __MACOSX/._custom_components.py  \n",
            "  inflating: page_jaarverbruik.py    \n",
            "  inflating: __MACOSX/._page_jaarverbruik.py  \n",
            "  inflating: page_tijdreeks.py       \n",
            "  inflating: __MACOSX/._page_tijdreeks.py  \n"
          ],
          "name": "stdout"
        }
      ]
    },
    {
      "cell_type": "code",
      "metadata": {
        "colab": {
          "base_uri": "https://localhost:8080/"
        },
        "id": "6XSYtVWb4Wns",
        "outputId": "4db3ff53-8ecb-4fc4-d896-fc0d2e7e5ff7"
      },
      "source": [
        "!pip install jupyter-dash\n",
        "!pip install dash-bootstrap-components"
      ],
      "execution_count": 8,
      "outputs": [
        {
          "output_type": "stream",
          "text": [
            "Requirement already satisfied: jupyter-dash in /usr/local/lib/python3.7/dist-packages (0.4.0)\n",
            "Requirement already satisfied: retrying in /usr/local/lib/python3.7/dist-packages (from jupyter-dash) (1.3.3)\n",
            "Requirement already satisfied: dash in /usr/local/lib/python3.7/dist-packages (from jupyter-dash) (1.20.0)\n",
            "Requirement already satisfied: ipykernel in /usr/local/lib/python3.7/dist-packages (from jupyter-dash) (4.10.1)\n",
            "Requirement already satisfied: requests in /usr/local/lib/python3.7/dist-packages (from jupyter-dash) (2.23.0)\n",
            "Requirement already satisfied: ansi2html in /usr/local/lib/python3.7/dist-packages (from jupyter-dash) (1.6.0)\n",
            "Requirement already satisfied: flask in /usr/local/lib/python3.7/dist-packages (from jupyter-dash) (1.1.2)\n",
            "Requirement already satisfied: ipython in /usr/local/lib/python3.7/dist-packages (from jupyter-dash) (5.5.0)\n",
            "Requirement already satisfied: six>=1.7.0 in /usr/local/lib/python3.7/dist-packages (from retrying->jupyter-dash) (1.15.0)\n",
            "Requirement already satisfied: dash-html-components==1.1.3 in /usr/local/lib/python3.7/dist-packages (from dash->jupyter-dash) (1.1.3)\n",
            "Requirement already satisfied: plotly in /usr/local/lib/python3.7/dist-packages (from dash->jupyter-dash) (4.4.1)\n",
            "Requirement already satisfied: dash-table==4.11.3 in /usr/local/lib/python3.7/dist-packages (from dash->jupyter-dash) (4.11.3)\n",
            "Requirement already satisfied: dash-renderer==1.9.1 in /usr/local/lib/python3.7/dist-packages (from dash->jupyter-dash) (1.9.1)\n",
            "Requirement already satisfied: flask-compress in /usr/local/lib/python3.7/dist-packages (from dash->jupyter-dash) (1.9.0)\n",
            "Requirement already satisfied: dash-core-components==1.16.0 in /usr/local/lib/python3.7/dist-packages (from dash->jupyter-dash) (1.16.0)\n",
            "Requirement already satisfied: future in /usr/local/lib/python3.7/dist-packages (from dash->jupyter-dash) (0.16.0)\n",
            "Requirement already satisfied: tornado>=4.0 in /usr/local/lib/python3.7/dist-packages (from ipykernel->jupyter-dash) (5.1.1)\n",
            "Requirement already satisfied: jupyter-client in /usr/local/lib/python3.7/dist-packages (from ipykernel->jupyter-dash) (5.3.5)\n",
            "Requirement already satisfied: traitlets>=4.1.0 in /usr/local/lib/python3.7/dist-packages (from ipykernel->jupyter-dash) (5.0.5)\n",
            "Requirement already satisfied: urllib3!=1.25.0,!=1.25.1,<1.26,>=1.21.1 in /usr/local/lib/python3.7/dist-packages (from requests->jupyter-dash) (1.24.3)\n",
            "Requirement already satisfied: certifi>=2017.4.17 in /usr/local/lib/python3.7/dist-packages (from requests->jupyter-dash) (2020.12.5)\n",
            "Requirement already satisfied: chardet<4,>=3.0.2 in /usr/local/lib/python3.7/dist-packages (from requests->jupyter-dash) (3.0.4)\n",
            "Requirement already satisfied: idna<3,>=2.5 in /usr/local/lib/python3.7/dist-packages (from requests->jupyter-dash) (2.10)\n",
            "Requirement already satisfied: Jinja2>=2.10.1 in /usr/local/lib/python3.7/dist-packages (from flask->jupyter-dash) (2.11.3)\n",
            "Requirement already satisfied: itsdangerous>=0.24 in /usr/local/lib/python3.7/dist-packages (from flask->jupyter-dash) (1.1.0)\n",
            "Requirement already satisfied: Werkzeug>=0.15 in /usr/local/lib/python3.7/dist-packages (from flask->jupyter-dash) (1.0.1)\n",
            "Requirement already satisfied: click>=5.1 in /usr/local/lib/python3.7/dist-packages (from flask->jupyter-dash) (7.1.2)\n",
            "Requirement already satisfied: pygments in /usr/local/lib/python3.7/dist-packages (from ipython->jupyter-dash) (2.6.1)\n",
            "Requirement already satisfied: simplegeneric>0.8 in /usr/local/lib/python3.7/dist-packages (from ipython->jupyter-dash) (0.8.1)\n",
            "Requirement already satisfied: setuptools>=18.5 in /usr/local/lib/python3.7/dist-packages (from ipython->jupyter-dash) (54.2.0)\n",
            "Requirement already satisfied: pexpect; sys_platform != \"win32\" in /usr/local/lib/python3.7/dist-packages (from ipython->jupyter-dash) (4.8.0)\n",
            "Requirement already satisfied: pickleshare in /usr/local/lib/python3.7/dist-packages (from ipython->jupyter-dash) (0.7.5)\n",
            "Requirement already satisfied: decorator in /usr/local/lib/python3.7/dist-packages (from ipython->jupyter-dash) (4.4.2)\n",
            "Requirement already satisfied: prompt-toolkit<2.0.0,>=1.0.4 in /usr/local/lib/python3.7/dist-packages (from ipython->jupyter-dash) (1.0.18)\n",
            "Requirement already satisfied: brotli in /usr/local/lib/python3.7/dist-packages (from flask-compress->dash->jupyter-dash) (1.0.9)\n",
            "Requirement already satisfied: jupyter-core>=4.6.0 in /usr/local/lib/python3.7/dist-packages (from jupyter-client->ipykernel->jupyter-dash) (4.7.1)\n",
            "Requirement already satisfied: python-dateutil>=2.1 in /usr/local/lib/python3.7/dist-packages (from jupyter-client->ipykernel->jupyter-dash) (2.8.1)\n",
            "Requirement already satisfied: pyzmq>=13 in /usr/local/lib/python3.7/dist-packages (from jupyter-client->ipykernel->jupyter-dash) (22.0.3)\n",
            "Requirement already satisfied: ipython-genutils in /usr/local/lib/python3.7/dist-packages (from traitlets>=4.1.0->ipykernel->jupyter-dash) (0.2.0)\n",
            "Requirement already satisfied: MarkupSafe>=0.23 in /usr/local/lib/python3.7/dist-packages (from Jinja2>=2.10.1->flask->jupyter-dash) (1.1.1)\n",
            "Requirement already satisfied: ptyprocess>=0.5 in /usr/local/lib/python3.7/dist-packages (from pexpect; sys_platform != \"win32\"->ipython->jupyter-dash) (0.7.0)\n",
            "Requirement already satisfied: wcwidth in /usr/local/lib/python3.7/dist-packages (from prompt-toolkit<2.0.0,>=1.0.4->ipython->jupyter-dash) (0.2.5)\n",
            "Collecting dash-bootstrap-components\n",
            "\u001b[?25l  Downloading https://files.pythonhosted.org/packages/09/77/2e07311c55e9d584f08f4f95061b250cd481bcee8df581b8f30e07c4b97d/dash_bootstrap_components-0.12.0-py3-none-any.whl (191kB)\n",
            "\u001b[K     |████████████████████████████████| 194kB 12.2MB/s \n",
            "\u001b[?25hRequirement already satisfied: dash>=1.9.0 in /usr/local/lib/python3.7/dist-packages (from dash-bootstrap-components) (1.20.0)\n",
            "Requirement already satisfied: Flask>=1.0.4 in /usr/local/lib/python3.7/dist-packages (from dash>=1.9.0->dash-bootstrap-components) (1.1.2)\n",
            "Requirement already satisfied: flask-compress in /usr/local/lib/python3.7/dist-packages (from dash>=1.9.0->dash-bootstrap-components) (1.9.0)\n",
            "Requirement already satisfied: plotly in /usr/local/lib/python3.7/dist-packages (from dash>=1.9.0->dash-bootstrap-components) (4.4.1)\n",
            "Requirement already satisfied: dash-table==4.11.3 in /usr/local/lib/python3.7/dist-packages (from dash>=1.9.0->dash-bootstrap-components) (4.11.3)\n",
            "Requirement already satisfied: dash-renderer==1.9.1 in /usr/local/lib/python3.7/dist-packages (from dash>=1.9.0->dash-bootstrap-components) (1.9.1)\n",
            "Requirement already satisfied: dash-core-components==1.16.0 in /usr/local/lib/python3.7/dist-packages (from dash>=1.9.0->dash-bootstrap-components) (1.16.0)\n",
            "Requirement already satisfied: future in /usr/local/lib/python3.7/dist-packages (from dash>=1.9.0->dash-bootstrap-components) (0.16.0)\n",
            "Requirement already satisfied: dash-html-components==1.1.3 in /usr/local/lib/python3.7/dist-packages (from dash>=1.9.0->dash-bootstrap-components) (1.1.3)\n",
            "Requirement already satisfied: Jinja2>=2.10.1 in /usr/local/lib/python3.7/dist-packages (from Flask>=1.0.4->dash>=1.9.0->dash-bootstrap-components) (2.11.3)\n",
            "Requirement already satisfied: itsdangerous>=0.24 in /usr/local/lib/python3.7/dist-packages (from Flask>=1.0.4->dash>=1.9.0->dash-bootstrap-components) (1.1.0)\n",
            "Requirement already satisfied: click>=5.1 in /usr/local/lib/python3.7/dist-packages (from Flask>=1.0.4->dash>=1.9.0->dash-bootstrap-components) (7.1.2)\n",
            "Requirement already satisfied: Werkzeug>=0.15 in /usr/local/lib/python3.7/dist-packages (from Flask>=1.0.4->dash>=1.9.0->dash-bootstrap-components) (1.0.1)\n",
            "Requirement already satisfied: brotli in /usr/local/lib/python3.7/dist-packages (from flask-compress->dash>=1.9.0->dash-bootstrap-components) (1.0.9)\n",
            "Requirement already satisfied: retrying>=1.3.3 in /usr/local/lib/python3.7/dist-packages (from plotly->dash>=1.9.0->dash-bootstrap-components) (1.3.3)\n",
            "Requirement already satisfied: six in /usr/local/lib/python3.7/dist-packages (from plotly->dash>=1.9.0->dash-bootstrap-components) (1.15.0)\n",
            "Requirement already satisfied: MarkupSafe>=0.23 in /usr/local/lib/python3.7/dist-packages (from Jinja2>=2.10.1->Flask>=1.0.4->dash>=1.9.0->dash-bootstrap-components) (1.1.1)\n",
            "Installing collected packages: dash-bootstrap-components\n",
            "Successfully installed dash-bootstrap-components-0.12.0\n"
          ],
          "name": "stdout"
        }
      ]
    },
    {
      "cell_type": "code",
      "metadata": {
        "id": "JbcEOu4p0o0w"
      },
      "source": [
        "import pandas as pd\n",
        "import os\n",
        "\n",
        "def load_data_from_file(datapath, filename):\n",
        "    path = os.path.join(datapath,filename)\n",
        "    return pd.read_csv(path).assign(jaar =  filename.split('_')[2][:4],\n",
        "                                                         dso = filename.split('_')[0])\n",
        "\n",
        "def load_data(basepath='C:/Data/Code/EnergieKaart/data', type = 'Electricity'):\n",
        "    datapath = os.path.join(basepath,type)\n",
        "    files = os.listdir(datapath)\n",
        "    files = [filename for filename in files if int(filename.split('_')[2][:4])>= 2017]\n",
        "    # first file\n",
        "    file = files[0]\n",
        "    df = load_data_from_file(datapath,file)\n",
        "\n",
        "    # loop over other files\n",
        "    for file in files[1:]:\n",
        "        temp_df = load_data_from_file(datapath,file)\n",
        "        df = pd.concat([df,temp_df])\n",
        "    return df\n",
        "\n",
        "def calculate_top_ten(df, year, dso):\n",
        "    df['Verbruik'] = [int(vb /1000) for vb in df['annual_consume']]\n",
        "    df = df[df['dso']==dso].filter(['Verbruik','jaar','city'])\n",
        "    df = (\n",
        "        df.groupby(['jaar','city'])\n",
        "            .agg('sum')\n",
        "            .sort_values('Verbruik',ascending=False)\n",
        "            .reset_index()\n",
        "    )\n",
        "    df = df[df['jaar'] == str(year)].iloc[:10,1:]\n",
        "    df.columns = ['Stad', 'Jaarverbruik (MWh)']\n",
        "    return df\n",
        "\n",
        "def calculate_timeseries(df_elec, df_gas, cities):\n",
        "    df_elec = (\n",
        "        df_elec.assign(E = df_elec['annual_consume'])\n",
        "            .set_index(['city','zipcode_from','zipcode_to','jaar'])\n",
        "            .filter(['E','num_connections'])\n",
        "        .drop_duplicates()\n",
        "    )\n",
        "    df_gas = (\n",
        "        df_gas.assign(G = df_gas['annual_consume'])\n",
        "            .set_index(['city','zipcode_from', 'zipcode_to', 'jaar'])\n",
        "            .filter(['G','dso'])\n",
        "        .drop_duplicates()\n",
        "    )\n",
        "    df = df_gas.join(df_elec).reset_index()\n",
        "    df = (\n",
        "        df.assign(Jaar = df['jaar'],\n",
        "        Stad = df['city'],\n",
        "        Verbruik = [(df['E'][i]*3.6 + df['G'][i]*35.17) for i in range(df.shape[0])])\n",
        "            .filter(['Stad','Jaar','Verbruik','num_connections'])\n",
        "            .groupby(['Stad','Jaar'])\n",
        "            .agg('sum')\n",
        "            .reset_index()\n",
        "    )\n",
        "    df['Gemiddeld_verbruik'] = [df['Verbruik'][i]/df['num_connections'][i] for i in range(df.shape[0])]\n",
        "    df = df[[any([stad == Stad for stad in cities]) for Stad in df['Stad']]]\n",
        "    return df\n"
      ],
      "execution_count": 12,
      "outputs": []
    },
    {
      "cell_type": "code",
      "metadata": {
        "colab": {
          "base_uri": "https://localhost:8080/",
          "height": 671
        },
        "id": "Wuy_QVhy1SmT",
        "outputId": "cd4669d6-2b71-4711-ef21-d1d07e1fd010"
      },
      "source": [
        "from jupyter_dash import JupyterDash\n",
        "import dash_core_components as dcc\n",
        "import dash_bootstrap_components as dbc\n",
        "import dash_html_components as html\n",
        "from dash.dependencies import Input, Output, State\n",
        "\n",
        "import plotly.express as px\n",
        "\n",
        "import page_jaarverbruik\n",
        "import page_tijdreeks\n",
        "import time\n",
        "\n",
        "external_stylesheets = [\"https://bootswatch.com/4/flatly/bootstrap.css\"]\n",
        "\n",
        "app = JupyterDash(__name__, external_stylesheets=external_stylesheets)\n",
        "\n",
        "overhead_bar = dbc.NavbarSimple(\n",
        "    children = [dbc.NavItem(dbc.NavLink(\"Stedelijk Jaarverbruik\", href='/jaarverbruik', active=\"exact\")),\n",
        "                dbc.NavItem(dbc.NavLink(\"Verbruik over de jaren\", href='/tijdreeks', active=\"exact\"))],\n",
        "    brand='EnergieNL v0.1.0',\n",
        "    color='primary',\n",
        "    dark=True\n",
        ")\n",
        "\n",
        "content = html.Div(id='page-content', children=[])\n",
        "\n",
        "app.layout = html.Div([\n",
        "    dcc.Location(id='url'),\n",
        "    overhead_bar,\n",
        "    content\n",
        "])\n",
        "\n",
        "@app.callback(Output('page-content','children'),\n",
        "              [Input('url','pathname')])\n",
        "\n",
        "def render_page_content(pathname):\n",
        "    if pathname == \"/\" or pathname == '/jaarverbruik':\n",
        "        return page_jaarverbruik.content\n",
        "\n",
        "    elif pathname == '/tijdreeks':\n",
        "        return page_tijdreeks.content\n",
        "\n",
        "    else:\n",
        "        return dbc.Jumbotron(\n",
        "        [\n",
        "            html.H1(\"404: Not found\", className=\"text-danger\"),\n",
        "            html.Hr(),\n",
        "            html.P(f\"The pathname {pathname} was not recognised...\"),\n",
        "        ]\n",
        "    )\n",
        "\n",
        "@app.callback(Output(\"dso-table\", \"data\"),\n",
        "              Output('calc-box1', 'children'),\n",
        "              Input(\"submit-table-data\", 'n_clicks'),\n",
        "              State(\"year-box\", \"value\"),\n",
        "              State(\"dso-box\", \"value\"))\n",
        "\n",
        "def update_dso_table(n_clicks, year, dso):\n",
        "    start = time.time()\n",
        "    df = load_data()\n",
        "    df = calculate_top_ten(df=df,year=year,dso=dso)\n",
        "    end = time.time()\n",
        "    rekentijd_str = str(round(end-start,3))+' seconden'\n",
        "    return df.to_dict('records'), rekentijd_str\n",
        "\n",
        "@app.callback(Output(\"timeseries-figure\", \"figure\"),\n",
        "              Output('calc-box2', 'children'),\n",
        "              Input(\"submit-figure-data\", 'n_clicks'),\n",
        "              State(\"city-box\", \"value\"))\n",
        "\n",
        "def update_timeseries_figure(n_clicks, cities):\n",
        "    start = time.time()\n",
        "    elec = load_data()\n",
        "    gas = load_data(type='Gas')\n",
        "    df = calculate_timeseries(df_elec=elec,df_gas=gas, cities=cities)\n",
        "    fig = px.line(df.sort_values('Jaar'), x='Jaar', y='Gemiddeld_verbruik', color='Stad')\n",
        "    end = time.time()\n",
        "    rekentijd_str = str(round(end-start,3))+' seconden'\n",
        "    return fig, rekentijd_str\n",
        "\n",
        "\n",
        "if __name__ == \"__main__\":\n",
        "    app.run_server(mode='inline')\n"
      ],
      "execution_count": 14,
      "outputs": [
        {
          "output_type": "display_data",
          "data": {
            "application/javascript": [
              "(async (port, path, width, height, cache, element) => {\n",
              "    if (!google.colab.kernel.accessAllowed && !cache) {\n",
              "      return;\n",
              "    }\n",
              "    element.appendChild(document.createTextNode(''));\n",
              "    const url = await google.colab.kernel.proxyPort(port, {cache});\n",
              "    const iframe = document.createElement('iframe');\n",
              "    iframe.src = url + path;\n",
              "    iframe.height = height;\n",
              "    iframe.width = width;\n",
              "    iframe.style.border = 0;\n",
              "    element.appendChild(iframe);\n",
              "  })(8050, \"/\", \"100%\", 650, false, window.element)"
            ],
            "text/plain": [
              "<IPython.core.display.Javascript object>"
            ]
          },
          "metadata": {
            "tags": []
          }
        }
      ]
    }
  ]
}