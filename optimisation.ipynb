{
  "nbformat": 4,
  "nbformat_minor": 0,
  "metadata": {
    "kernelspec": {
      "display_name": "Python 3",
      "language": "python",
      "name": "python3"
    },
    "language_info": {
      "codemirror_mode": {
        "name": "ipython",
        "version": 3
      },
      "file_extension": ".py",
      "mimetype": "text/x-python",
      "name": "python",
      "nbconvert_exporter": "python",
      "pygments_lexer": "ipython3",
      "version": "3.7.4"
    },
    "colab": {
      "name": "optimisation.ipynb",
      "provenance": []
    }
  },
  "cells": [
    {
      "cell_type": "code",
      "metadata": {
        "colab": {
          "base_uri": "https://localhost:8080/"
        },
        "id": "GEiA-q2aE7TK",
        "outputId": "9bf29c01-5f8d-4294-cba0-a1d41c062487"
      },
      "source": [
        "!git clone https://github.com/BaseKan/optimisation_workshop_data.git"
      ],
      "execution_count": 1,
      "outputs": [
        {
          "output_type": "stream",
          "text": [
            "Cloning into 'optimisation_workshop_data'...\n",
            "remote: Enumerating objects: 3, done.\u001b[K\n",
            "remote: Counting objects: 100% (3/3), done.\u001b[K\n",
            "remote: Compressing objects: 100% (2/2), done.\u001b[K\n",
            "remote: Total 3 (delta 0), reused 0 (delta 0), pack-reused 0\u001b[K\n",
            "Unpacking objects: 100% (3/3), done.\n"
          ],
          "name": "stdout"
        }
      ]
    },
    {
      "cell_type": "markdown",
      "metadata": {
        "id": "s6tyNq63_5CU"
      },
      "source": [
        "# Load Data"
      ]
    },
    {
      "cell_type": "code",
      "metadata": {
        "id": "cYPoCFif_5CW"
      },
      "source": [
        "from scipy import interpolate\n",
        "import pickle\n",
        "import numpy as np\n",
        "#from compute_temps import compute_external_temps"
      ],
      "execution_count": 4,
      "outputs": []
    },
    {
      "cell_type": "code",
      "metadata": {
        "scrolled": true,
        "id": "YN2KCWTM_5CX",
        "colab": {
          "base_uri": "https://localhost:8080/"
        },
        "outputId": "e3aafd86-a55f-4075-85ed-1d461fe077a7"
      },
      "source": [
        "pickle_data = open(\"optimisation_workshop_data/input_dict.pickle\",\"rb\")\n",
        "input_dict = pickle.load(pickle_data)\n",
        "print(input_dict.keys())"
      ],
      "execution_count": 5,
      "outputs": [
        {
          "output_type": "stream",
          "text": [
            "dict_keys(['solutions', 'grids', 'distances', 'mirror_distances'])\n"
          ],
          "name": "stdout"
        }
      ]
    },
    {
      "cell_type": "code",
      "metadata": {
        "id": "ZxN5WSd3_5CY"
      },
      "source": [
        "solutions = np.array(input_dict[\"solutions\"])\n",
        "grids = np.array(input_dict[\"grids\"])\n",
        "distances = np.array(input_dict[\"distances\"])\n",
        "mirror_distances = np.array(input_dict[\"mirror_distances\"])"
      ],
      "execution_count": null,
      "outputs": []
    },
    {
      "cell_type": "markdown",
      "metadata": {
        "id": "ICdx-ydc_5CY"
      },
      "source": [
        "# Reference"
      ]
    },
    {
      "cell_type": "code",
      "metadata": {
        "id": "wjeLKLQ8_5CY"
      },
      "source": [
        "def compute_external_temps(solutions,grids,distances,mirror_distances):\n",
        "    \"\"\"\n",
        "    This function computes the heating of a cable due to other cables in the environment and adds these contributions as\n",
        "    a separate array \"external_heat\" as an instance variable to the environment cable. Moreover, it adds the heat solution\n",
        "    with the external_heat to an instance variable \"full_solution\".\n",
        "\n",
        "    Args:\n",
        "        cable_indices [int]: a list containing the indices of the environment cables for which the heating due to\n",
        "        other environment cables will be computed.\n",
        "\n",
        "    Returns: self\n",
        "\n",
        "    \"\"\"\n",
        "    external_temps = [0 for i in range(len(solutions))]\n",
        "    funcs = [\n",
        "        interpolate.interp1d(\n",
        "            grids[i],\n",
        "            solutions[i],\n",
        "            fill_value=\"extrapolate\") for i in range(len(solutions))\n",
        "    ]\n",
        "\n",
        "    for i, cable in enumerate(solutions):\n",
        "        # heating from cables\n",
        "        for j in [j for j in range(len(solutions)) if j != i]:\n",
        "            dist = distances[i,j]\n",
        "            external_temps[i] += funcs[j](dist)\n",
        "        # cooling from mirror cables\n",
        "        for j in range(len(solutions)):\n",
        "            dist = mirror_distances[j]\n",
        "            external_temps[i] -= funcs[j](dist)\n",
        "    return(external_temps)"
      ],
      "execution_count": null,
      "outputs": []
    },
    {
      "cell_type": "code",
      "metadata": {
        "scrolled": true,
        "id": "pugFyPA7_5CZ",
        "outputId": "3a42f8c5-3c95-4d47-f832-51412d0dda50"
      },
      "source": [
        "%%timeit\n",
        "\n",
        "output = compute_external_temps(solutions, grids, distances, mirror_distances)"
      ],
      "execution_count": null,
      "outputs": [
        {
          "output_type": "stream",
          "text": [
            "35.6 ms ± 1.39 ms per loop (mean ± std. dev. of 7 runs, 10 loops each)\n"
          ],
          "name": "stdout"
        }
      ]
    },
    {
      "cell_type": "code",
      "metadata": {
        "id": "5J5vln8C_5Ca",
        "outputId": "372de1b0-6906-466f-e3aa-b83f1dbb14ef"
      },
      "source": [
        "print(output)"
      ],
      "execution_count": null,
      "outputs": [
        {
          "output_type": "stream",
          "text": [
            "[62.73460739862953, 81.4266534246406, 113.06628162778529, 149.81301154348333, 171.65023936243242, 196.42114885812293, 241.17646244594033, 245.94345625064489, 251.73045307639973, 260.6160457776615, 268.7757663322127, 272.0975823309014, 282.82678446113067, 287.5297124403088, 293.82790378388864, 299.90822445008484, 305.18605131585224, 309.7314286334043, 323.2948125055413, 328.19919025616355, 333.0254087909701]\n"
          ],
          "name": "stdout"
        }
      ]
    },
    {
      "cell_type": "markdown",
      "metadata": {
        "id": "hsr0Tebc_5Ca"
      },
      "source": [
        "# Data"
      ]
    },
    {
      "cell_type": "code",
      "metadata": {
        "scrolled": true,
        "id": "Anu3E0N2_5Cb",
        "outputId": "b390dddc-0414-4a57-bd9a-da056c7840c8"
      },
      "source": [
        "max([i.size for i in solutions])"
      ],
      "execution_count": null,
      "outputs": [
        {
          "output_type": "execute_result",
          "data": {
            "text/plain": [
              "243"
            ]
          },
          "metadata": {
            "tags": []
          },
          "execution_count": 71
        }
      ]
    },
    {
      "cell_type": "code",
      "metadata": {
        "id": "8hX-wJWX_5Cc",
        "outputId": "55370538-8ca0-4c63-9ca7-c9acf96f3f8d"
      },
      "source": [
        "max([i.size for i in grids])\n"
      ],
      "execution_count": null,
      "outputs": [
        {
          "output_type": "execute_result",
          "data": {
            "text/plain": [
              "243"
            ]
          },
          "metadata": {
            "tags": []
          },
          "execution_count": 89
        }
      ]
    },
    {
      "cell_type": "code",
      "metadata": {
        "id": "xxi141at_5Cc",
        "outputId": "7412f286-65c6-4c43-dc2d-908fb7a2f0f6"
      },
      "source": [
        "[i.size for i in distances]\n",
        "print(distances.shape)"
      ],
      "execution_count": null,
      "outputs": [
        {
          "output_type": "stream",
          "text": [
            "(21, 21)\n"
          ],
          "name": "stdout"
        }
      ]
    },
    {
      "cell_type": "code",
      "metadata": {
        "id": "9dQGf-c-_5Cd",
        "outputId": "abac096e-1d5a-455e-fc9f-ad85a24037a1"
      },
      "source": [
        "mirror_distances.shape"
      ],
      "execution_count": null,
      "outputs": [
        {
          "output_type": "execute_result",
          "data": {
            "text/plain": [
              "(21,)"
            ]
          },
          "metadata": {
            "tags": []
          },
          "execution_count": 87
        }
      ]
    },
    {
      "cell_type": "markdown",
      "metadata": {
        "id": "OSnA9JW-_5Cd"
      },
      "source": [
        "# Code dissection"
      ]
    },
    {
      "cell_type": "markdown",
      "metadata": {
        "id": "0r49vXJL_5Cd"
      },
      "source": [
        "Old:"
      ]
    },
    {
      "cell_type": "code",
      "metadata": {
        "id": "vIOWyTCw_5Ce",
        "outputId": "519f2788-2c7e-4bfb-99f1-cd953ac05c45"
      },
      "source": [
        "%%timeit\n",
        "\n",
        "funcs = [\n",
        "    interpolate.interp1d(\n",
        "        grids[i],\n",
        "        solutions[i],\n",
        "        fill_value=\"extrapolate\") for i in range(len(solutions))\n",
        "]"
      ],
      "execution_count": null,
      "outputs": [
        {
          "output_type": "stream",
          "text": [
            "494 µs ± 3.18 µs per loop (mean ± std. dev. of 7 runs, 1000 loops each)\n"
          ],
          "name": "stdout"
        }
      ]
    },
    {
      "cell_type": "code",
      "metadata": {
        "id": "Jh1VE-HO_5Ce"
      },
      "source": [
        "def loop_temps(funcs, solutions, distances, mirror_distances):\n",
        "    external_temps = [0 for i in range(len(solutions))]\n",
        "    for i, cable in enumerate(solutions):\n",
        "        # heating from cables\n",
        "        for j in [j for j in range(len(solutions)) if j != i]:\n",
        "            dist = distances[i,j]\n",
        "            external_temps[i] += funcs[j](dist)\n",
        "        # cooling from mirror cables\n",
        "        for j in range(len(solutions)):\n",
        "            dist = mirror_distances[j]\n",
        "            external_temps[i] -= funcs[j](dist)\n",
        "    return(external_temps)"
      ],
      "execution_count": null,
      "outputs": []
    },
    {
      "cell_type": "code",
      "metadata": {
        "scrolled": true,
        "id": "rNzqksaA_5Ce",
        "outputId": "9bf8dbb2-6d38-4173-ea29-265fd5590115"
      },
      "source": [
        "%%timeit\n",
        "\n",
        "output = loop_temps(funcs, solutions, distances, mirror_distances)"
      ],
      "execution_count": null,
      "outputs": [
        {
          "output_type": "stream",
          "text": [
            "36.9 ms ± 1.67 ms per loop (mean ± std. dev. of 7 runs, 10 loops each)\n"
          ],
          "name": "stdout"
        }
      ]
    },
    {
      "cell_type": "code",
      "metadata": {
        "id": "potu6Txo_5Ce",
        "outputId": "7377659b-e9e4-4e2e-d795-74501abd16b3"
      },
      "source": [
        "print(output)"
      ],
      "execution_count": null,
      "outputs": [
        {
          "output_type": "stream",
          "text": [
            "[62.73460739862953, 81.4266534246406, 113.06628162778529, 149.81301154348333, 171.65023936243242, 196.42114885812293, 241.17646244594033, 245.94345625064489, 251.73045307639973, 260.6160457776615, 268.7757663322127, 272.0975823309014, 282.82678446113067, 287.5297124403088, 293.82790378388864, 299.90822445008484, 305.18605131585224, 309.7314286334043, 323.2948125055413, 328.19919025616355, 333.0254087909701]\n"
          ],
          "name": "stdout"
        }
      ]
    },
    {
      "cell_type": "markdown",
      "metadata": {
        "id": "RYrTh6f0_5Ch"
      },
      "source": [
        "# Single Instruction Multiple Data "
      ]
    },
    {
      "cell_type": "code",
      "metadata": {
        "id": "qceGji8t_5Ch",
        "outputId": "8279b8d6-4c8a-4f09-f4de-3543ccabeb30"
      },
      "source": [
        "distances[0,]"
      ],
      "execution_count": null,
      "outputs": [
        {
          "output_type": "execute_result",
          "data": {
            "text/plain": [
              "array([0.        , 0.11      , 0.11      , 0.22090722, 0.18135459,\n",
              "       0.28511311, 0.1580771 , 0.12581307, 0.11379336, 0.33694098,\n",
              "       0.28992403, 0.3243084 , 0.19618453, 0.14875795, 0.18343644,\n",
              "       0.26923664, 0.22655888, 0.26916338, 0.20245585, 0.19138685,\n",
              "       0.15539925])"
            ]
          },
          "metadata": {
            "tags": []
          },
          "execution_count": 294
        }
      ]
    },
    {
      "cell_type": "code",
      "metadata": {
        "scrolled": true,
        "id": "ScSawdTj_5Ch",
        "outputId": "acb1170d-adc6-4b1d-cb59-10ed64a8da5a"
      },
      "source": [
        "[funcs[j](distances[1,j]) for j in range(len(solutions))]"
      ],
      "execution_count": null,
      "outputs": [
        {
          "output_type": "execute_result",
          "data": {
            "text/plain": [
              "[array(34.82423643),\n",
              " array(34.5208644),\n",
              " array(7.04637087),\n",
              " array(5.18808302),\n",
              " array(5.73967502),\n",
              " array(4.95345371),\n",
              " array(4.04626149),\n",
              " array(4.31922674),\n",
              " array(4.29756338),\n",
              " array(3.20536707),\n",
              " array(3.40195398),\n",
              " array(3.27724032),\n",
              " array(3.81202438),\n",
              " array(4.0637562),\n",
              " array(3.91248893),\n",
              " array(3.52442939),\n",
              " array(3.72875268),\n",
              " array(3.54468053),\n",
              " array(3.93948092),\n",
              " array(4.10331076),\n",
              " array(4.24643015)]"
            ]
          },
          "metadata": {
            "tags": []
          },
          "execution_count": 390
        }
      ]
    },
    {
      "cell_type": "code",
      "metadata": {
        "scrolled": true,
        "id": "vUiavjAq_5Ch",
        "outputId": "f1ad096d-f7f6-4667-fd31-d97cd128d722"
      },
      "source": [
        "zero_func = [funcs[i](0) for i in range(len(distances))]\n",
        "print(zero_func)"
      ],
      "execution_count": null,
      "outputs": [
        {
          "output_type": "stream",
          "text": [
            "[array(34.82423643), array(34.5208644), array(34.68684601), array(34.80523089), array(34.71182822), array(34.48028203), array(11.32908557), array(11.37244726), array(11.41818549), array(11.12996755), array(11.29087218), array(11.22021135), array(11.44226492), array(11.48705569), array(11.50919432), array(11.39588783), array(11.4754479), array(11.37113849), array(11.15750284), array(11.14499197), array(11.27582022)]\n"
          ],
          "name": "stdout"
        }
      ]
    },
    {
      "cell_type": "code",
      "metadata": {
        "id": "Bfa5Zfr2_5Ci",
        "outputId": "7c3a9d42-01d6-4c91-8d43-c873eb7eeb04"
      },
      "source": [
        "mirror_funcs = np.sum([funcs[i](mirror_distances[i]) for i in range(len(mirror_distances))])\n",
        "print(mirror_funcs)"
      ],
      "execution_count": null,
      "outputs": [
        {
          "output_type": "stream",
          "text": [
            "33.74813255276322\n"
          ],
          "name": "stdout"
        }
      ]
    },
    {
      "cell_type": "code",
      "metadata": {
        "scrolled": true,
        "id": "XeQdaZok_5Ci",
        "outputId": "1de884af-5545-48be-dbeb-3d064d7d5698"
      },
      "source": [
        "funcs_result = [funcs[j](distances[:j,j]) for j in range(len(distances))]\n",
        "print(funcs_result)"
      ],
      "execution_count": null,
      "outputs": [
        {
          "output_type": "stream",
          "text": [
            "[array([], dtype=float64), array([7.01750118]), array([7.04637087, 7.04637087]), array([5.75311928, 5.18808302, 5.92848339]), array([6.11045126, 5.73967502, 7.01922587, 7.05076237]), array([5.22996682, 4.95345371, 5.70691737, 7.01049776, 7.01049776]), array([4.69078985, 4.04626149, 3.9778201 , 3.87825862, 3.79467399,\n",
            "       3.46800891]), array([5.0241939 , 4.31922674, 4.15201779, 3.86550117, 3.86718476,\n",
            "       3.49035637, 6.36738196]), array([5.18189367, 4.29756338, 4.27786993, 4.11472123, 4.05792119,\n",
            "       3.66146606, 6.39042469, 6.39042469]), array([3.58559251, 3.20536707, 3.39563543, 4.07539614, 3.59344275,\n",
            "       3.59344275, 3.89100058, 3.70606271, 3.9042325 ]), array([3.8390623 , 3.40195398, 3.62103659, 4.38593791, 3.83606419,\n",
            "       3.79422491, 4.13833087, 3.94117675, 4.18676097, 6.32651037]), array([3.66391545, 3.27724032, 3.51255214, 4.36134148, 3.77295104,\n",
            "       3.81455539, 3.86452854, 3.70679221, 3.91907773, 6.291017  ,\n",
            "       6.291017  ]), array([4.43103954, 3.81202438, 4.04407249, 4.64640833, 4.1798169 ,\n",
            "       3.94525199, 4.80604965, 4.55989187, 4.97697216, 4.88806186,\n",
            "       5.43219807, 4.93224768]), array([4.83474837, 4.0637562 , 4.33183628, 4.77358986, 4.41147526,\n",
            "       4.05016582, 4.99444764, 4.82291953, 5.36344812, 4.50485003,\n",
            "       4.90522231, 4.5781077 , 6.42516322]), array([4.54849923, 3.91248893, 4.24893004, 5.13789685, 4.4986517 ,\n",
            "       4.23147631, 4.58384932, 4.44134141, 4.83130921, 4.73452762,\n",
            "       5.23204785, 4.91375526, 6.4363418 , 6.4363418 ]), array([3.97406179, 3.52442939, 3.82375425, 4.93322848, 4.15206451,\n",
            "       4.15206451, 4.07718414, 3.93391997, 4.19454289, 5.35359422,\n",
            "       5.99140057, 5.99140057, 5.35359422, 4.97934452, 5.55387869]), array([4.24083738, 3.72875268, 4.09143084, 5.43492538, 4.47652275,\n",
            "       4.3825917 , 4.2208148 , 4.10271624, 4.40126914, 4.87952672,\n",
            "       5.38717328, 5.24145113, 5.58872052, 5.38717328, 6.30409959,\n",
            "       6.41930852]), array([3.96658661, 3.54468053, 3.90332198, 5.39041301, 4.34670623,\n",
            "       4.43986725, 3.92613972, 3.82527627, 4.06912512, 4.83956745,\n",
            "       5.19852484, 5.34305238, 4.96953055, 4.79794247, 5.34305238,\n",
            "       6.36672621, 6.36672621]), array([4.28874101, 3.93948092, 3.70091646, 3.44645828, 3.44957462,\n",
            "       3.15079923, 5.25307162, 5.44959184, 4.88585575, 3.48783276,\n",
            "       3.61670927, 3.43430682, 4.00065079, 4.1158039 , 3.86007911,\n",
            "       3.54128769, 3.62725693, 3.44245816]), array([4.36095125, 4.10331076, 3.7686201 , 3.40585296, 3.45921826,\n",
            "       3.13947612, 4.88087984, 5.24773153, 4.71235587, 3.35597228,\n",
            "       3.48424441, 3.32074907, 3.85612101, 3.99655313, 3.75705865,\n",
            "       3.4389149 , 3.53764622, 3.36243385, 6.25312509]), array([4.69441766, 4.24643015, 3.96487228, 3.61800741, 3.65442826,\n",
            "       3.30652814, 5.50120364, 6.20537023, 5.30281534, 3.5537117 ,\n",
            "       3.70638741, 3.52079824, 4.15473752, 4.33236358, 4.03848993,\n",
            "       3.66154736, 3.77809437, 3.57476114, 6.31877344, 6.31877344])]\n"
          ],
          "name": "stdout"
        }
      ]
    },
    {
      "cell_type": "code",
      "metadata": {
        "scrolled": true,
        "id": "UERNCi-K_5Ci",
        "outputId": "aee41554-b8a7-48ca-8718-80d7f63025ce"
      },
      "source": [
        "[j * zero_func[max(j-1, 0)] for j in range(len(solutions))]"
      ],
      "execution_count": null,
      "outputs": [
        {
          "output_type": "execute_result",
          "data": {
            "text/plain": [
              "[0.0,\n",
              " 34.824236434442966,\n",
              " 69.04172880925604,\n",
              " 104.06053804048862,\n",
              " 139.220923556591,\n",
              " 173.55914111929775,\n",
              " 206.88169215082655,\n",
              " 79.30359895769041,\n",
              " 90.97957811380815,\n",
              " 102.76366943488114,\n",
              " 111.29967545607094,\n",
              " 124.1995939571282,\n",
              " 134.6425361614631,\n",
              " 148.74944390762965,\n",
              " 160.81877967970848,\n",
              " 172.63791487384287,\n",
              " 182.33420522501387,\n",
              " 195.08261433040482,\n",
              " 204.68049280070286,\n",
              " 211.9925538939503,\n",
              " 222.89983948448125]"
            ]
          },
          "metadata": {
            "tags": []
          },
          "execution_count": 330
        }
      ]
    },
    {
      "cell_type": "code",
      "metadata": {
        "id": "uFEjLU8G_5Ci",
        "outputId": "ee4377c8-8eb2-4f04-b31e-b9fd581d81fd"
      },
      "source": [
        "sum(zero_func[:2])"
      ],
      "execution_count": null,
      "outputs": [
        {
          "output_type": "execute_result",
          "data": {
            "text/plain": [
              "69.345100839071"
            ]
          },
          "metadata": {
            "tags": []
          },
          "execution_count": 394
        }
      ]
    },
    {
      "cell_type": "code",
      "metadata": {
        "scrolled": false,
        "id": "YSRnYxEk_5Cj",
        "outputId": "d36b8149-3045-4c0a-8656-d76229865f9b"
      },
      "source": [
        "# FINAL, CORRECT\n",
        "[sum(i[j] for i in funcs_result[(1+j):21]) + sum(zero_func[:j]) - mirror_funcs for j in range(len(solutions))]"
      ],
      "execution_count": null,
      "outputs": [
        {
          "output_type": "execute_result",
          "data": {
            "text/plain": [
              "[62.73460739862953,\n",
              " 81.42665342464056,\n",
              " 113.06628162778523,\n",
              " 149.81301154348333,\n",
              " 171.65023936243247,\n",
              " 196.421148858123,\n",
              " 241.17646244594053,\n",
              " 245.94345625064508,\n",
              " 251.73045307639975,\n",
              " 260.6160457776615,\n",
              " 268.77576633221275,\n",
              " 272.09758233090133,\n",
              " 282.8267844611306,\n",
              " 287.5297124403088,\n",
              " 293.8279037838887,\n",
              " 299.9082244500849,\n",
              " 305.18605131585224,\n",
              " 309.73142863340433,\n",
              " 323.29481250554136,\n",
              " 328.1991902561636,\n",
              " 333.0254087909702]"
            ]
          },
          "metadata": {
            "tags": []
          },
          "execution_count": 395
        }
      ]
    },
    {
      "cell_type": "code",
      "metadata": {
        "id": "oQ3vh_ON_5Cj"
      },
      "source": [
        "[sum(funcs_result[i,j] for i in range((1+j):21)) + j * zero_func[max(j-1, 0)] - mirror_funcs for j in range(len(solutions))]"
      ],
      "execution_count": null,
      "outputs": []
    },
    {
      "cell_type": "code",
      "metadata": {
        "id": "0kb3NAGk_5Cj",
        "outputId": "2fd75683-02c0-441f-d0a3-c04d23df4e0e"
      },
      "source": [
        "[[i,j] for i in range(j + 1, 21) for j in range(len(solutions))]"
      ],
      "execution_count": null,
      "outputs": [
        {
          "output_type": "stream",
          "text": [
            "[]\n"
          ],
          "name": "stdout"
        }
      ]
    },
    {
      "cell_type": "code",
      "metadata": {
        "id": "--YuZmAX_5Cj",
        "outputId": "c6967bf4-2507-4d8e-88f4-e63d0cb2cc42"
      },
      "source": [
        "[[i + j for i in range(j+1, 21)] for j in range(1)]"
      ],
      "execution_count": null,
      "outputs": [
        {
          "output_type": "execute_result",
          "data": {
            "text/plain": [
              "[[1, 2, 3, 4, 5, 6, 7, 8, 9, 10, 11, 12, 13, 14, 15, 16, 17, 18, 19, 20]]"
            ]
          },
          "metadata": {
            "tags": []
          },
          "execution_count": 377
        }
      ]
    },
    {
      "cell_type": "code",
      "metadata": {
        "id": "wTWiJvg1_5Ck"
      },
      "source": [
        "def compute_external_temps3(solutions,grids,distances,mirror_distances):\n",
        "    \"\"\"\n",
        "    This function computes the heating of a cable due to other cables in the environment and adds these contributions as\n",
        "    a separate array \"external_heat\" as an instance variable to the environment cable. Moreover, it adds the heat solution\n",
        "    with the external_heat to an instance variable \"full_solution\".\n",
        "\n",
        "    Args:\n",
        "        cable_indices [int]: a list containing the indices of the environment cables for which the heating due to\n",
        "        other environment cables will be computed.\n",
        "\n",
        "    Returns: self\n",
        "\n",
        "    \"\"\"\n",
        "    funcs = [\n",
        "        interpolate.interp1d(\n",
        "            grids[i],\n",
        "            solutions[i],\n",
        "            fill_value=\"extrapolate\") for i in range(len(solutions))\n",
        "    ]\n",
        "    \n",
        "    zero_func_results = [funcs[i](0) for i in range(len(solutions))]\n",
        "    mirror_distances_result = np.sum([funcs[i](mirror_distances[i]) for i in range(len(mirror_distances))])\n",
        "    funcs_results = [funcs[j](distances[:j,j]) for j in range(len(distances))]\n",
        "    \n",
        "    external_temps = [sum(i[j] for i in funcs_results[(1+j):21]) + \n",
        "                      sum(zero_func_results[:j]) - mirror_distances_result for j in range(len(solutions))]\n",
        "    \n",
        "    return(external_temps)"
      ],
      "execution_count": null,
      "outputs": []
    },
    {
      "cell_type": "code",
      "metadata": {
        "id": "8rD2CsR5_5Ck",
        "outputId": "391ff07b-e1b6-4b0a-fb57-3f958fb8038b"
      },
      "source": [
        "%%timeit\n",
        "\n",
        "output = compute_external_temps3(solutions,grids,distances,mirror_distances)"
      ],
      "execution_count": null,
      "outputs": [
        {
          "output_type": "stream",
          "text": [
            "3.42 ms ± 148 µs per loop (mean ± std. dev. of 7 runs, 100 loops each)\n"
          ],
          "name": "stdout"
        }
      ]
    },
    {
      "cell_type": "code",
      "metadata": {
        "scrolled": true,
        "id": "VFmX-2vn_5Cl",
        "outputId": "ef2c0ea0-ac1b-4479-d31f-dc229013a458"
      },
      "source": [
        "print(output)"
      ],
      "execution_count": null,
      "outputs": [
        {
          "output_type": "stream",
          "text": [
            "[62.73460739862953, 81.4266534246406, 113.06628162778529, 149.81301154348333, 171.65023936243242, 196.42114885812293, 241.17646244594033, 245.94345625064489, 251.73045307639973, 260.6160457776615, 268.7757663322127, 272.0975823309014, 282.82678446113067, 287.5297124403088, 293.82790378388864, 299.90822445008484, 305.18605131585224, 309.7314286334043, 323.2948125055413, 328.19919025616355, 333.0254087909701]\n"
          ],
          "name": "stdout"
        }
      ]
    }
  ]
}