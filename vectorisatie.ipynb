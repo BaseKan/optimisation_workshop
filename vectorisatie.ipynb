{
  "nbformat": 4,
  "nbformat_minor": 5,
  "metadata": {
    "kernelspec": {
      "display_name": "Python 3",
      "language": "python",
      "name": "python3"
    },
    "language_info": {
      "codemirror_mode": {
        "name": "ipython",
        "version": 3
      },
      "file_extension": ".py",
      "mimetype": "text/x-python",
      "name": "python",
      "nbconvert_exporter": "python",
      "pygments_lexer": "ipython3",
      "version": "3.8.7"
    },
    "colab": {
      "name": "vectorisatie.ipynb",
      "provenance": []
    }
  },
  "cells": [
    {
      "cell_type": "markdown",
      "metadata": {
        "id": "supreme-archive"
      },
      "source": [
        "# Setup"
      ],
      "id": "supreme-archive"
    },
    {
      "cell_type": "code",
      "metadata": {
        "id": "superior-essex"
      },
      "source": [
        "import os\n",
        "import pandas as pd\n",
        "import numpy as np"
      ],
      "id": "superior-essex",
      "execution_count": null,
      "outputs": []
    },
    {
      "cell_type": "markdown",
      "metadata": {
        "id": "7lb4lwMBu5Vg"
      },
      "source": [
        "We definieren eerst een decorator functie om het geheugengebruik en de gebruikte tijd te meten.\n",
        "\n",
        "Een decorator is een functie die een andere functie als invoer gebruikt en een aangepaste versie van die functie teruggeeft.\n",
        "\n",
        "In dit geval wordt voor en na de functie aanroep de tijd en het geheugengebruik gemeten, waarna het verschil wordt geprint. Het resultaat van de originele functie wordt aan het einde teruggegeven."
      ],
      "id": "7lb4lwMBu5Vg"
    },
    {
      "cell_type": "code",
      "metadata": {
        "id": "entitled-crazy"
      },
      "source": [
        "import memory_profiler\n",
        "import time\n",
        "\n",
        "def time_mem_decorator(func):                                                                                            \n",
        "    def out(*args, **kwargs):                                                                                            \n",
        "        m1 = memory_profiler.memory_usage()\n",
        "        t1 = time.time()\n",
        "        \n",
        "        result = func(*args, **kwargs)\n",
        "        \n",
        "        t2 = time.time()\n",
        "        m2 = memory_profiler.memory_usage()\n",
        "        time_diff = t2 - t1\n",
        "        mem_diff = m2[0] - m1[0]\n",
        "        print(f\"It took {time_diff} Secs and {mem_diff} Mb to execute this function.\")\n",
        "        return(result)\n",
        "    return out  "
      ],
      "id": "entitled-crazy",
      "execution_count": null,
      "outputs": []
    },
    {
      "cell_type": "markdown",
      "metadata": {
        "id": "informal-broadcast"
      },
      "source": [
        "# Voorbeeld"
      ],
      "id": "informal-broadcast"
    },
    {
      "cell_type": "markdown",
      "metadata": {
        "id": "EOJb7O1D6ny5"
      },
      "source": [
        "We definieren een ingewikkelde berekening."
      ],
      "id": "EOJb7O1D6ny5"
    },
    {
      "cell_type": "code",
      "metadata": {
        "id": "persistent-phrase"
      },
      "source": [
        "def complicated_calculation(n):\n",
        "    a = 10 + n\n",
        "    for i in range(10000):\n",
        "        a = a**2 % 7 + 1\n",
        "    return np.random.randint(0,100)-a"
      ],
      "id": "persistent-phrase",
      "execution_count": null,
      "outputs": []
    },
    {
      "cell_type": "markdown",
      "metadata": {
        "id": "rZ9PH3TS6sJN"
      },
      "source": [
        "Dit passen we toe op een reeks van 0 tot 1000 en we geven het resultaat terug."
      ],
      "id": "rZ9PH3TS6sJN"
    },
    {
      "cell_type": "code",
      "metadata": {
        "id": "improved-underground"
      },
      "source": [
        "@time_mem_decorator\n",
        "def get_results():\n",
        "    results = []\n",
        "    for i in range(1000):\n",
        "        results.append(complicated_calculation(i))\n",
        "    return results"
      ],
      "id": "improved-underground",
      "execution_count": null,
      "outputs": []
    },
    {
      "cell_type": "code",
      "metadata": {
        "id": "ranging-florist"
      },
      "source": [
        "get_results()"
      ],
      "id": "ranging-florist",
      "execution_count": null,
      "outputs": []
    },
    {
      "cell_type": "markdown",
      "metadata": {
        "id": "vH7nF5Xx7hgn"
      },
      "source": [
        "# Maak het sneller!"
      ],
      "id": "vH7nF5Xx7hgn"
    },
    {
      "cell_type": "markdown",
      "metadata": {
        "id": "ZJ2h6Dqq7n2r"
      },
      "source": [
        "Vectorisatie is het uitvoeren van dezelfde operatie over meerdere verschillende inputs tegelijkertijd. Hoe dit werkt verschilt per programmeertaal. In python kun je het toepassen door je inputs naar arrays om te zetten en vervolgens de operatie over de hele array uit te voeren, in plaats van over de individuele waardes middels een for loop."
      ],
      "id": "ZJ2h6Dqq7n2r"
    },
    {
      "cell_type": "markdown",
      "metadata": {
        "id": "X5VH6GEk6xKJ"
      },
      "source": [
        "Pas het hieronder toe om de code sneller te maken. Pas *complicated_calculation* niet aan, enkel hoe het wordt aangeroepen. Je kan *np.vectorize(function)(inputs)* gebruiken.\n",
        "\n"
      ],
      "id": "X5VH6GEk6xKJ"
    },
    {
      "cell_type": "code",
      "metadata": {
        "scrolled": true,
        "id": "significant-comment"
      },
      "source": [
        "@time_mem_decorator\n",
        "def get_results_fast():\n",
        "    "
      ],
      "id": "significant-comment",
      "execution_count": null,
      "outputs": []
    },
    {
      "cell_type": "code",
      "metadata": {
        "id": "automated-revelation"
      },
      "source": [
        ""
      ],
      "id": "automated-revelation",
      "execution_count": null,
      "outputs": []
    }
  ]
}