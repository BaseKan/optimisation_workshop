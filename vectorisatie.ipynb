{
 "cells": [
  {
   "cell_type": "markdown",
   "id": "supreme-archive",
   "metadata": {},
   "source": [
    "# Setup"
   ]
  },
  {
   "cell_type": "code",
   "execution_count": null,
   "id": "superior-essex",
   "metadata": {},
   "outputs": [],
   "source": [
    "import os\n",
    "import pandas as pd\n",
    "import numpy as np"
   ]
  },
  {
   "cell_type": "code",
   "execution_count": null,
   "id": "entitled-crazy",
   "metadata": {},
   "outputs": [],
   "source": [
    "import memory_profiler\n",
    "import time\n",
    "\n",
    "def time_mem_decorator(func):                                                                                            \n",
    "    def out(*args, **kwargs):                                                                                            \n",
    "        m1 = memory_profiler.memory_usage()\n",
    "        t1 = time.time()\n",
    "        \n",
    "        result = func(*args, **kwargs)\n",
    "        \n",
    "        t2 = time.time()\n",
    "        m2 = memory_profiler.memory_usage()\n",
    "        time_diff = t2 - t1\n",
    "        mem_diff = m2[0] - m1[0]\n",
    "        print(f\"It took {time_diff} Secs and {mem_diff} Mb to execute this function.\")\n",
    "        return(result)\n",
    "    return out  "
   ]
  },
  {
   "cell_type": "markdown",
   "id": "informal-broadcast",
   "metadata": {},
   "source": [
    "# Example"
   ]
  },
  {
   "cell_type": "code",
   "execution_count": null,
   "id": "persistent-phrase",
   "metadata": {},
   "outputs": [],
   "source": [
    "def complicated_calculation(n):\n",
    "    a = 10\n",
    "    for i in range(10000):\n",
    "        a = a**2 % 7 + 1\n",
    "    return np.random.randint(0,100)-a"
   ]
  },
  {
   "cell_type": "code",
   "execution_count": null,
   "id": "improved-underground",
   "metadata": {},
   "outputs": [],
   "source": [
    "@time_mem_decorator\n",
    "def get_results():\n",
    "    results = []\n",
    "    for i in range(1000):\n",
    "        results.append(complicated_calculation(i))\n",
    "    return results"
   ]
  },
  {
   "cell_type": "code",
   "execution_count": null,
   "id": "ranging-florist",
   "metadata": {},
   "outputs": [],
   "source": [
    "get_results()"
   ]
  },
  {
   "cell_type": "code",
   "execution_count": null,
   "id": "significant-comment",
   "metadata": {
    "scrolled": true
   },
   "outputs": [],
   "source": [
    "@time_mem_decorator\n",
    "def get_results_fast():\n",
    "    "
   ]
  },
  {
   "cell_type": "code",
   "execution_count": null,
   "id": "automated-revelation",
   "metadata": {},
   "outputs": [],
   "source": []
  }
 ],
 "metadata": {
  "kernelspec": {
   "display_name": "Python 3",
   "language": "python",
   "name": "python3"
  },
  "language_info": {
   "codemirror_mode": {
    "name": "ipython",
    "version": 3
   },
   "file_extension": ".py",
   "mimetype": "text/x-python",
   "name": "python",
   "nbconvert_exporter": "python",
   "pygments_lexer": "ipython3",
   "version": "3.8.7"
  }
 },
 "nbformat": 4,
 "nbformat_minor": 5
}
