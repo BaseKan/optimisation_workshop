{
  "nbformat": 4,
  "nbformat_minor": 5,
  "metadata": {
    "kernelspec": {
      "display_name": "Python 3",
      "language": "python",
      "name": "python3"
    },
    "language_info": {
      "codemirror_mode": {
        "name": "ipython",
        "version": 3
      },
      "file_extension": ".py",
      "mimetype": "text/x-python",
      "name": "python",
      "nbconvert_exporter": "python",
      "pygments_lexer": "ipython3",
      "version": "3.8.7"
    },
    "colab": {
      "name": "vectorisatie.ipynb",
      "provenance": []
    }
  },
  "cells": [
    {
      "cell_type": "markdown",
      "metadata": {
        "id": "supreme-archive"
      },
      "source": [
        "# Setup"
      ],
      "id": "supreme-archive"
    },
    {
      "cell_type": "code",
      "metadata": {
        "id": "superior-essex"
      },
      "source": [
        "import os\n",
        "import pandas as pd\n",
        "import numpy as np"
      ],
      "id": "superior-essex",
      "execution_count": null,
      "outputs": []
    },
    {
      "cell_type": "markdown",
      "metadata": {
        "id": "7lb4lwMBu5Vg"
      },
      "source": [
        "We define a decorator to measure the time and memory usage of our functions. A decorator is a function that takes another function as input and returns an adjusted version of that functions. \n",
        "\n",
        "In this case it measures the current time and current memory usage, calls the original function, measures the current time and current memory usage again and then prints the difference.\n",
        "\n",
        "The result of the original function is then returned."
      ],
      "id": "7lb4lwMBu5Vg"
    },
    {
      "cell_type": "code",
      "metadata": {
        "id": "entitled-crazy"
      },
      "source": [
        "import memory_profiler\n",
        "import time\n",
        "\n",
        "def time_mem_decorator(func):                                                                                            \n",
        "    def out(*args, **kwargs):                                                                                            \n",
        "        m1 = memory_profiler.memory_usage()\n",
        "        t1 = time.time()\n",
        "        \n",
        "        result = func(*args, **kwargs)\n",
        "        \n",
        "        t2 = time.time()\n",
        "        m2 = memory_profiler.memory_usage()\n",
        "        time_diff = t2 - t1\n",
        "        mem_diff = m2[0] - m1[0]\n",
        "        print(f\"It took {time_diff} Secs and {mem_diff} Mb to execute this function.\")\n",
        "        return(result)\n",
        "    return out  "
      ],
      "id": "entitled-crazy",
      "execution_count": null,
      "outputs": []
    },
    {
      "cell_type": "markdown",
      "metadata": {
        "id": "informal-broadcast"
      },
      "source": [
        "# Example"
      ],
      "id": "informal-broadcast"
    },
    {
      "cell_type": "markdown",
      "metadata": {
        "id": "EOJb7O1D6ny5"
      },
      "source": [
        "We define a complicated calculation."
      ],
      "id": "EOJb7O1D6ny5"
    },
    {
      "cell_type": "code",
      "metadata": {
        "id": "persistent-phrase"
      },
      "source": [
        "def complicated_calculation(n):\n",
        "    a = 10\n",
        "    for i in range(10000):\n",
        "        a = a**2 % 7 + 1\n",
        "    return np.random.randint(0,100)-a"
      ],
      "id": "persistent-phrase",
      "execution_count": null,
      "outputs": []
    },
    {
      "cell_type": "markdown",
      "metadata": {
        "id": "rZ9PH3TS6sJN"
      },
      "source": [
        "We apply this to a range of inputs with a for loop."
      ],
      "id": "rZ9PH3TS6sJN"
    },
    {
      "cell_type": "code",
      "metadata": {
        "id": "improved-underground"
      },
      "source": [
        "@time_mem_decorator\n",
        "def get_results():\n",
        "    results = []\n",
        "    for i in range(1000):\n",
        "        results.append(complicated_calculation(i))\n",
        "    return results"
      ],
      "id": "improved-underground",
      "execution_count": null,
      "outputs": []
    },
    {
      "cell_type": "code",
      "metadata": {
        "id": "ranging-florist"
      },
      "source": [
        "get_results()"
      ],
      "id": "ranging-florist",
      "execution_count": null,
      "outputs": []
    },
    {
      "cell_type": "markdown",
      "metadata": {
        "id": "vH7nF5Xx7hgn"
      },
      "source": [
        "# Try to make it faster!"
      ],
      "id": "vH7nF5Xx7hgn"
    },
    {
      "cell_type": "markdown",
      "metadata": {
        "id": "ZJ2h6Dqq7n2r"
      },
      "source": [
        "Vectorization is the technique of applying the same operation to a lot of different data all at once. The way this is implemented differs from language to language. In python code can be vectorized by putting all input in arrays and applying the operation immediatly to the arrays instead of looping over the inputs."
      ],
      "id": "ZJ2h6Dqq7n2r"
    },
    {
      "cell_type": "markdown",
      "metadata": {
        "id": "X5VH6GEk6xKJ"
      },
      "source": [
        "Use vectorization to speed up the code. You should make no changes to *complicated_calculation*, just to the way it is called. You can use *np.vectorize(function)(inputs)*.\n",
        "\n",
        "---\n",
        "\n"
      ],
      "id": "X5VH6GEk6xKJ"
    },
    {
      "cell_type": "code",
      "metadata": {
        "scrolled": true,
        "id": "significant-comment"
      },
      "source": [
        "@time_mem_decorator\n",
        "def get_results_fast():\n",
        "    "
      ],
      "id": "significant-comment",
      "execution_count": null,
      "outputs": []
    },
    {
      "cell_type": "code",
      "metadata": {
        "id": "automated-revelation"
      },
      "source": [
        ""
      ],
      "id": "automated-revelation",
      "execution_count": null,
      "outputs": []
    }
  ]
}