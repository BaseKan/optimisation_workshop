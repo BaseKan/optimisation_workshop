{
  "nbformat": 4,
  "nbformat_minor": 5,
  "metadata": {
    "kernelspec": {
      "display_name": "Python 3",
      "language": "python",
      "name": "python3"
    },
    "language_info": {
      "codemirror_mode": {
        "name": "ipython",
        "version": 3
      },
      "file_extension": ".py",
      "mimetype": "text/x-python",
      "name": "python",
      "nbconvert_exporter": "python",
      "pygments_lexer": "ipython3",
      "version": "3.8.7"
    },
    "colab": {
      "name": "vectorisatie.ipynb",
      "provenance": [],
      "include_colab_link": true
    }
  },
  "cells": [
    {
      "cell_type": "markdown",
      "metadata": {
        "id": "view-in-github",
        "colab_type": "text"
      },
      "source": [
        "<a href=\"https://colab.research.google.com/github/BaseKan/optimisation_workshop/blob/main/vectorisatie.ipynb\" target=\"_parent\"><img src=\"https://colab.research.google.com/assets/colab-badge.svg\" alt=\"Open In Colab\"/></a>"
      ]
    },
    {
      "cell_type": "markdown",
      "metadata": {
        "id": "supreme-archive"
      },
      "source": [
        "# Setup"
      ],
      "id": "supreme-archive"
    },
    {
      "cell_type": "code",
      "metadata": {
        "id": "superior-essex"
      },
      "source": [
        "import os\n",
        "import numpy as np\n",
        "from math import sin,tan,cos"
      ],
      "id": "superior-essex",
      "execution_count": 1,
      "outputs": []
    },
    {
      "cell_type": "markdown",
      "metadata": {
        "id": "7lb4lwMBu5Vg"
      },
      "source": [
        "We definieren eerst een decorator functie om het geheugengebruik en de gebruikte tijd te meten.\n",
        "\n",
        "Een decorator is een functie die een andere functie als invoer gebruikt en een aangepaste versie van die functie teruggeeft.\n",
        "\n",
        "In dit geval wordt voor en na de functie aanroep de tijd en het geheugengebruik gemeten, waarna het verschil wordt geprint. Het resultaat van de originele functie wordt aan het einde teruggegeven."
      ],
      "id": "7lb4lwMBu5Vg"
    },
    {
      "cell_type": "code",
      "metadata": {
        "id": "AJTLbkeLthEX",
        "outputId": "c2a3e817-c219-4fd0-e802-0649f8d15b0e",
        "colab": {
          "base_uri": "https://localhost:8080/"
        }
      },
      "source": [
        "!pip install memory_profiler"
      ],
      "id": "AJTLbkeLthEX",
      "execution_count": 2,
      "outputs": [
        {
          "output_type": "stream",
          "text": [
            "Collecting memory_profiler\n",
            "  Downloading https://files.pythonhosted.org/packages/8f/fd/d92b3295657f8837e0177e7b48b32d6651436f0293af42b76d134c3bb489/memory_profiler-0.58.0.tar.gz\n",
            "Requirement already satisfied: psutil in /usr/local/lib/python3.7/dist-packages (from memory_profiler) (5.4.8)\n",
            "Building wheels for collected packages: memory-profiler\n",
            "  Building wheel for memory-profiler (setup.py) ... \u001b[?25l\u001b[?25hdone\n",
            "  Created wheel for memory-profiler: filename=memory_profiler-0.58.0-cp37-none-any.whl size=30180 sha256=0ba0fc2e2c59682943b9fe36778e1266d84eb340b250b28493caa549f25f09ff\n",
            "  Stored in directory: /root/.cache/pip/wheels/02/e4/0b/aaab481fc5dd2a4ea59e78bc7231bb6aae7635ca7ee79f8ae5\n",
            "Successfully built memory-profiler\n",
            "Installing collected packages: memory-profiler\n",
            "Successfully installed memory-profiler-0.58.0\n"
          ],
          "name": "stdout"
        }
      ]
    },
    {
      "cell_type": "code",
      "metadata": {
        "id": "entitled-crazy"
      },
      "source": [
        "import memory_profiler\n",
        "import time\n",
        "\n",
        "def time_mem_decorator(func):                                                                                            \n",
        "    def out(*args, **kwargs):                                                                                            \n",
        "        m1 = memory_profiler.memory_usage()\n",
        "        t1 = time.time()\n",
        "        \n",
        "        result = func(*args, **kwargs)\n",
        "        \n",
        "        t2 = time.time()\n",
        "        m2 = memory_profiler.memory_usage()\n",
        "        time_diff = t2 - t1\n",
        "        mem_diff = m2[0] - m1[0]\n",
        "        print(f\"It took {time_diff} Secs and {mem_diff} Mb to execute this function.\")\n",
        "        return(result)\n",
        "    return out  "
      ],
      "id": "entitled-crazy",
      "execution_count": 3,
      "outputs": []
    },
    {
      "cell_type": "markdown",
      "metadata": {
        "id": "informal-broadcast"
      },
      "source": [
        "# Berekening met een for loop"
      ],
      "id": "informal-broadcast"
    },
    {
      "cell_type": "markdown",
      "metadata": {
        "id": "EOJb7O1D6ny5"
      },
      "source": [
        "We definieren een berekening die moet worden uitgevoerd voor alle waardes in een array."
      ],
      "id": "EOJb7O1D6ny5"
    },
    {
      "cell_type": "code",
      "metadata": {
        "id": "Q867MoUQlrwB"
      },
      "source": [
        "@time_mem_decorator\n",
        "def double_array(a):\n",
        "  for i in range(len(a)):\n",
        "    a[i] *= 2\n",
        "\n",
        "  return a"
      ],
      "id": "Q867MoUQlrwB",
      "execution_count": 4,
      "outputs": []
    },
    {
      "cell_type": "code",
      "metadata": {
        "id": "PK6L5z7FmaS4",
        "outputId": "4d04792e-f13e-484e-ac1f-80335c442278",
        "colab": {
          "base_uri": "https://localhost:8080/"
        }
      },
      "source": [
        "a = np.arange(0,1000000) \n",
        "a = double_array(a)"
      ],
      "id": "PK6L5z7FmaS4",
      "execution_count": 5,
      "outputs": [
        {
          "output_type": "stream",
          "text": [
            "It took 0.5255157947540283 Secs and 0.18359375 Mb to execute this function.\n"
          ],
          "name": "stdout"
        }
      ]
    },
    {
      "cell_type": "markdown",
      "metadata": {
        "id": "uV2MH0n3nSUl"
      },
      "source": [
        "Dit soort simpele operaties kunnen in veel talen in 1 keer worden uitgevoerd over alle waardes in de array. Je computer heeft hier vector operaties voor, waardoor waardoor een operatie voor meerdere waardes in een vector (array) parallel wordt uitgevoerd. "
      ],
      "id": "uV2MH0n3nSUl"
    },
    {
      "cell_type": "code",
      "metadata": {
        "id": "AlA1a8Ptmr9G"
      },
      "source": [
        "@time_mem_decorator\n",
        "def double_array_vec(a):\n",
        "  return a * 2"
      ],
      "id": "AlA1a8Ptmr9G",
      "execution_count": 6,
      "outputs": []
    },
    {
      "cell_type": "code",
      "metadata": {
        "id": "SygyMeI9nFM2",
        "outputId": "469cdc19-26ce-462d-ef34-75c21c6dcf55",
        "colab": {
          "base_uri": "https://localhost:8080/"
        }
      },
      "source": [
        "a = np.arange(0,1000000) \n",
        "a = double_array_vec(a)"
      ],
      "id": "SygyMeI9nFM2",
      "execution_count": 7,
      "outputs": [
        {
          "output_type": "stream",
          "text": [
            "It took 0.004512310028076172 Secs and 0.0 Mb to execute this function.\n"
          ],
          "name": "stdout"
        }
      ]
    },
    {
      "cell_type": "markdown",
      "metadata": {
        "id": "gBetLKVLoWLv"
      },
      "source": [
        "# Vectorizeren van een Functie"
      ],
      "id": "gBetLKVLoWLv"
    },
    {
      "cell_type": "markdown",
      "metadata": {
        "id": "ZRrNrkrNqz36"
      },
      "source": [
        "Voor deze opdracht voeren we een ingewikkeldere berekening uit met twee grote numpy arrays."
      ],
      "id": "ZRrNrkrNqz36"
    },
    {
      "cell_type": "code",
      "metadata": {
        "id": "persistent-phrase"
      },
      "source": [
        "def complicated_calculation(x,y):\n",
        "  if x > 0.5*y and y < 0.3:\n",
        "      res = sin(x-y)\n",
        "  elif x < 0.5*y:\n",
        "      res = tan(x+y)\n",
        "  elif x > 0.2*y:\n",
        "      res = sin(x)*np.sin(y)\n",
        "  else:\n",
        "      res = cos(x/(0.1+abs(y)))\n",
        "  return res"
      ],
      "id": "persistent-phrase",
      "execution_count": 8,
      "outputs": []
    },
    {
      "cell_type": "code",
      "metadata": {
        "id": "_DC15-AQwBPQ"
      },
      "source": [
        "@time_mem_decorator\n",
        "def get_results(x,y):\n",
        "    results = []\n",
        "    for i in range(len(x)):\n",
        "        x_val = x[i]\n",
        "        y_val = y[i]\n",
        "        results.append(complicated_calculation(x_val,y_val))\n",
        "    return results"
      ],
      "id": "_DC15-AQwBPQ",
      "execution_count": 9,
      "outputs": []
    },
    {
      "cell_type": "code",
      "metadata": {
        "id": "9GUGYlJbouJ-"
      },
      "source": [
        "x = np.random.randn(int(1e6))\n",
        "y = np.random.randn(int(1e6))"
      ],
      "id": "9GUGYlJbouJ-",
      "execution_count": 10,
      "outputs": []
    },
    {
      "cell_type": "code",
      "metadata": {
        "id": "PNIFmYsHpw-_",
        "outputId": "ef2d6fb5-cd67-4f40-b631-6c195b141ca0",
        "colab": {
          "base_uri": "https://localhost:8080/"
        }
      },
      "source": [
        "res = get_results(x,y)"
      ],
      "id": "PNIFmYsHpw-_",
      "execution_count": 11,
      "outputs": [
        {
          "output_type": "stream",
          "text": [
            "It took 1.3677394390106201 Secs and 47.8203125 Mb to execute this function.\n"
          ],
          "name": "stdout"
        }
      ]
    },
    {
      "cell_type": "markdown",
      "metadata": {
        "id": "QQBUWjRBrOnB"
      },
      "source": [
        "Door gebruik te maken van numpy kan het veel sneller. Probeer het zelf!\n",
        "\n",
        "Hint: https://numpy.org/doc/stable/reference/generated/numpy.vectorize.html\n"
      ],
      "id": "QQBUWjRBrOnB"
    },
    {
      "cell_type": "code",
      "metadata": {
        "scrolled": true,
        "id": "significant-comment"
      },
      "source": [
        "@time_mem_decorator\n",
        "def get_results_fast(x,y):"
      ],
      "id": "significant-comment",
      "execution_count": null,
      "outputs": []
    },
    {
      "cell_type": "code",
      "metadata": {
        "id": "automated-revelation"
      },
      "source": [
        "res_fast = get_results_fast(x, y)"
      ],
      "id": "automated-revelation",
      "execution_count": null,
      "outputs": []
    },
    {
      "cell_type": "code",
      "metadata": {
        "id": "Gn7LRECGwrHX"
      },
      "source": [
        ""
      ],
      "id": "Gn7LRECGwrHX",
      "execution_count": null,
      "outputs": []
    }
  ]
}