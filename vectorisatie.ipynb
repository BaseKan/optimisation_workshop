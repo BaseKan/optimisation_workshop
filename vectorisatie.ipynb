{
  "nbformat": 4,
  "nbformat_minor": 5,
  "metadata": {
    "kernelspec": {
      "display_name": "Python 3",
      "language": "python",
      "name": "python3"
    },
    "language_info": {
      "codemirror_mode": {
        "name": "ipython",
        "version": 3
      },
      "file_extension": ".py",
      "mimetype": "text/x-python",
      "name": "python",
      "nbconvert_exporter": "python",
      "pygments_lexer": "ipython3",
      "version": "3.8.7"
    },
    "colab": {
      "name": "vectorisatie.ipynb",
      "provenance": []
    }
  },
  "cells": [
    {
      "cell_type": "markdown",
      "metadata": {
        "id": "supreme-archive"
      },
      "source": [
        "# Setup"
      ],
      "id": "supreme-archive"
    },
    {
      "cell_type": "code",
      "metadata": {
        "id": "superior-essex"
      },
      "source": [
        "import os\n",
        "import pandas as pd\n",
        "import numpy as np"
      ],
      "id": "superior-essex",
      "execution_count": null,
      "outputs": []
    },
    {
      "cell_type": "markdown",
      "metadata": {
        "id": "7lb4lwMBu5Vg"
      },
      "source": [
        "We definieren eerst een decorator functie om het geheugengebruik en de gebruikte tijd te meten.\n",
        "\n",
        "Een decorator is een functie die een andere functie als invoer gebruikt en een aangepaste versie van die functie teruggeeft.\n",
        "\n",
        "In dit geval wordt voor en na de functie aanroep de tijd en het geheugengebruik gemeten, waarna het verschil wordt geprint. Het resultaat van de originele functie wordt aan het einde teruggegeven."
      ],
      "id": "7lb4lwMBu5Vg"
    },
    {
      "cell_type": "code",
      "metadata": {
        "id": "AJTLbkeLthEX"
      },
      "source": [
        "!pip install memory_profiler"
      ],
      "id": "AJTLbkeLthEX",
      "execution_count": null,
      "outputs": []
    },
    {
      "cell_type": "code",
      "metadata": {
        "id": "entitled-crazy"
      },
      "source": [
        "import memory_profiler\n",
        "import time\n",
        "\n",
        "def time_mem_decorator(func):                                                                                            \n",
        "    def out(*args, **kwargs):                                                                                            \n",
        "        m1 = memory_profiler.memory_usage()\n",
        "        t1 = time.time()\n",
        "        \n",
        "        result = func(*args, **kwargs)\n",
        "        \n",
        "        t2 = time.time()\n",
        "        m2 = memory_profiler.memory_usage()\n",
        "        time_diff = t2 - t1\n",
        "        mem_diff = m2[0] - m1[0]\n",
        "        print(f\"It took {time_diff} Secs and {mem_diff} Mb to execute this function.\")\n",
        "        return(result)\n",
        "    return out  "
      ],
      "id": "entitled-crazy",
      "execution_count": null,
      "outputs": []
    },
    {
      "cell_type": "markdown",
      "metadata": {
        "id": "informal-broadcast"
      },
      "source": [
        "# Berekening met een for loop"
      ],
      "id": "informal-broadcast"
    },
    {
      "cell_type": "markdown",
      "metadata": {
        "id": "EOJb7O1D6ny5"
      },
      "source": [
        "We definieren een berekening die moet worden uitgevoerd voor alle waardes in een array."
      ],
      "id": "EOJb7O1D6ny5"
    },
    {
      "cell_type": "code",
      "metadata": {
        "id": "Q867MoUQlrwB"
      },
      "source": [
        "@time_mem_decorator\n",
        "def double_array(a):\n",
        "  for i in range(len(a)):\n",
        "    a[i] *= 2\n",
        "\n",
        "  return a"
      ],
      "id": "Q867MoUQlrwB",
      "execution_count": null,
      "outputs": []
    },
    {
      "cell_type": "code",
      "metadata": {
        "id": "PK6L5z7FmaS4"
      },
      "source": [
        "a = np.arange(0,1000000) \n",
        "a = double_array(a)"
      ],
      "id": "PK6L5z7FmaS4",
      "execution_count": null,
      "outputs": []
    },
    {
      "cell_type": "markdown",
      "metadata": {
        "id": "uV2MH0n3nSUl"
      },
      "source": [
        "Dit soort simpele operaties kunnen in veel talen in 1 keer worden uitgevoerd over alle waardes in de array. Je computer heeft hier vector operaties voor, waardoor waardoor een operatie voor meerdere waardes in een vector (array) parallel wordt uitgevoerd. "
      ],
      "id": "uV2MH0n3nSUl"
    },
    {
      "cell_type": "code",
      "metadata": {
        "id": "AlA1a8Ptmr9G"
      },
      "source": [
        "@time_mem_decorator\n",
        "def double_array_vec(a):\n",
        "  return a * 2"
      ],
      "id": "AlA1a8Ptmr9G",
      "execution_count": null,
      "outputs": []
    },
    {
      "cell_type": "code",
      "metadata": {
        "id": "SygyMeI9nFM2"
      },
      "source": [
        "a = np.arange(0,1000000) \n",
        "a = double_array_vec(a)"
      ],
      "id": "SygyMeI9nFM2",
      "execution_count": null,
      "outputs": []
    },
    {
      "cell_type": "markdown",
      "metadata": {
        "id": "gBetLKVLoWLv"
      },
      "source": [
        "# Arrays vermenigvuldigen"
      ],
      "id": "gBetLKVLoWLv"
    },
    {
      "cell_type": "markdown",
      "metadata": {
        "id": "ZRrNrkrNqz36"
      },
      "source": [
        "We vermenigvuldigen twee 2D arrays met elkaar per element. Dit kan met een geneste for loop.  "
      ],
      "id": "ZRrNrkrNqz36"
    },
    {
      "cell_type": "code",
      "metadata": {
        "id": "persistent-phrase"
      },
      "source": [
        "@time_mem_decorator\n",
        "def array_mult(x,y):\n",
        "    for i in range(x.shape[0]):\n",
        "        for j in range(x.shape[1]):\n",
        "            x[i,j] *= y[i,j]\n",
        "    return x"
      ],
      "id": "persistent-phrase",
      "execution_count": null,
      "outputs": []
    },
    {
      "cell_type": "code",
      "metadata": {
        "id": "9GUGYlJbouJ-"
      },
      "source": [
        "x = np.arange(0,10000).reshape(100, 100)\n",
        "y = np.arange(10000, 20000).reshape(100, 100)"
      ],
      "id": "9GUGYlJbouJ-",
      "execution_count": null,
      "outputs": []
    },
    {
      "cell_type": "code",
      "metadata": {
        "id": "PNIFmYsHpw-_"
      },
      "source": [
        "result = array_mult(x, y)"
      ],
      "id": "PNIFmYsHpw-_",
      "execution_count": null,
      "outputs": []
    },
    {
      "cell_type": "markdown",
      "metadata": {
        "id": "QQBUWjRBrOnB"
      },
      "source": [
        "Door gebruik te maken van numpy kan het veel sneller. Probeer het zelf!"
      ],
      "id": "QQBUWjRBrOnB"
    },
    {
      "cell_type": "code",
      "metadata": {
        "scrolled": true,
        "id": "significant-comment"
      },
      "source": [
        "@time_mem_decorator\n",
        "def array_mult_fast(x,y):\n",
        "    "
      ],
      "id": "significant-comment",
      "execution_count": null,
      "outputs": []
    },
    {
      "cell_type": "code",
      "metadata": {
        "id": "automated-revelation"
      },
      "source": [
        ""
      ],
      "id": "automated-revelation",
      "execution_count": null,
      "outputs": []
    }
  ]
}