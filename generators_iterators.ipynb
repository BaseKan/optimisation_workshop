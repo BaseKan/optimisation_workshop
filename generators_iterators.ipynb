{
  "nbformat": 4,
  "nbformat_minor": 0,
  "metadata": {
    "kernelspec": {
      "display_name": "Python 3",
      "language": "python",
      "name": "python3"
    },
    "language_info": {
      "codemirror_mode": {
        "name": "ipython",
        "version": 3
      },
      "file_extension": ".py",
      "mimetype": "text/x-python",
      "name": "python",
      "nbconvert_exporter": "python",
      "pygments_lexer": "ipython3",
      "version": "3.8.7"
    },
    "colab": {
      "name": "generators_iterators.ipynb",
      "provenance": [],
      "include_colab_link": true
    }
  },
  "cells": [
    {
      "cell_type": "markdown",
      "metadata": {
        "id": "view-in-github",
        "colab_type": "text"
      },
      "source": [
        "<a href=\"https://colab.research.google.com/github/BaseKan/optimisation_workshop/blob/main/generators_iterators.ipynb\" target=\"_parent\"><img src=\"https://colab.research.google.com/assets/colab-badge.svg\" alt=\"Open In Colab\"/></a>"
      ]
    },
    {
      "cell_type": "markdown",
      "metadata": {
        "id": "_ZOPXD1_aCO5"
      },
      "source": [
        "# Setup"
      ]
    },
    {
      "cell_type": "code",
      "metadata": {
        "id": "pCU5uBIlaCPA"
      },
      "source": [
        "import os\n",
        "import sys"
      ],
      "execution_count": null,
      "outputs": []
    },
    {
      "cell_type": "code",
      "metadata": {
        "id": "4qBa1N1oOg4O"
      },
      "source": [
        "!pip install memory_profiler"
      ],
      "execution_count": null,
      "outputs": []
    },
    {
      "cell_type": "code",
      "metadata": {
        "id": "ujQn_WNPaCPB"
      },
      "source": [
        "import memory_profiler\n",
        "import time\n",
        "\n",
        "def time_mem_decorator(func):                                                                                            \n",
        "    def out(*args, **kwargs):                                                                                            \n",
        "        m1 = memory_profiler.memory_usage()\n",
        "        t1 = time.time()\n",
        "        \n",
        "        result = func(*args, **kwargs)\n",
        "        \n",
        "        t2 = time.time()\n",
        "        m2 = memory_profiler.memory_usage()\n",
        "        time_diff = t2 - t1\n",
        "        mem_diff = m2[0] - m1[0]\n",
        "        print(f\"It took {time_diff} Secs and {mem_diff} Mb to execute this function.\")\n",
        "        return(result)\n",
        "    return out  \n"
      ],
      "execution_count": null,
      "outputs": []
    },
    {
      "cell_type": "markdown",
      "metadata": {
        "id": "ZrpLI9kNaFui"
      },
      "source": [
        "We definieren nu ook een functie om over een object te itereren. Dit kan alleen als het object een iterable is. Dit houdt in dat je het object kan gebruiken als een iterator. Dit kan bijvoorbeeld met een lijst of dictionary. Er volgt eerst een voorbeeld."
      ]
    },
    {
      "cell_type": "code",
      "metadata": {
        "id": "7KL4S8HsQvdb"
      },
      "source": [
        "iterable = [1, 2, 3, 4, 5]\n",
        "# Maak van de lijst een iterator\n",
        "iterator = iter(iterable)\n",
        "# Vraag het volgende item op\n",
        "print(next(iterator))\n",
        "print(next(iterator))"
      ],
      "execution_count": null,
      "outputs": []
    },
    {
      "cell_type": "markdown",
      "metadata": {
        "id": "3aJ1nY2nRUGm"
      },
      "source": [
        "Als je een for loop gebruikt met een iterable wordt het maken van een iterator en aanroepen van *next* voor je gedaan."
      ]
    },
    {
      "cell_type": "code",
      "metadata": {
        "id": "wO8cQN9EaCPB"
      },
      "source": [
        "@time_mem_decorator\n",
        "def iterate(result):\n",
        "    for r in result:\n",
        "        print(r)"
      ],
      "execution_count": null,
      "outputs": []
    },
    {
      "cell_type": "markdown",
      "metadata": {
        "id": "lK2T-Ge_aCPC"
      },
      "source": [
        "# Fibbonaci"
      ]
    },
    {
      "cell_type": "markdown",
      "metadata": {
        "id": "Ns-17SRXP5Gy"
      },
      "source": [
        "We kunnen om gebruik te maken van de fibbonaci reeks een lijst vullen met de getallen."
      ]
    },
    {
      "cell_type": "code",
      "metadata": {
        "scrolled": false,
        "id": "hoz4ijRbaCPC"
      },
      "source": [
        "@time_mem_decorator\n",
        "def fibb_function(max):\n",
        "    fibb = [0, 1]\n",
        "    a = 0\n",
        "    b = 1\n",
        "    for i in range(max):\n",
        "        a, b = b, a + b\n",
        "        fibb.append(b)\n",
        "    return fibb"
      ],
      "execution_count": null,
      "outputs": []
    },
    {
      "cell_type": "code",
      "metadata": {
        "scrolled": true,
        "id": "I1yPiMUwaCPC"
      },
      "source": [
        "fibb_list = fibb_function(5000)"
      ],
      "execution_count": null,
      "outputs": []
    },
    {
      "cell_type": "code",
      "metadata": {
        "scrolled": true,
        "id": "g7LH4T1QaCPC"
      },
      "source": [
        "print(iterate(fibb_list))"
      ],
      "execution_count": null,
      "outputs": []
    },
    {
      "cell_type": "code",
      "metadata": {
        "id": "Pz7vVnFGaCPD"
      },
      "source": [
        "# Needed to reset the kernel for a good comparison.\n",
        "os._exit(00)"
      ],
      "execution_count": null,
      "outputs": []
    },
    {
      "cell_type": "code",
      "metadata": {
        "id": "pnwjaYYwaCPE"
      },
      "source": [
        "import memory_profiler\n",
        "import time\n",
        "\n",
        "def time_mem_decorator(func):                                                                                            \n",
        "    def out(*args, **kwargs):                                                                                            \n",
        "        m1 = memory_profiler.memory_usage()\n",
        "        t1 = time.time()\n",
        "        \n",
        "        result = func(*args, **kwargs)\n",
        "        \n",
        "        t2 = time.time()\n",
        "        m2 = memory_profiler.memory_usage()\n",
        "        time_diff = t2 - t1\n",
        "        mem_diff = m2[0] - m1[0]\n",
        "        print(f\"It took {time_diff} Secs and {mem_diff} Mb to execute this function.\")\n",
        "        return(result)\n",
        "    return out  \n"
      ],
      "execution_count": null,
      "outputs": []
    },
    {
      "cell_type": "code",
      "metadata": {
        "id": "iIABtXkcaCPF"
      },
      "source": [
        "@time_mem_decorator\n",
        "def iterate(result):\n",
        "    for r in result:\n",
        "        print(r)"
      ],
      "execution_count": null,
      "outputs": []
    },
    {
      "cell_type": "markdown",
      "metadata": {
        "id": "XazN4cLCbGOF"
      },
      "source": [
        "Om het geheuegen gebruik terug te dringen, kunnen we een generator gebruiken. Om van deze functie een generator te maken vervangen we *return* voor *yield*. Het uitvoeren van deze functie geeft nu geen lijst terug, maar een generator object. Dit lijkt erg op een iterable, maar is een stuk flexibeler. Je kan namelijk van vrijwel elke functie een generator maken. \n",
        "\n",
        "Als je *next* aanroept met een generator, wordt de functie uitgevoerd tot de volgende *yield* instructie. Er wordt net als bij *return* iets teruggeven en de functie stopt. De status wordt echter onthouden en bij de volgende aanroep van *next* gaat de functie weer verder waar die gebleven was tot de volgende *yield* instructie."
      ]
    },
    {
      "cell_type": "code",
      "metadata": {
        "id": "48cb5CNjS2fy"
      },
      "source": [
        "def test_generator():\n",
        "  yield \"1 keer aangeroepen\"\n",
        "  yield \"2 keer aangeroepen\"\n",
        "\n",
        "generator = test_generator()\n",
        "print(next(generator))\n",
        "print(next(generator))"
      ],
      "execution_count": null,
      "outputs": []
    },
    {
      "cell_type": "code",
      "metadata": {
        "id": "iYhg8lZcTUM5"
      },
      "source": [
        "print(next(generator))"
      ],
      "execution_count": null,
      "outputs": []
    },
    {
      "cell_type": "markdown",
      "metadata": {
        "id": "uOyW6QpRTX8a"
      },
      "source": [
        "Zoals je ziet begint de generator niet opnieuw als die aan het einde is, maar geeft die een error. Om opnieuw te beginnen moet je hem weer opnieuw aanmaken.\n",
        "\n",
        "Daarnaast kun je voor iterators en generators geen willekeurige objecten erin opvragen met de index, maar enkel in een vaste volgorde erdoorheen lopen. Ze zijn dus niet voor elk doel geschikt!"
      ]
    },
    {
      "cell_type": "code",
      "metadata": {
        "id": "g2nca6KGaCPF"
      },
      "source": [
        "@time_mem_decorator\n",
        "def fibb_generator(max):\n",
        "    a = 0\n",
        "    b = 1\n",
        "    for i in range(max):\n",
        "        yield b\n",
        "        a, b = b, a + b\n",
        "        \n"
      ],
      "execution_count": null,
      "outputs": []
    },
    {
      "cell_type": "code",
      "metadata": {
        "scrolled": false,
        "id": "xTburBVaaCPF"
      },
      "source": [
        "my_generator = fibb_generator(5000)"
      ],
      "execution_count": null,
      "outputs": []
    },
    {
      "cell_type": "code",
      "metadata": {
        "id": "-h3RK0uXWyKY"
      },
      "source": [
        "print(next(iter(my_generator)))"
      ],
      "execution_count": null,
      "outputs": []
    },
    {
      "cell_type": "code",
      "metadata": {
        "id": "ix3BepNtXMaO"
      },
      "source": [
        "my_generator = fibb_generator(5000)"
      ],
      "execution_count": null,
      "outputs": []
    },
    {
      "cell_type": "code",
      "metadata": {
        "scrolled": true,
        "id": "g0CtYCFmaCPG"
      },
      "source": [
        "iterate(my_generator)"
      ],
      "execution_count": null,
      "outputs": []
    },
    {
      "cell_type": "markdown",
      "metadata": {
        "id": "hJNJ2h3KaCPG"
      },
      "source": [
        "# CSV bestand uitlezen"
      ]
    },
    {
      "cell_type": "markdown",
      "metadata": {
        "id": "SJCAyANwUQOz"
      },
      "source": [
        "Voor deze opdracht gaan we het aantal regels in een csv bestand tellen."
      ]
    },
    {
      "cell_type": "code",
      "metadata": {
        "id": "oLbpG5JBbC_V"
      },
      "source": [
        "import os\n",
        "import pandas as pd\n",
        "import csv\n",
        "import sys\n",
        "csv.field_size_limit(sys.maxsize)"
      ],
      "execution_count": null,
      "outputs": []
    },
    {
      "cell_type": "markdown",
      "metadata": {
        "id": "H2eXz6YPaCPG"
      },
      "source": [
        "Download de csv files"
      ]
    },
    {
      "cell_type": "code",
      "metadata": {
        "id": "whTeAHjSaCPG"
      },
      "source": [
        "!curl -L -c cookies.txt 'https://docs.google.com/uc?export=download&id=1DhyJdebnB6zwV5Jce1TgTO8PwfNtwn7P' | sed -rn 's/.*confirm=([0-9A-Za-z_]+).*/\\1/p' > confirm.txt\n",
        "!curl -L -b cookies.txt -o 'en-books-dataset.zip' 'https://docs.google.com/uc?export=download&id=1DhyJdebnB6zwV5Jce1TgTO8PwfNtwn7P&confirm='$(<confirm.txt)\n",
        "!unzip en-books-dataset.zip\n",
        "!rm -f confirm.txt cookies.txt en-books-dataset.zip"
      ],
      "execution_count": null,
      "outputs": []
    },
    {
      "cell_type": "code",
      "metadata": {
        "scrolled": true,
        "id": "AEVwFH3taCPH"
      },
      "source": [
        "!ls"
      ],
      "execution_count": null,
      "outputs": []
    },
    {
      "cell_type": "markdown",
      "metadata": {
        "id": "6Ao6pPo9aCPH"
      },
      "source": [
        "Een naïve oplossing is het bestand volledig inlezen en vervolgens het aantal rijen teruggeven door naar de shape te kijken,"
      ]
    },
    {
      "cell_type": "code",
      "metadata": {
        "id": "ckRBx8BuaCPH"
      },
      "source": [
        "def naive_csv_reader(filename):\n",
        "    result = pd.read_csv(filename)\n",
        "    return result"
      ],
      "execution_count": null,
      "outputs": []
    },
    {
      "cell_type": "code",
      "metadata": {
        "id": "7Da5_s46aCPH"
      },
      "source": [
        "@time_mem_decorator\n",
        "def naive_row_count(filename):\n",
        "    result = naive_csv_reader(filename)\n",
        "    rows = result.shape[0]\n",
        "    return f\"There are {rows} rows in the csv file.\""
      ],
      "execution_count": null,
      "outputs": []
    },
    {
      "cell_type": "code",
      "metadata": {
        "id": "CW3VOmO7aCPH"
      },
      "source": [
        "naive_row_count('en-books-dataset.csv')"
      ],
      "execution_count": null,
      "outputs": []
    },
    {
      "cell_type": "markdown",
      "metadata": {
        "id": "wwt5d3DoaCPI"
      },
      "source": [
        "Schrijf een snellere methode om het aantal regels te tellen. De meeste tijd zit hem in het volledig inlezen van de data. Met een generator kun je dit voorkomen. \n",
        "\n",
        "Gebruik in fast_csv_reader de *csv.reader* functie. \n",
        "\n",
        "Hint: https://docs.python.org/3/library/csv.html"
      ]
    },
    {
      "cell_type": "code",
      "metadata": {
        "id": "jziTht68aCPI"
      },
      "source": [
        "def fast_csv_reader(filename):\n",
        "    with open(filename, 'r') as csv_file:\n",
        "        # YOUR CODE HERE"
      ],
      "execution_count": null,
      "outputs": []
    },
    {
      "cell_type": "code",
      "metadata": {
        "id": "FBgH7NfTaCPI"
      },
      "source": [
        "@time_mem_decorator\n",
        "def fast_row_count(filename):\n",
        "  # YOUR CODE HERE"
      ],
      "execution_count": null,
      "outputs": []
    }
  ]
}