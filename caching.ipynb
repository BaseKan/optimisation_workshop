{
 "cells": [
  {
   "cell_type": "markdown",
   "id": "foster-converter",
   "metadata": {},
   "source": [
    "# Setup"
   ]
  },
  {
   "cell_type": "code",
   "execution_count": null,
   "id": "plain-violence",
   "metadata": {},
   "outputs": [],
   "source": [
    "import os\n",
    "import pandas as pd\n",
    "import csv\n",
    "import sys\n",
    "import functools\n",
    "import numpy as np"
   ]
  },
  {
   "cell_type": "code",
   "execution_count": null,
   "id": "ideal-firewall",
   "metadata": {},
   "outputs": [],
   "source": [
    "import memory_profiler\n",
    "import time\n",
    "\n",
    "def time_mem_decorator(func):                                                                                            \n",
    "    def out(*args, **kwargs):                                                                                            \n",
    "        m1 = memory_profiler.memory_usage()\n",
    "        t1 = time.time()\n",
    "        \n",
    "        result = func(*args, **kwargs)\n",
    "        \n",
    "        t2 = time.time()\n",
    "        m2 = memory_profiler.memory_usage()\n",
    "        time_diff = t2 - t1\n",
    "        mem_diff = m2[0] - m1[0]\n",
    "        print(f\"It took {time_diff} Secs and {mem_diff} Mb to execute this function.\")\n",
    "        return(result)\n",
    "    return out  "
   ]
  },
  {
   "cell_type": "markdown",
   "id": "statewide-attempt",
   "metadata": {},
   "source": [
    "# Least Recently Used"
   ]
  },
  {
   "cell_type": "code",
   "execution_count": null,
   "id": "particular-chocolate",
   "metadata": {},
   "outputs": [],
   "source": [
    "@time_mem_decorator\n",
    "@functools.lru_cache(maxsize=4)\n",
    "def myfunc(x):\n",
    "    time.sleep(2)\n",
    "    \n",
    "    return x"
   ]
  },
  {
   "cell_type": "code",
   "execution_count": null,
   "id": "seven-cosmetic",
   "metadata": {},
   "outputs": [],
   "source": [
    "myfunc(1)"
   ]
  },
  {
   "cell_type": "code",
   "execution_count": null,
   "id": "featured-necklace",
   "metadata": {},
   "outputs": [],
   "source": [
    "myfunc(1)"
   ]
  },
  {
   "cell_type": "code",
   "execution_count": null,
   "id": "aggregate-indicator",
   "metadata": {},
   "outputs": [],
   "source": [
    "myfunc(2)"
   ]
  },
  {
   "cell_type": "code",
   "execution_count": null,
   "id": "alive-tribe",
   "metadata": {},
   "outputs": [],
   "source": [
    "myfunc(3)"
   ]
  },
  {
   "cell_type": "code",
   "execution_count": null,
   "id": "valuable-roller",
   "metadata": {
    "scrolled": true
   },
   "outputs": [],
   "source": [
    "myfunc(4)"
   ]
  },
  {
   "cell_type": "code",
   "execution_count": null,
   "id": "accurate-philosophy",
   "metadata": {},
   "outputs": [],
   "source": [
    "myfunc(5)"
   ]
  },
  {
   "cell_type": "code",
   "execution_count": null,
   "id": "specified-color",
   "metadata": {},
   "outputs": [],
   "source": [
    "myfunc(1)"
   ]
  },
  {
   "cell_type": "code",
   "execution_count": null,
   "id": "adapted-washington",
   "metadata": {},
   "outputs": [],
   "source": []
  }
 ],
 "metadata": {
  "kernelspec": {
   "display_name": "Python 3",
   "language": "python",
   "name": "python3"
  },
  "language_info": {
   "codemirror_mode": {
    "name": "ipython",
    "version": 3
   },
   "file_extension": ".py",
   "mimetype": "text/x-python",
   "name": "python",
   "nbconvert_exporter": "python",
   "pygments_lexer": "ipython3",
   "version": "3.8.7"
  }
 },
 "nbformat": 4,
 "nbformat_minor": 5
}
