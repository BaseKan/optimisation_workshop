{
  "nbformat": 4,
  "nbformat_minor": 5,
  "metadata": {
    "kernelspec": {
      "display_name": "Python 3",
      "language": "python",
      "name": "python3"
    },
    "language_info": {
      "codemirror_mode": {
        "name": "ipython",
        "version": 3
      },
      "file_extension": ".py",
      "mimetype": "text/x-python",
      "name": "python",
      "nbconvert_exporter": "python",
      "pygments_lexer": "ipython3",
      "version": "3.8.7"
    },
    "colab": {
      "name": "caching.ipynb",
      "provenance": []
    }
  },
  "cells": [
    {
      "cell_type": "markdown",
      "metadata": {
        "id": "foster-converter"
      },
      "source": [
        "# Setup"
      ],
      "id": "foster-converter"
    },
    {
      "cell_type": "code",
      "metadata": {
        "id": "plain-violence"
      },
      "source": [
        "import os\n",
        "import pandas as pd\n",
        "import csv\n",
        "import sys\n",
        "import functools\n",
        "import numpy as np"
      ],
      "id": "plain-violence",
      "execution_count": null,
      "outputs": []
    },
    {
      "cell_type": "code",
      "metadata": {
        "id": "Qi21K7uPzg8O"
      },
      "source": [
        "!pip install memory_profiler"
      ],
      "id": "Qi21K7uPzg8O",
      "execution_count": null,
      "outputs": []
    },
    {
      "cell_type": "code",
      "metadata": {
        "id": "ideal-firewall"
      },
      "source": [
        "import memory_profiler\n",
        "import time\n",
        "\n",
        "def time_mem_decorator(func):                                                                                            \n",
        "    def out(*args, **kwargs):                                                                                            \n",
        "        m1 = memory_profiler.memory_usage()\n",
        "        t1 = time.time()\n",
        "        \n",
        "        result = func(*args, **kwargs)\n",
        "        \n",
        "        t2 = time.time()\n",
        "        m2 = memory_profiler.memory_usage()\n",
        "        time_diff = t2 - t1\n",
        "        mem_diff = m2[0] - m1[0]\n",
        "        print(f\"It took {time_diff} Secs and {mem_diff} Mb to execute this function.\")\n",
        "        return(result)\n",
        "    return out  "
      ],
      "id": "ideal-firewall",
      "execution_count": null,
      "outputs": []
    },
    {
      "cell_type": "markdown",
      "metadata": {
        "id": "statewide-attempt"
      },
      "source": [
        "# Least Recently Used Cache"
      ],
      "id": "statewide-attempt"
    },
    {
      "cell_type": "markdown",
      "metadata": {
        "id": "48xU4sRninLA"
      },
      "source": [
        "Een manier om ervoor te zorgen dat een programma sneller is, is ervoor zorgen dat er minder werk wordt uitgevoerd. Middels een cache geheugen kan het steeds opnieuw ophalen of uitvoeren van een operatie worden voorkomen, door de uitkomst te \"onthouden\". Je computer heeft hier een speciaal extra snel geheugen voor, waardoor er niet steeds van alles uit RAM moet worden gehaald.\n",
        "\n",
        "We kunnen in python de uitkomst van functies ook cachen. Caching heeft altijd een limiet. Er moet dus op een goede manier bepaald worden wanneer er data uit het cache moet worden verwijderd om ruimte maken voor nieuwe data.\n",
        "\n",
        "Een veel gebruikte strategie (of Cache Eviction Policy) is Least Recently Used. Data die het minst recent gebruikt is wordt dan altijd als eerste verwijderd. \n",
        "\n",
        "Er zijn ook andere policies, zoals First in First Out of Most Recently Used. LRU werkt over het algemeen heel goed en komt daardoor vaak voor. Andere policies werken vaak goed voor hele specifieke situaties en worden daardoor minder gebruikt."
      ],
      "id": "48xU4sRninLA"
    },
    {
      "cell_type": "code",
      "metadata": {
        "id": "particular-chocolate"
      },
      "source": [
        "@time_mem_decorator\n",
        "@functools.lru_cache(maxsize=4)\n",
        "def myfunc(x):\n",
        "    time.sleep(2)\n",
        "    \n",
        "    return x"
      ],
      "id": "particular-chocolate",
      "execution_count": null,
      "outputs": []
    },
    {
      "cell_type": "code",
      "metadata": {
        "id": "seven-cosmetic"
      },
      "source": [
        "myfunc(1)"
      ],
      "id": "seven-cosmetic",
      "execution_count": null,
      "outputs": []
    },
    {
      "cell_type": "code",
      "metadata": {
        "id": "featured-necklace"
      },
      "source": [
        "myfunc(1)"
      ],
      "id": "featured-necklace",
      "execution_count": null,
      "outputs": []
    },
    {
      "cell_type": "code",
      "metadata": {
        "id": "aggregate-indicator"
      },
      "source": [
        "myfunc(2)"
      ],
      "id": "aggregate-indicator",
      "execution_count": null,
      "outputs": []
    },
    {
      "cell_type": "code",
      "metadata": {
        "id": "alive-tribe"
      },
      "source": [
        "myfunc(3)"
      ],
      "id": "alive-tribe",
      "execution_count": null,
      "outputs": []
    },
    {
      "cell_type": "code",
      "metadata": {
        "scrolled": true,
        "id": "valuable-roller"
      },
      "source": [
        "myfunc(4)"
      ],
      "id": "valuable-roller",
      "execution_count": null,
      "outputs": []
    },
    {
      "cell_type": "code",
      "metadata": {
        "id": "accurate-philosophy"
      },
      "source": [
        "myfunc(5)"
      ],
      "id": "accurate-philosophy",
      "execution_count": null,
      "outputs": []
    },
    {
      "cell_type": "code",
      "metadata": {
        "id": "specified-color"
      },
      "source": [
        "myfunc(1)"
      ],
      "id": "specified-color",
      "execution_count": null,
      "outputs": []
    },
    {
      "cell_type": "code",
      "metadata": {
        "id": "adapted-washington"
      },
      "source": [
        ""
      ],
      "id": "adapted-washington",
      "execution_count": null,
      "outputs": []
    }
  ]
}